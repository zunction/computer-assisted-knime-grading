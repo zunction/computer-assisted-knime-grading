{
 "cells": [
  {
   "cell_type": "markdown",
   "id": "e70b7be7",
   "metadata": {},
   "source": [
    "From Tien Chern\n",
    "\n",
    "Learning objective for Lab 5 task 1\n",
    "- Able to perform basic data preparation\n",
    "1. Read in data of CSV format\n",
    "2. Rename variable\n",
    "3. Join 2 data tables: Joiner\n",
    "4. Concatenate 2 data tables: Concatenate\n",
    "\n",
    "- Able to perform basic data cleaning\n",
    "1. Manipulate String type data\n",
    "2. Filtering rows\n",
    "3. Filtering columns\n",
    "\n",
    "- Able to perform basic data transformation\n",
    "1. Cast proper data type\n",
    "2. Bin numerica data to groups\n"
   ]
  },
  {
   "cell_type": "code",
   "execution_count": 1,
   "id": "7647866a",
   "metadata": {},
   "outputs": [],
   "source": [
    "import pandas as pd\n",
    "from pathlib import Path\n",
    "import os\n",
    "import glob\n",
    "# from utils import collect_workflow_outputs, compare_COT_annotation, assisted_question_inference, workflowgrader\n",
    "from utils import workflowgrader"
   ]
  },
  {
   "cell_type": "code",
   "execution_count": 2,
   "id": "573b2f50",
   "metadata": {},
   "outputs": [],
   "source": [
    "workspace = r\"C:\\Users\\s11006381\\knime-workspace\\small_gradespace\""
   ]
  },
  {
   "cell_type": "code",
   "execution_count": 3,
   "id": "08e6bbbe",
   "metadata": {},
   "outputs": [],
   "source": [
    "gradespace_dir_list = glob.glob(os.path.join(workspace,'[0-9]*'))"
   ]
  },
  {
   "cell_type": "code",
   "execution_count": 4,
   "id": "97bbefc2",
   "metadata": {},
   "outputs": [
    {
     "data": {
      "text/plain": [
       "['.metadata',\n",
       " '11006381_complete',\n",
       " '11006381_complete_more',\n",
       " '11006381_partial_correct',\n",
       " 'C5_Lab5_Task1_Data_prep_clean',\n",
       " 'C5_Lab5_Task1_Data_prep_clean_with_COT',\n",
       " 'Example Workflows',\n",
       " 'KNIME_project']"
      ]
     },
     "execution_count": 4,
     "metadata": {},
     "output_type": "execute_result"
    }
   ],
   "source": [
    "os.listdir(workspace)"
   ]
  },
  {
   "cell_type": "markdown",
   "id": "8e3c4fee",
   "metadata": {},
   "source": [
    "### Initialise workflowgrader \n",
    "\n",
    "To initialise a workflowgrader, we require the location of the workspace and the reference workflow which the grading is based on. Initialisation involves executing the reference workflow once to collect the reference outputs used for grading."
   ]
  },
  {
   "cell_type": "code",
   "execution_count": 5,
   "id": "48885f22",
   "metadata": {},
   "outputs": [],
   "source": [
    "wfg = workflowgrader(workspace,'C5_Lab5_Task1_Data_prep_clean_with_COT')"
   ]
  },
  {
   "cell_type": "markdown",
   "id": "e7c7614c",
   "metadata": {},
   "source": [
    "The `.ref_workflow` allows you to check the reference workflow used for grading."
   ]
  },
  {
   "cell_type": "code",
   "execution_count": 6,
   "id": "5ac1d0b0",
   "metadata": {},
   "outputs": [
    {
     "data": {
      "text/plain": [
       "'C5_Lab5_Task1_Data_prep_clean_with_COT'"
      ]
     },
     "execution_count": 6,
     "metadata": {},
     "output_type": "execute_result"
    }
   ],
   "source": [
    "wfg.ref_workflow"
   ]
  },
  {
   "cell_type": "markdown",
   "id": "023b258e",
   "metadata": {},
   "source": [
    "The `.ref_output` returns the outputs which are collected from the reference workflow."
   ]
  },
  {
   "cell_type": "code",
   "execution_count": 7,
   "id": "005b38b3",
   "metadata": {},
   "outputs": [
    {
     "data": {
      "text/plain": [
       "{'output_1':         age  EstWeight  education-num  capital-gain  capital-loss  \\\n",
       " 0    middle     121772             11             0             0   \n",
       " 1    middle      84154             10             0             0   \n",
       " 2    middle     293936              4             0             0   \n",
       " 3    middle     117747              9             0          1573   \n",
       " 4    middle     153141              9             0             0   \n",
       " ..      ...        ...            ...           ...           ...   \n",
       " 451  middle     191196             13             0          1977   \n",
       " 452  middle     199590              3             0             0   \n",
       " 453  middle      71556             14             0             0   \n",
       " 454  middle     217597              9             0             0   \n",
       " 455  middle     107302              9             0             0   \n",
       " \n",
       "      hours-per-week(new)  \n",
       " 0                     40  \n",
       " 1                     38  \n",
       " 2                     40  \n",
       " 3                     35  \n",
       " 4                     40  \n",
       " ..                   ...  \n",
       " 451                   60  \n",
       " 452                   40  \n",
       " 453                   50  \n",
       " 454                   50  \n",
       " 455                   45  \n",
       " \n",
       " [456 rows x 6 columns],\n",
       " 'output_2':       age  EstWeight  education  education-num         marital-status  \\\n",
       " 0      53     234721       11th              7     Married-civ-spouse   \n",
       " 1      49     160187        9th              5  Married-spouse-absent   \n",
       " 2      34     245487    7th-8th              4     Married-civ-spouse   \n",
       " 3      38      28887       11th              7     Married-civ-spouse   \n",
       " 4      35      76845        9th              5     Married-civ-spouse   \n",
       " ...   ...        ...        ...            ...                    ...   \n",
       " 4697   44      71556    Masters             14     Married-civ-spouse   \n",
       " 4698   58     181974  Doctorate             16          Never-married   \n",
       " 4699   42     217597    HS-grad              9               Divorced   \n",
       " 4700   39     107302    HS-grad              9     Married-civ-spouse   \n",
       " 4701   81     120478  Assoc-voc             11               Divorced   \n",
       " \n",
       "              occupation   relationship                race     sex  \\\n",
       " 0     Handlers-cleaners        Husband               Black    Male   \n",
       " 1         Other-service  Not-in-family               Black  Female   \n",
       " 2      Transport-moving        Husband  Amer-Indian-Eskimo    Male   \n",
       " 3                 Sales        Husband               White    Male   \n",
       " 4       Farming-fishing        Husband               Black    Male   \n",
       " ...                 ...            ...                 ...     ...   \n",
       " 4697              Sales        Husband               White    Male   \n",
       " 4698     Prof-specialty  Not-in-family               White  Female   \n",
       " 4699              Sales      Own-child               White    Male   \n",
       " 4700     Prof-specialty        Husband               White    Male   \n",
       " 4701               None      Unmarried               White  Female   \n",
       " \n",
       "       capital-gain  capital-loss hours-per-week native-country income  \\\n",
       " 0                0             0          40hpw  United-States  <=50K   \n",
       " 1                0             0          16hpw        Jamaica  <=50K   \n",
       " 2                0             0          45hpw         Mexico  <=50K   \n",
       " 3                0             0          50hpw  United-States  <=50K   \n",
       " 4                0             0          40hpw  United-States  <=50K   \n",
       " ...            ...           ...            ...            ...    ...   \n",
       " 4697             0             0          50hpw           None   >50K   \n",
       " 4698             0             0          99hpw           None  <=50K   \n",
       " 4699             0             0          50hpw           None  <=50K   \n",
       " 4700             0             0          45hpw           None   >50K   \n",
       " 4701             0             0           1hpw           None  <=50K   \n",
       " \n",
       "              workclass  hours-per-week(new)  \n",
       " 0              Private                   40  \n",
       " 1              Private                   16  \n",
       " 2              Private                   45  \n",
       " 3              Private                   50  \n",
       " 4          Federal-gov                   40  \n",
       " ...                ...                  ...  \n",
       " 4697      Self-emp-inc                   50  \n",
       " 4698      Self-emp-inc                   99  \n",
       " 4699  Self-emp-not-inc                   50  \n",
       " 4700           Private                   45  \n",
       " 4701              None                    1  \n",
       " \n",
       " [4702 rows x 16 columns]}"
      ]
     },
     "execution_count": 7,
     "metadata": {},
     "output_type": "execute_result"
    }
   ],
   "source": [
    "wfg.ref_output"
   ]
  },
  {
   "cell_type": "markdown",
   "id": "1cdfd65a",
   "metadata": {},
   "source": [
    "The `.ref_node_dist` returns a dictionary of the various nodes used in the refence workflow with their respective counts."
   ]
  },
  {
   "cell_type": "code",
   "execution_count": 8,
   "id": "869a7f8f",
   "metadata": {},
   "outputs": [
    {
     "data": {
      "text/plain": [
       "{'CSV Reader': 2,\n",
       " 'Column Filter': 1,\n",
       " 'Concatenate': 1,\n",
       " 'Container Output _Table_': 2,\n",
       " 'Joiner': 1,\n",
       " 'Nominal Value Row Filter': 1,\n",
       " 'Numeric Binner': 1,\n",
       " 'Reference Column Filter': 1,\n",
       " 'Reference Row Filter': 1,\n",
       " 'Row Filter': 2,\n",
       " 'String Manipulation': 1,\n",
       " 'String To Number': 1}"
      ]
     },
     "execution_count": 8,
     "metadata": {},
     "output_type": "execute_result"
    }
   ],
   "source": [
    "wfg.ref_node_dist"
   ]
  },
  {
   "cell_type": "markdown",
   "id": "103c8ad7",
   "metadata": {},
   "source": [
    "### Data collection"
   ]
  },
  {
   "cell_type": "markdown",
   "id": "080164de",
   "metadata": {},
   "source": [
    "The `.accumulate_workflow_nodes()` method collects data on the various nodes used in a workflow and can be accessed by `.sub_node_dists`."
   ]
  },
  {
   "cell_type": "code",
   "execution_count": 9,
   "id": "5f3ffa6d",
   "metadata": {},
   "outputs": [
    {
     "name": "stderr",
     "output_type": "stream",
     "text": [
      "100%|██████████████████████████████████████████████████████████████████████████████████████████████████████| 3/3 [00:00<00:00, 446.00it/s]"
     ]
    },
    {
     "name": "stdout",
     "output_type": "stream",
     "text": [
      "Wall time: 22.8 ms\n"
     ]
    },
    {
     "name": "stderr",
     "output_type": "stream",
     "text": [
      "\n"
     ]
    }
   ],
   "source": [
    "%%time\n",
    "awn = wfg.accumulate_workflow_nodes()"
   ]
  },
  {
   "cell_type": "code",
   "execution_count": 10,
   "id": "e63fbee0",
   "metadata": {},
   "outputs": [
    {
     "data": {
      "text/plain": [
       "{'11006381_complete': {'CSV Reader': 2,\n",
       "  'Column Filter': 1,\n",
       "  'Concatenate': 1,\n",
       "  'Container Output _Table_': 2,\n",
       "  'Joiner': 1,\n",
       "  'Nominal Value Row Filter': 1,\n",
       "  'Numeric Binner': 1,\n",
       "  'Reference Column Filter': 1,\n",
       "  'Reference Row Filter': 1,\n",
       "  'Row Filter': 2,\n",
       "  'String Manipulation': 1,\n",
       "  'String To Number': 1},\n",
       " '11006381_complete_more': {'CSV Reader': 2,\n",
       "  'Column Filter': 1,\n",
       "  'Concatenate': 1,\n",
       "  'Container Output _Table_': 3,\n",
       "  'Joiner': 1,\n",
       "  'Nominal Value Row Filter': 1,\n",
       "  'Numeric Binner': 1,\n",
       "  'Reference Column Filter': 1,\n",
       "  'Reference Row Filter': 1,\n",
       "  'Row Filter': 2,\n",
       "  'String Manipulation': 1,\n",
       "  'String To Number': 1},\n",
       " '11006381_partial_correct': {'CSV Reader': 2,\n",
       "  'Column Filter': 1,\n",
       "  'Container Output _Table_': 1,\n",
       "  'Joiner': 1,\n",
       "  'Nominal Value Row Filter': 1,\n",
       "  'Numeric Binner': 1,\n",
       "  'Reference Column Filter': 1,\n",
       "  'Row Filter': 1,\n",
       "  'String Manipulation': 1,\n",
       "  'String To Number': 1,\n",
       "  'Concatenate': 0,\n",
       "  'Reference Row Filter': 0}}"
      ]
     },
     "execution_count": 10,
     "metadata": {},
     "output_type": "execute_result"
    }
   ],
   "source": [
    "wfg.sub_node_dists"
   ]
  },
  {
   "cell_type": "markdown",
   "id": "893a7a42",
   "metadata": {},
   "source": [
    "The `.accumulate_workflow_outputs()` method collects all the outputs of the COT nodes from the workflows to be graded"
   ]
  },
  {
   "cell_type": "code",
   "execution_count": 11,
   "id": "b1c0b896",
   "metadata": {},
   "outputs": [
    {
     "name": "stderr",
     "output_type": "stream",
     "text": [
      "100%|███████████████████████████████████████████████████████████████████████████████████████████████████████| 3/3 [00:25<00:00,  8.54s/it]"
     ]
    },
    {
     "name": "stdout",
     "output_type": "stream",
     "text": [
      "Wall time: 25.6 s\n"
     ]
    },
    {
     "name": "stderr",
     "output_type": "stream",
     "text": [
      "\n"
     ]
    }
   ],
   "source": [
    "%%time\n",
    "_, _ = wfg.accumulate_workflow_outputs()"
   ]
  },
  {
   "cell_type": "markdown",
   "id": "1cd973fd",
   "metadata": {},
   "source": [
    "The collected outputs can be accessed with `.sub_outputs` and `.sub_data_paths`"
   ]
  },
  {
   "cell_type": "code",
   "execution_count": 12,
   "id": "888b42f3",
   "metadata": {},
   "outputs": [
    {
     "data": {
      "text/plain": [
       "{'11006381_complete': {'output1':         age  fnlwgt  education-num  capital-gain  capital-loss  \\\n",
       "  0    middle  121772             11             0             0   \n",
       "  1    middle   84154             10             0             0   \n",
       "  2    middle  293936              4             0             0   \n",
       "  3    middle  117747              9             0          1573   \n",
       "  4    middle  153141              9             0             0   \n",
       "  ..      ...     ...            ...           ...           ...   \n",
       "  451  middle  191196             13             0          1977   \n",
       "  452  middle  199590              3             0             0   \n",
       "  453  middle   71556             14             0             0   \n",
       "  454  middle  217597              9             0             0   \n",
       "  455  middle  107302              9             0             0   \n",
       "  \n",
       "       hours-per-week(new)  \n",
       "  0                   40.0  \n",
       "  1                   38.0  \n",
       "  2                   40.0  \n",
       "  3                   35.0  \n",
       "  4                   40.0  \n",
       "  ..                   ...  \n",
       "  451                 60.0  \n",
       "  452                 40.0  \n",
       "  453                 50.0  \n",
       "  454                 50.0  \n",
       "  455                 45.0  \n",
       "  \n",
       "  [456 rows x 6 columns],\n",
       "  'output_2':       age  fnlwgt  education  education-num         marital-status  \\\n",
       "  0      53  234721       11th              7     Married-civ-spouse   \n",
       "  1      49  160187        9th              5  Married-spouse-absent   \n",
       "  2      34  245487    7th-8th              4     Married-civ-spouse   \n",
       "  3      38   28887       11th              7     Married-civ-spouse   \n",
       "  4      35   76845        9th              5     Married-civ-spouse   \n",
       "  ...   ...     ...        ...            ...                    ...   \n",
       "  4697   44   71556    Masters             14     Married-civ-spouse   \n",
       "  4698   58  181974  Doctorate             16          Never-married   \n",
       "  4699   42  217597    HS-grad              9               Divorced   \n",
       "  4700   39  107302    HS-grad              9     Married-civ-spouse   \n",
       "  4701   81  120478  Assoc-voc             11               Divorced   \n",
       "  \n",
       "               occupation   relationship                race     sex  \\\n",
       "  0     Handlers-cleaners        Husband               Black    Male   \n",
       "  1         Other-service  Not-in-family               Black  Female   \n",
       "  2      Transport-moving        Husband  Amer-Indian-Eskimo    Male   \n",
       "  3                 Sales        Husband               White    Male   \n",
       "  4       Farming-fishing        Husband               Black    Male   \n",
       "  ...                 ...            ...                 ...     ...   \n",
       "  4697              Sales        Husband               White    Male   \n",
       "  4698     Prof-specialty  Not-in-family               White  Female   \n",
       "  4699              Sales      Own-child               White    Male   \n",
       "  4700     Prof-specialty        Husband               White    Male   \n",
       "  4701               None      Unmarried               White  Female   \n",
       "  \n",
       "        capital-gain  capital-loss hours-per-week native-country income  \\\n",
       "  0                0             0          40hpw  United-States  <=50K   \n",
       "  1                0             0          16hpw        Jamaica  <=50K   \n",
       "  2                0             0          45hpw         Mexico  <=50K   \n",
       "  3                0             0          50hpw  United-States  <=50K   \n",
       "  4                0             0          40hpw  United-States  <=50K   \n",
       "  ...            ...           ...            ...            ...    ...   \n",
       "  4697             0             0          50hpw           None   >50K   \n",
       "  4698             0             0          99hpw           None  <=50K   \n",
       "  4699             0             0          50hpw           None  <=50K   \n",
       "  4700             0             0          45hpw           None   >50K   \n",
       "  4701             0             0           1hpw           None  <=50K   \n",
       "  \n",
       "               workclass  hours-per-week(new)  \n",
       "  0              Private                 40.0  \n",
       "  1              Private                 16.0  \n",
       "  2              Private                 45.0  \n",
       "  3              Private                 50.0  \n",
       "  4          Federal-gov                 40.0  \n",
       "  ...                ...                  ...  \n",
       "  4697      Self-emp-inc                 50.0  \n",
       "  4698      Self-emp-inc                 99.0  \n",
       "  4699  Self-emp-not-inc                 50.0  \n",
       "  4700           Private                 45.0  \n",
       "  4701              None                  1.0  \n",
       "  \n",
       "  [4702 rows x 16 columns]},\n",
       " '11006381_complete_more': {'output1':         age  education-num  capital-gain  capital-loss  hours-per-week(new)\n",
       "  0    middle             11             0             0                 40.0\n",
       "  1    middle             10             0             0                 38.0\n",
       "  2    middle              4             0             0                 40.0\n",
       "  3    middle              9             0          1573                 35.0\n",
       "  4    middle              9             0             0                 40.0\n",
       "  ..      ...            ...           ...           ...                  ...\n",
       "  451  middle             13             0          1977                 60.0\n",
       "  452  middle              3             0             0                 40.0\n",
       "  453  middle             14             0             0                 50.0\n",
       "  454  middle              9             0             0                 50.0\n",
       "  455  middle              9             0             0                 45.0\n",
       "  \n",
       "  [456 rows x 5 columns],\n",
       "  'output_2':       age  fnlwgt  education  education-num         marital-status  \\\n",
       "  0      53  234721       11th              7     Married-civ-spouse   \n",
       "  1      49  160187        9th              5  Married-spouse-absent   \n",
       "  2      34  245487    7th-8th              4     Married-civ-spouse   \n",
       "  3      38   28887       11th              7     Married-civ-spouse   \n",
       "  4      35   76845        9th              5     Married-civ-spouse   \n",
       "  ...   ...     ...        ...            ...                    ...   \n",
       "  4697   44   71556    Masters             14     Married-civ-spouse   \n",
       "  4698   58  181974  Doctorate             16          Never-married   \n",
       "  4699   42  217597    HS-grad              9               Divorced   \n",
       "  4700   39  107302    HS-grad              9     Married-civ-spouse   \n",
       "  4701   81  120478  Assoc-voc             11               Divorced   \n",
       "  \n",
       "               occupation   relationship                race     sex  \\\n",
       "  0     Handlers-cleaners        Husband               Black    Male   \n",
       "  1         Other-service  Not-in-family               Black  Female   \n",
       "  2      Transport-moving        Husband  Amer-Indian-Eskimo    Male   \n",
       "  3                 Sales        Husband               White    Male   \n",
       "  4       Farming-fishing        Husband               Black    Male   \n",
       "  ...                 ...            ...                 ...     ...   \n",
       "  4697              Sales        Husband               White    Male   \n",
       "  4698     Prof-specialty  Not-in-family               White  Female   \n",
       "  4699              Sales      Own-child               White    Male   \n",
       "  4700     Prof-specialty        Husband               White    Male   \n",
       "  4701               None      Unmarried               White  Female   \n",
       "  \n",
       "        capital-gain  capital-loss hours-per-week native-country income  \\\n",
       "  0                0             0          40hpw  United-States  <=50K   \n",
       "  1                0             0          16hpw        Jamaica  <=50K   \n",
       "  2                0             0          45hpw         Mexico  <=50K   \n",
       "  3                0             0          50hpw  United-States  <=50K   \n",
       "  4                0             0          40hpw  United-States  <=50K   \n",
       "  ...            ...           ...            ...            ...    ...   \n",
       "  4697             0             0          50hpw           None   >50K   \n",
       "  4698             0             0          99hpw           None  <=50K   \n",
       "  4699             0             0          50hpw           None  <=50K   \n",
       "  4700             0             0          45hpw           None   >50K   \n",
       "  4701             0             0           1hpw           None  <=50K   \n",
       "  \n",
       "               workclass  hours-per-week(new)  \n",
       "  0              Private                 40.0  \n",
       "  1              Private                 16.0  \n",
       "  2              Private                 45.0  \n",
       "  3              Private                 50.0  \n",
       "  4          Federal-gov                 40.0  \n",
       "  ...                ...                  ...  \n",
       "  4697      Self-emp-inc                 50.0  \n",
       "  4698      Self-emp-inc                 99.0  \n",
       "  4699  Self-emp-not-inc                 50.0  \n",
       "  4700           Private                 45.0  \n",
       "  4701              None                  1.0  \n",
       "  \n",
       "  [4702 rows x 16 columns],\n",
       "  'output_3':        age  fnlwgt   education  education-num      marital-status  \\\n",
       "  0       39   77516   Bachelors             13       Never-married   \n",
       "  1       50   83311   Bachelors             13  Married-civ-spouse   \n",
       "  2       38  215646     HS-grad              9            Divorced   \n",
       "  3       53  234721        11th              7  Married-civ-spouse   \n",
       "  4       28  338409   Bachelors             13  Married-civ-spouse   \n",
       "  ...    ...     ...         ...            ...                 ...   \n",
       "  32556   27  257302  Assoc-acdm             12  Married-civ-spouse   \n",
       "  32557   40  154374     HS-grad              9  Married-civ-spouse   \n",
       "  32558   58  151910     HS-grad              9             Widowed   \n",
       "  32559   22  201490     HS-grad              9       Never-married   \n",
       "  32560   52  287927     HS-grad              9  Married-civ-spouse   \n",
       "  \n",
       "                occupation   relationship   race     sex  capital-gain  \\\n",
       "  0           Adm-clerical  Not-in-family  White    Male          2174   \n",
       "  1        Exec-managerial        Husband  White    Male             0   \n",
       "  2      Handlers-cleaners  Not-in-family  White    Male             0   \n",
       "  3      Handlers-cleaners        Husband  Black    Male             0   \n",
       "  4         Prof-specialty           Wife  Black  Female             0   \n",
       "  ...                  ...            ...    ...     ...           ...   \n",
       "  32556       Tech-support           Wife  White  Female             0   \n",
       "  32557  Machine-op-inspct        Husband  White    Male             0   \n",
       "  32558       Adm-clerical      Unmarried  White  Female             0   \n",
       "  32559       Adm-clerical      Own-child  White    Male             0   \n",
       "  32560    Exec-managerial           Wife  White  Female         15024   \n",
       "  \n",
       "         capital-loss hours-per-week native-country income         workclass  \n",
       "  0                 0          40hpw  United-States  <=50K         State-gov  \n",
       "  1                 0          13hpw  United-States  <=50K  Self-emp-not-inc  \n",
       "  2                 0          40hpw  United-States  <=50K           Private  \n",
       "  3                 0          40hpw  United-States  <=50K           Private  \n",
       "  4                 0          40hpw           Cuba  <=50K           Private  \n",
       "  ...             ...            ...            ...    ...               ...  \n",
       "  32556             0          38hpw  United-States  <=50K           Private  \n",
       "  32557             0          40hpw  United-States   >50K           Private  \n",
       "  32558             0          40hpw  United-States  <=50K           Private  \n",
       "  32559             0          20hpw  United-States  <=50K           Private  \n",
       "  32560             0          40hpw  United-States   >50K      Self-emp-inc  \n",
       "  \n",
       "  [32561 rows x 15 columns]},\n",
       " '11006381_partial_correct': {'output_1':         age  EstWeight  education-num  capital-gain  capital-loss  \\\n",
       "  0    middle     121772             11             0             0   \n",
       "  1    middle      84154             10             0             0   \n",
       "  2    middle     293936              4             0             0   \n",
       "  3    middle     117747              9             0          1573   \n",
       "  4    middle     153141              9             0             0   \n",
       "  ..      ...        ...            ...           ...           ...   \n",
       "  451  middle     191196             13             0          1977   \n",
       "  452  middle     199590              3             0             0   \n",
       "  453  middle      71556             14             0             0   \n",
       "  454  middle     217597              9             0             0   \n",
       "  455  middle     107302              9             0             0   \n",
       "  \n",
       "       hours-per-week(new)  \n",
       "  0                   40.0  \n",
       "  1                   38.0  \n",
       "  2                   40.0  \n",
       "  3                   35.0  \n",
       "  4                   40.0  \n",
       "  ..                   ...  \n",
       "  451                 60.0  \n",
       "  452                 40.0  \n",
       "  453                 50.0  \n",
       "  454                 50.0  \n",
       "  455                 45.0  \n",
       "  \n",
       "  [456 rows x 6 columns]}}"
      ]
     },
     "execution_count": 12,
     "metadata": {},
     "output_type": "execute_result"
    }
   ],
   "source": [
    "wfg.sub_outputs"
   ]
  },
  {
   "cell_type": "code",
   "execution_count": 13,
   "id": "3f9c173e",
   "metadata": {},
   "outputs": [
    {
     "name": "stdout",
     "output_type": "stream",
     "text": [
      "11006381_complete ['C:\\\\Users\\\\s11006381\\\\Documents\\\\Semesters\\\\2210\\\\SAE\\\\datasets\\\\adult_sae.csv', 'file:/D:/Teaching/SAE/BB/Datasets/Chapter05/adult_sae-workclass.csv']\n",
      "11006381_complete_more ['C:\\\\Users\\\\s11006381\\\\Documents\\\\Semesters\\\\2210\\\\SAE\\\\datasets\\\\adult_sae.csv', 'file:/D:/Teaching/SAE/BB/Datasets/Chapter05/adult_sae-workclass.csv']\n",
      "11006381_partial_correct ['file:/C:/Users/s11006381/Documents/Semesters/2210/SAE/datasets/adult_sae.csv', 'file:/C:/Users/s11006381/Documents/Semesters/2210/SAE/datasets/adult_sae-workclass.csv']\n"
     ]
    }
   ],
   "source": [
    "for i in wfg.sub_data_paths:\n",
    "    print(i,wfg.sub_data_paths[i])"
   ]
  },
  {
   "cell_type": "markdown",
   "id": "6ed041a7",
   "metadata": {},
   "source": [
    "### Data processing"
   ]
  },
  {
   "cell_type": "markdown",
   "id": "45e1ef35",
   "metadata": {},
   "source": [
    "The `.check_question()` method checks for any missing questions within each output and can be accessed by `.check_question_results`."
   ]
  },
  {
   "cell_type": "code",
   "execution_count": 14,
   "id": "38beca01",
   "metadata": {},
   "outputs": [
    {
     "name": "stderr",
     "output_type": "stream",
     "text": [
      "100%|███████████████████████████████████████████████████████████████████████████████████████████████████████████████| 3/3 [00:00<?, ?it/s]"
     ]
    },
    {
     "name": "stdout",
     "output_type": "stream",
     "text": [
      "Wall time: 2.99 ms\n"
     ]
    },
    {
     "name": "stderr",
     "output_type": "stream",
     "text": [
      "\n"
     ]
    }
   ],
   "source": [
    "%%time\n",
    "cqr = wfg.check_question()"
   ]
  },
  {
   "cell_type": "code",
   "execution_count": 15,
   "id": "eb2bb326",
   "metadata": {},
   "outputs": [
    {
     "data": {
      "text/plain": [
       "{'11006381_complete': ([], []),\n",
       " '11006381_complete_more': (['output_1'], ['output1', 'output_3']),\n",
       " '11006381_partial_correct': (['output_2'], [])}"
      ]
     },
     "execution_count": 15,
     "metadata": {},
     "output_type": "execute_result"
    }
   ],
   "source": [
    "wfg.check_question_results"
   ]
  },
  {
   "cell_type": "markdown",
   "id": "72a9d7bd",
   "metadata": {},
   "source": [
    "The `.check_variable()` method checks for any missing variables within each output for each workflow and can be accessed by `.check_variable_results`."
   ]
  },
  {
   "cell_type": "code",
   "execution_count": 16,
   "id": "780c95fa",
   "metadata": {},
   "outputs": [
    {
     "name": "stderr",
     "output_type": "stream",
     "text": [
      "100%|██████████████████████████████████████████████████████████████████████████████████████████████████████| 2/2 [00:00<00:00, 365.12it/s]"
     ]
    },
    {
     "name": "stdout",
     "output_type": "stream",
     "text": [
      "Wall time: 7.63 ms\n"
     ]
    },
    {
     "name": "stderr",
     "output_type": "stream",
     "text": [
      "\n"
     ]
    }
   ],
   "source": [
    "%%time\n",
    "cvr = wfg.check_variable()"
   ]
  },
  {
   "cell_type": "code",
   "execution_count": 17,
   "id": "b1977ef2",
   "metadata": {},
   "outputs": [
    {
     "data": {
      "text/plain": [
       "{'output_1': {'11006381_complete': (['EstWeight'],\n",
       "   [('hours-per-week(new)', dtype('float64'))]),\n",
       "  '11006381_complete_more': (['UNGRADED'], ['UNGRADED']),\n",
       "  '11006381_partial_correct': ([],\n",
       "   [('hours-per-week(new)', dtype('float64'))])},\n",
       " 'output_2': {'11006381_complete': (['EstWeight'],\n",
       "   [('hours-per-week(new)', dtype('float64'))]),\n",
       "  '11006381_complete_more': (['EstWeight'],\n",
       "   [('hours-per-week(new)', dtype('float64'))]),\n",
       "  '11006381_partial_correct': (['UNGRADED'], ['UNGRADED'])}}"
      ]
     },
     "execution_count": 17,
     "metadata": {},
     "output_type": "execute_result"
    }
   ],
   "source": [
    "wfg.check_var_results"
   ]
  },
  {
   "cell_type": "code",
   "execution_count": 18,
   "id": "b71825b0",
   "metadata": {},
   "outputs": [
    {
     "data": {
      "text/html": [
       "<div>\n",
       "<style scoped>\n",
       "    .dataframe tbody tr th:only-of-type {\n",
       "        vertical-align: middle;\n",
       "    }\n",
       "\n",
       "    .dataframe tbody tr th {\n",
       "        vertical-align: top;\n",
       "    }\n",
       "\n",
       "    .dataframe thead th {\n",
       "        text-align: right;\n",
       "    }\n",
       "</style>\n",
       "<table border=\"1\" class=\"dataframe\">\n",
       "  <thead>\n",
       "    <tr style=\"text-align: right;\">\n",
       "      <th></th>\n",
       "      <th>age</th>\n",
       "      <th>fnlwgt</th>\n",
       "      <th>education-num</th>\n",
       "      <th>capital-gain</th>\n",
       "      <th>capital-loss</th>\n",
       "      <th>hours-per-week(new)</th>\n",
       "    </tr>\n",
       "  </thead>\n",
       "  <tbody>\n",
       "    <tr>\n",
       "      <th>0</th>\n",
       "      <td>middle</td>\n",
       "      <td>121772</td>\n",
       "      <td>11</td>\n",
       "      <td>0</td>\n",
       "      <td>0</td>\n",
       "      <td>40.0</td>\n",
       "    </tr>\n",
       "    <tr>\n",
       "      <th>1</th>\n",
       "      <td>middle</td>\n",
       "      <td>84154</td>\n",
       "      <td>10</td>\n",
       "      <td>0</td>\n",
       "      <td>0</td>\n",
       "      <td>38.0</td>\n",
       "    </tr>\n",
       "    <tr>\n",
       "      <th>2</th>\n",
       "      <td>middle</td>\n",
       "      <td>293936</td>\n",
       "      <td>4</td>\n",
       "      <td>0</td>\n",
       "      <td>0</td>\n",
       "      <td>40.0</td>\n",
       "    </tr>\n",
       "    <tr>\n",
       "      <th>3</th>\n",
       "      <td>middle</td>\n",
       "      <td>117747</td>\n",
       "      <td>9</td>\n",
       "      <td>0</td>\n",
       "      <td>1573</td>\n",
       "      <td>35.0</td>\n",
       "    </tr>\n",
       "    <tr>\n",
       "      <th>4</th>\n",
       "      <td>middle</td>\n",
       "      <td>153141</td>\n",
       "      <td>9</td>\n",
       "      <td>0</td>\n",
       "      <td>0</td>\n",
       "      <td>40.0</td>\n",
       "    </tr>\n",
       "    <tr>\n",
       "      <th>...</th>\n",
       "      <td>...</td>\n",
       "      <td>...</td>\n",
       "      <td>...</td>\n",
       "      <td>...</td>\n",
       "      <td>...</td>\n",
       "      <td>...</td>\n",
       "    </tr>\n",
       "    <tr>\n",
       "      <th>451</th>\n",
       "      <td>middle</td>\n",
       "      <td>191196</td>\n",
       "      <td>13</td>\n",
       "      <td>0</td>\n",
       "      <td>1977</td>\n",
       "      <td>60.0</td>\n",
       "    </tr>\n",
       "    <tr>\n",
       "      <th>452</th>\n",
       "      <td>middle</td>\n",
       "      <td>199590</td>\n",
       "      <td>3</td>\n",
       "      <td>0</td>\n",
       "      <td>0</td>\n",
       "      <td>40.0</td>\n",
       "    </tr>\n",
       "    <tr>\n",
       "      <th>453</th>\n",
       "      <td>middle</td>\n",
       "      <td>71556</td>\n",
       "      <td>14</td>\n",
       "      <td>0</td>\n",
       "      <td>0</td>\n",
       "      <td>50.0</td>\n",
       "    </tr>\n",
       "    <tr>\n",
       "      <th>454</th>\n",
       "      <td>middle</td>\n",
       "      <td>217597</td>\n",
       "      <td>9</td>\n",
       "      <td>0</td>\n",
       "      <td>0</td>\n",
       "      <td>50.0</td>\n",
       "    </tr>\n",
       "    <tr>\n",
       "      <th>455</th>\n",
       "      <td>middle</td>\n",
       "      <td>107302</td>\n",
       "      <td>9</td>\n",
       "      <td>0</td>\n",
       "      <td>0</td>\n",
       "      <td>45.0</td>\n",
       "    </tr>\n",
       "  </tbody>\n",
       "</table>\n",
       "<p>456 rows × 6 columns</p>\n",
       "</div>"
      ],
      "text/plain": [
       "        age  fnlwgt  education-num  capital-gain  capital-loss  \\\n",
       "0    middle  121772             11             0             0   \n",
       "1    middle   84154             10             0             0   \n",
       "2    middle  293936              4             0             0   \n",
       "3    middle  117747              9             0          1573   \n",
       "4    middle  153141              9             0             0   \n",
       "..      ...     ...            ...           ...           ...   \n",
       "451  middle  191196             13             0          1977   \n",
       "452  middle  199590              3             0             0   \n",
       "453  middle   71556             14             0             0   \n",
       "454  middle  217597              9             0             0   \n",
       "455  middle  107302              9             0             0   \n",
       "\n",
       "     hours-per-week(new)  \n",
       "0                   40.0  \n",
       "1                   38.0  \n",
       "2                   40.0  \n",
       "3                   35.0  \n",
       "4                   40.0  \n",
       "..                   ...  \n",
       "451                 60.0  \n",
       "452                 40.0  \n",
       "453                 50.0  \n",
       "454                 50.0  \n",
       "455                 45.0  \n",
       "\n",
       "[456 rows x 6 columns]"
      ]
     },
     "execution_count": 18,
     "metadata": {},
     "output_type": "execute_result"
    }
   ],
   "source": [
    "wfg.sub_outputs['11006381_complete']['output_1']"
   ]
  },
  {
   "cell_type": "markdown",
   "id": "c5ccc171",
   "metadata": {},
   "source": [
    "The `.check_data()` method checks for any incorrect data for each of the variables in a given output and can be accessed by `.check_data_results`."
   ]
  },
  {
   "cell_type": "code",
   "execution_count": 19,
   "id": "6ee64b21",
   "metadata": {},
   "outputs": [
    {
     "name": "stderr",
     "output_type": "stream",
     "text": [
      "100%|███████████████████████████████████████████████████████████████████████████████████████████████████████| 2/2 [00:00<00:00, 94.33it/s]"
     ]
    },
    {
     "name": "stdout",
     "output_type": "stream",
     "text": [
      "Wall time: 23.2 ms\n"
     ]
    },
    {
     "name": "stderr",
     "output_type": "stream",
     "text": [
      "\n"
     ]
    }
   ],
   "source": [
    "%%time\n",
    "cdr = wfg.check_data()"
   ]
  },
  {
   "cell_type": "code",
   "execution_count": 20,
   "id": "9031db7f",
   "metadata": {},
   "outputs": [
    {
     "data": {
      "text/plain": [
       "{'output_1':         age  EstWeight  education-num  capital-gain  capital-loss  \\\n",
       " 0    middle     121772             11             0             0   \n",
       " 1    middle      84154             10             0             0   \n",
       " 2    middle     293936              4             0             0   \n",
       " 3    middle     117747              9             0          1573   \n",
       " 4    middle     153141              9             0             0   \n",
       " ..      ...        ...            ...           ...           ...   \n",
       " 451  middle     191196             13             0          1977   \n",
       " 452  middle     199590              3             0             0   \n",
       " 453  middle      71556             14             0             0   \n",
       " 454  middle     217597              9             0             0   \n",
       " 455  middle     107302              9             0             0   \n",
       " \n",
       "      hours-per-week(new)  \n",
       " 0                   40.0  \n",
       " 1                   38.0  \n",
       " 2                   40.0  \n",
       " 3                   35.0  \n",
       " 4                   40.0  \n",
       " ..                   ...  \n",
       " 451                 60.0  \n",
       " 452                 40.0  \n",
       " 453                 50.0  \n",
       " 454                 50.0  \n",
       " 455                 45.0  \n",
       " \n",
       " [456 rows x 6 columns]}"
      ]
     },
     "execution_count": 20,
     "metadata": {},
     "output_type": "execute_result"
    }
   ],
   "source": [
    "wfg.sub_outputs['11006381_partial_correct']"
   ]
  },
  {
   "cell_type": "code",
   "execution_count": 21,
   "id": "9ae78c9d",
   "metadata": {},
   "outputs": [
    {
     "data": {
      "text/plain": [
       "{'output_1': {'11006381_complete': ['hours-per-week(new)'],\n",
       "  '11006381_complete_more': 'UNGRADED',\n",
       "  '11006381_partial_correct': ['hours-per-week(new)']},\n",
       " 'output_2': {'11006381_complete': ['hours-per-week(new)'],\n",
       "  '11006381_complete_more': ['hours-per-week(new)'],\n",
       "  '11006381_partial_correct': 'UNGRADED'}}"
      ]
     },
     "execution_count": 21,
     "metadata": {},
     "output_type": "execute_result"
    }
   ],
   "source": [
    "wfg.check_data_results"
   ]
  },
  {
   "cell_type": "markdown",
   "id": "5ed9e4f3",
   "metadata": {},
   "source": [
    "### Combine data"
   ]
  },
  {
   "cell_type": "code",
   "execution_count": 22,
   "id": "3713a308",
   "metadata": {},
   "outputs": [
    {
     "data": {
      "text/html": [
       "<div>\n",
       "<style scoped>\n",
       "    .dataframe tbody tr th:only-of-type {\n",
       "        vertical-align: middle;\n",
       "    }\n",
       "\n",
       "    .dataframe tbody tr th {\n",
       "        vertical-align: top;\n",
       "    }\n",
       "\n",
       "    .dataframe thead th {\n",
       "        text-align: right;\n",
       "    }\n",
       "</style>\n",
       "<table border=\"1\" class=\"dataframe\">\n",
       "  <thead>\n",
       "    <tr style=\"text-align: right;\">\n",
       "      <th></th>\n",
       "      <th>0</th>\n",
       "      <th>1</th>\n",
       "    </tr>\n",
       "  </thead>\n",
       "  <tbody>\n",
       "    <tr>\n",
       "      <th>11006381_complete</th>\n",
       "      <td>C:\\Users\\s11006381\\Documents\\Semesters\\2210\\SA...</td>\n",
       "      <td>file:/D:/Teaching/SAE/BB/Datasets/Chapter05/ad...</td>\n",
       "    </tr>\n",
       "    <tr>\n",
       "      <th>11006381_complete_more</th>\n",
       "      <td>C:\\Users\\s11006381\\Documents\\Semesters\\2210\\SA...</td>\n",
       "      <td>file:/D:/Teaching/SAE/BB/Datasets/Chapter05/ad...</td>\n",
       "    </tr>\n",
       "    <tr>\n",
       "      <th>11006381_partial_correct</th>\n",
       "      <td>file:/C:/Users/s11006381/Documents/Semesters/2...</td>\n",
       "      <td>file:/C:/Users/s11006381/Documents/Semesters/2...</td>\n",
       "    </tr>\n",
       "  </tbody>\n",
       "</table>\n",
       "</div>"
      ],
      "text/plain": [
       "                                                                          0  \\\n",
       "11006381_complete         C:\\Users\\s11006381\\Documents\\Semesters\\2210\\SA...   \n",
       "11006381_complete_more    C:\\Users\\s11006381\\Documents\\Semesters\\2210\\SA...   \n",
       "11006381_partial_correct  file:/C:/Users/s11006381/Documents/Semesters/2...   \n",
       "\n",
       "                                                                          1  \n",
       "11006381_complete         file:/D:/Teaching/SAE/BB/Datasets/Chapter05/ad...  \n",
       "11006381_complete_more    file:/D:/Teaching/SAE/BB/Datasets/Chapter05/ad...  \n",
       "11006381_partial_correct  file:/C:/Users/s11006381/Documents/Semesters/2...  "
      ]
     },
     "execution_count": 22,
     "metadata": {},
     "output_type": "execute_result"
    }
   ],
   "source": [
    "fp_df = pd.DataFrame.from_dict(wfg.sub_data_paths, orient='index')\n",
    "fp_df"
   ]
  },
  {
   "cell_type": "code",
   "execution_count": 23,
   "id": "ef5b64f3",
   "metadata": {},
   "outputs": [
    {
     "data": {
      "text/html": [
       "<div>\n",
       "<style scoped>\n",
       "    .dataframe tbody tr th:only-of-type {\n",
       "        vertical-align: middle;\n",
       "    }\n",
       "\n",
       "    .dataframe tbody tr th {\n",
       "        vertical-align: top;\n",
       "    }\n",
       "\n",
       "    .dataframe thead th {\n",
       "        text-align: right;\n",
       "    }\n",
       "</style>\n",
       "<table border=\"1\" class=\"dataframe\">\n",
       "  <thead>\n",
       "    <tr style=\"text-align: right;\">\n",
       "      <th></th>\n",
       "      <th>missing_questions</th>\n",
       "      <th>foreign_questions</th>\n",
       "    </tr>\n",
       "  </thead>\n",
       "  <tbody>\n",
       "    <tr>\n",
       "      <th>11006381_complete</th>\n",
       "      <td>[]</td>\n",
       "      <td>[]</td>\n",
       "    </tr>\n",
       "    <tr>\n",
       "      <th>11006381_complete_more</th>\n",
       "      <td>[output_1]</td>\n",
       "      <td>[output1, output_3]</td>\n",
       "    </tr>\n",
       "    <tr>\n",
       "      <th>11006381_partial_correct</th>\n",
       "      <td>[output_2]</td>\n",
       "      <td>[]</td>\n",
       "    </tr>\n",
       "  </tbody>\n",
       "</table>\n",
       "</div>"
      ],
      "text/plain": [
       "                         missing_questions    foreign_questions\n",
       "11006381_complete                       []                   []\n",
       "11006381_complete_more          [output_1]  [output1, output_3]\n",
       "11006381_partial_correct        [output_2]                   []"
      ]
     },
     "execution_count": 23,
     "metadata": {},
     "output_type": "execute_result"
    }
   ],
   "source": [
    "cqr_df = pd.DataFrame.from_dict(cqr,orient='index',columns=['missing_questions','foreign_questions'])\n",
    "cqr_df"
   ]
  },
  {
   "cell_type": "code",
   "execution_count": 24,
   "id": "89717036",
   "metadata": {},
   "outputs": [
    {
     "data": {
      "text/plain": [
       "11006381_complete                                    ([], [])\n",
       "11006381_complete_more      ([output_1], [output1, output_3])\n",
       "11006381_partial_correct                     ([output_2], [])\n",
       "Name: question_response, dtype: object"
      ]
     },
     "execution_count": 24,
     "metadata": {},
     "output_type": "execute_result"
    }
   ],
   "source": [
    "# old version\n",
    "pd.Series(cqr,name='question_response')"
   ]
  },
  {
   "cell_type": "code",
   "execution_count": 39,
   "id": "38367432",
   "metadata": {},
   "outputs": [
    {
     "data": {
      "text/html": [
       "<div>\n",
       "<style scoped>\n",
       "    .dataframe tbody tr th:only-of-type {\n",
       "        vertical-align: middle;\n",
       "    }\n",
       "\n",
       "    .dataframe tbody tr th {\n",
       "        vertical-align: top;\n",
       "    }\n",
       "\n",
       "    .dataframe thead th {\n",
       "        text-align: right;\n",
       "    }\n",
       "</style>\n",
       "<table border=\"1\" class=\"dataframe\">\n",
       "  <thead>\n",
       "    <tr style=\"text-align: right;\">\n",
       "      <th></th>\n",
       "      <th>output_1</th>\n",
       "      <th>output_2</th>\n",
       "    </tr>\n",
       "  </thead>\n",
       "  <tbody>\n",
       "    <tr>\n",
       "      <th>11006381_complete</th>\n",
       "      <td>([EstWeight], [(hours-per-week(new), float64)])</td>\n",
       "      <td>([EstWeight], [(hours-per-week(new), float64)])</td>\n",
       "    </tr>\n",
       "    <tr>\n",
       "      <th>11006381_complete_more</th>\n",
       "      <td>([UNGRADED], [UNGRADED])</td>\n",
       "      <td>([EstWeight], [(hours-per-week(new), float64)])</td>\n",
       "    </tr>\n",
       "    <tr>\n",
       "      <th>11006381_partial_correct</th>\n",
       "      <td>([], [(hours-per-week(new), float64)])</td>\n",
       "      <td>([UNGRADED], [UNGRADED])</td>\n",
       "    </tr>\n",
       "  </tbody>\n",
       "</table>\n",
       "</div>"
      ],
      "text/plain": [
       "                                                                 output_1  \\\n",
       "11006381_complete         ([EstWeight], [(hours-per-week(new), float64)])   \n",
       "11006381_complete_more                           ([UNGRADED], [UNGRADED])   \n",
       "11006381_partial_correct           ([], [(hours-per-week(new), float64)])   \n",
       "\n",
       "                                                                 output_2  \n",
       "11006381_complete         ([EstWeight], [(hours-per-week(new), float64)])  \n",
       "11006381_complete_more    ([EstWeight], [(hours-per-week(new), float64)])  \n",
       "11006381_partial_correct                         ([UNGRADED], [UNGRADED])  "
      ]
     },
     "execution_count": 39,
     "metadata": {},
     "output_type": "execute_result"
    }
   ],
   "source": [
    "cvr_df = pd.DataFrame.from_dict(cvr)\n",
    "cvr_df.head()"
   ]
  },
  {
   "cell_type": "code",
   "execution_count": 41,
   "id": "d47c5010",
   "metadata": {},
   "outputs": [],
   "source": [
    "for i in cvr_df.columns:\n",
    "    cvr_df[[i+'_missing_var',i+'_incorrect_var_dtype']] = pd.DataFrame(cvr_df[i].to_list(),index=cvr_df.index)\n",
    "    del cvr_df[i]"
   ]
  },
  {
   "cell_type": "code",
   "execution_count": 43,
   "id": "2efbe028",
   "metadata": {},
   "outputs": [
    {
     "data": {
      "text/html": [
       "<div>\n",
       "<style scoped>\n",
       "    .dataframe tbody tr th:only-of-type {\n",
       "        vertical-align: middle;\n",
       "    }\n",
       "\n",
       "    .dataframe tbody tr th {\n",
       "        vertical-align: top;\n",
       "    }\n",
       "\n",
       "    .dataframe thead th {\n",
       "        text-align: right;\n",
       "    }\n",
       "</style>\n",
       "<table border=\"1\" class=\"dataframe\">\n",
       "  <thead>\n",
       "    <tr style=\"text-align: right;\">\n",
       "      <th></th>\n",
       "      <th>output_1_missing_var</th>\n",
       "      <th>output_1_incorrect_var_dtype</th>\n",
       "      <th>output_2_missing_var</th>\n",
       "      <th>output_2_incorrect_var_dtype</th>\n",
       "    </tr>\n",
       "  </thead>\n",
       "  <tbody>\n",
       "    <tr>\n",
       "      <th>11006381_complete</th>\n",
       "      <td>[EstWeight]</td>\n",
       "      <td>[(hours-per-week(new), float64)]</td>\n",
       "      <td>[EstWeight]</td>\n",
       "      <td>[(hours-per-week(new), float64)]</td>\n",
       "    </tr>\n",
       "    <tr>\n",
       "      <th>11006381_complete_more</th>\n",
       "      <td>[UNGRADED]</td>\n",
       "      <td>[UNGRADED]</td>\n",
       "      <td>[EstWeight]</td>\n",
       "      <td>[(hours-per-week(new), float64)]</td>\n",
       "    </tr>\n",
       "    <tr>\n",
       "      <th>11006381_partial_correct</th>\n",
       "      <td>[]</td>\n",
       "      <td>[(hours-per-week(new), float64)]</td>\n",
       "      <td>[UNGRADED]</td>\n",
       "      <td>[UNGRADED]</td>\n",
       "    </tr>\n",
       "  </tbody>\n",
       "</table>\n",
       "</div>"
      ],
      "text/plain": [
       "                         output_1_missing_var  \\\n",
       "11006381_complete                 [EstWeight]   \n",
       "11006381_complete_more             [UNGRADED]   \n",
       "11006381_partial_correct                   []   \n",
       "\n",
       "                              output_1_incorrect_var_dtype  \\\n",
       "11006381_complete         [(hours-per-week(new), float64)]   \n",
       "11006381_complete_more                          [UNGRADED]   \n",
       "11006381_partial_correct  [(hours-per-week(new), float64)]   \n",
       "\n",
       "                         output_2_missing_var  \\\n",
       "11006381_complete                 [EstWeight]   \n",
       "11006381_complete_more            [EstWeight]   \n",
       "11006381_partial_correct           [UNGRADED]   \n",
       "\n",
       "                              output_2_incorrect_var_dtype  \n",
       "11006381_complete         [(hours-per-week(new), float64)]  \n",
       "11006381_complete_more    [(hours-per-week(new), float64)]  \n",
       "11006381_partial_correct                        [UNGRADED]  "
      ]
     },
     "execution_count": 43,
     "metadata": {},
     "output_type": "execute_result"
    }
   ],
   "source": [
    "cvr_df['output_1_missing_var']"
   ]
  },
  {
   "cell_type": "code",
   "execution_count": 44,
   "id": "71ff0a47",
   "metadata": {},
   "outputs": [
    {
     "data": {
      "text/html": [
       "<div>\n",
       "<style scoped>\n",
       "    .dataframe tbody tr th:only-of-type {\n",
       "        vertical-align: middle;\n",
       "    }\n",
       "\n",
       "    .dataframe tbody tr th {\n",
       "        vertical-align: top;\n",
       "    }\n",
       "\n",
       "    .dataframe thead th {\n",
       "        text-align: right;\n",
       "    }\n",
       "</style>\n",
       "<table border=\"1\" class=\"dataframe\">\n",
       "  <thead>\n",
       "    <tr style=\"text-align: right;\">\n",
       "      <th></th>\n",
       "      <th>missing_questions</th>\n",
       "      <th>foreign_questions</th>\n",
       "      <th>output_1_missing_var</th>\n",
       "      <th>output_1_incorrect_var_dtype</th>\n",
       "      <th>output_2_missing_var</th>\n",
       "      <th>output_2_incorrect_var_dtype</th>\n",
       "    </tr>\n",
       "  </thead>\n",
       "  <tbody>\n",
       "    <tr>\n",
       "      <th>11006381_complete</th>\n",
       "      <td>[]</td>\n",
       "      <td>[]</td>\n",
       "      <td>[EstWeight]</td>\n",
       "      <td>[(hours-per-week(new), float64)]</td>\n",
       "      <td>[EstWeight]</td>\n",
       "      <td>[(hours-per-week(new), float64)]</td>\n",
       "    </tr>\n",
       "    <tr>\n",
       "      <th>11006381_complete_more</th>\n",
       "      <td>[output_1]</td>\n",
       "      <td>[output1, output_3]</td>\n",
       "      <td>[UNGRADED]</td>\n",
       "      <td>[UNGRADED]</td>\n",
       "      <td>[EstWeight]</td>\n",
       "      <td>[(hours-per-week(new), float64)]</td>\n",
       "    </tr>\n",
       "    <tr>\n",
       "      <th>11006381_partial_correct</th>\n",
       "      <td>[output_2]</td>\n",
       "      <td>[]</td>\n",
       "      <td>[]</td>\n",
       "      <td>[(hours-per-week(new), float64)]</td>\n",
       "      <td>[UNGRADED]</td>\n",
       "      <td>[UNGRADED]</td>\n",
       "    </tr>\n",
       "  </tbody>\n",
       "</table>\n",
       "</div>"
      ],
      "text/plain": [
       "                         missing_questions    foreign_questions  \\\n",
       "11006381_complete                       []                   []   \n",
       "11006381_complete_more          [output_1]  [output1, output_3]   \n",
       "11006381_partial_correct        [output_2]                   []   \n",
       "\n",
       "                         output_1_missing_var  \\\n",
       "11006381_complete                 [EstWeight]   \n",
       "11006381_complete_more             [UNGRADED]   \n",
       "11006381_partial_correct                   []   \n",
       "\n",
       "                              output_1_incorrect_var_dtype  \\\n",
       "11006381_complete         [(hours-per-week(new), float64)]   \n",
       "11006381_complete_more                          [UNGRADED]   \n",
       "11006381_partial_correct  [(hours-per-week(new), float64)]   \n",
       "\n",
       "                         output_2_missing_var  \\\n",
       "11006381_complete                 [EstWeight]   \n",
       "11006381_complete_more            [EstWeight]   \n",
       "11006381_partial_correct           [UNGRADED]   \n",
       "\n",
       "                              output_2_incorrect_var_dtype  \n",
       "11006381_complete         [(hours-per-week(new), float64)]  \n",
       "11006381_complete_more    [(hours-per-week(new), float64)]  \n",
       "11006381_partial_correct                        [UNGRADED]  "
      ]
     },
     "execution_count": 44,
     "metadata": {},
     "output_type": "execute_result"
    }
   ],
   "source": [
    "cqvr_df = pd.merge(cqr_df,cvr_df,left_index=True,right_index=True)\n",
    "cqvr_df"
   ]
  },
  {
   "cell_type": "code",
   "execution_count": 45,
   "id": "022ba9e8",
   "metadata": {},
   "outputs": [],
   "source": [
    "cdr_df = pd.DataFrame.from_dict(cdr)"
   ]
  },
  {
   "cell_type": "code",
   "execution_count": 46,
   "id": "c86941df",
   "metadata": {},
   "outputs": [
    {
     "data": {
      "text/html": [
       "<div>\n",
       "<style scoped>\n",
       "    .dataframe tbody tr th:only-of-type {\n",
       "        vertical-align: middle;\n",
       "    }\n",
       "\n",
       "    .dataframe tbody tr th {\n",
       "        vertical-align: top;\n",
       "    }\n",
       "\n",
       "    .dataframe thead th {\n",
       "        text-align: right;\n",
       "    }\n",
       "</style>\n",
       "<table border=\"1\" class=\"dataframe\">\n",
       "  <thead>\n",
       "    <tr style=\"text-align: right;\">\n",
       "      <th></th>\n",
       "      <th>output_1</th>\n",
       "      <th>output_2</th>\n",
       "    </tr>\n",
       "  </thead>\n",
       "  <tbody>\n",
       "    <tr>\n",
       "      <th>11006381_complete</th>\n",
       "      <td>[hours-per-week(new)]</td>\n",
       "      <td>[hours-per-week(new)]</td>\n",
       "    </tr>\n",
       "    <tr>\n",
       "      <th>11006381_complete_more</th>\n",
       "      <td>UNGRADED</td>\n",
       "      <td>[hours-per-week(new)]</td>\n",
       "    </tr>\n",
       "    <tr>\n",
       "      <th>11006381_partial_correct</th>\n",
       "      <td>[hours-per-week(new)]</td>\n",
       "      <td>UNGRADED</td>\n",
       "    </tr>\n",
       "  </tbody>\n",
       "</table>\n",
       "</div>"
      ],
      "text/plain": [
       "                                       output_1               output_2\n",
       "11006381_complete         [hours-per-week(new)]  [hours-per-week(new)]\n",
       "11006381_complete_more                 UNGRADED  [hours-per-week(new)]\n",
       "11006381_partial_correct  [hours-per-week(new)]               UNGRADED"
      ]
     },
     "execution_count": 46,
     "metadata": {},
     "output_type": "execute_result"
    }
   ],
   "source": [
    "cdr_df"
   ]
  },
  {
   "cell_type": "code",
   "execution_count": 48,
   "id": "6d38388e",
   "metadata": {},
   "outputs": [],
   "source": [
    "for i in cdr_df.columns:\n",
    "    cdr_df[i+'_incorrect_var_data'] = cdr_df[i]\n",
    "    del cdr_df[i]"
   ]
  },
  {
   "cell_type": "code",
   "execution_count": 49,
   "id": "363e28c3",
   "metadata": {},
   "outputs": [
    {
     "data": {
      "text/html": [
       "<div>\n",
       "<style scoped>\n",
       "    .dataframe tbody tr th:only-of-type {\n",
       "        vertical-align: middle;\n",
       "    }\n",
       "\n",
       "    .dataframe tbody tr th {\n",
       "        vertical-align: top;\n",
       "    }\n",
       "\n",
       "    .dataframe thead th {\n",
       "        text-align: right;\n",
       "    }\n",
       "</style>\n",
       "<table border=\"1\" class=\"dataframe\">\n",
       "  <thead>\n",
       "    <tr style=\"text-align: right;\">\n",
       "      <th></th>\n",
       "      <th>output_1_incorrect_var_data</th>\n",
       "      <th>output_2_incorrect_var_data</th>\n",
       "    </tr>\n",
       "  </thead>\n",
       "  <tbody>\n",
       "    <tr>\n",
       "      <th>11006381_complete</th>\n",
       "      <td>[hours-per-week(new)]</td>\n",
       "      <td>[hours-per-week(new)]</td>\n",
       "    </tr>\n",
       "    <tr>\n",
       "      <th>11006381_complete_more</th>\n",
       "      <td>UNGRADED</td>\n",
       "      <td>[hours-per-week(new)]</td>\n",
       "    </tr>\n",
       "    <tr>\n",
       "      <th>11006381_partial_correct</th>\n",
       "      <td>[hours-per-week(new)]</td>\n",
       "      <td>UNGRADED</td>\n",
       "    </tr>\n",
       "  </tbody>\n",
       "</table>\n",
       "</div>"
      ],
      "text/plain": [
       "                         output_1_incorrect_var_data  \\\n",
       "11006381_complete              [hours-per-week(new)]   \n",
       "11006381_complete_more                      UNGRADED   \n",
       "11006381_partial_correct       [hours-per-week(new)]   \n",
       "\n",
       "                         output_2_incorrect_var_data  \n",
       "11006381_complete              [hours-per-week(new)]  \n",
       "11006381_complete_more         [hours-per-week(new)]  \n",
       "11006381_partial_correct                    UNGRADED  "
      ]
     },
     "execution_count": 49,
     "metadata": {},
     "output_type": "execute_result"
    }
   ],
   "source": [
    "cdr_df"
   ]
  },
  {
   "cell_type": "code",
   "execution_count": 50,
   "id": "1250737d",
   "metadata": {},
   "outputs": [
    {
     "data": {
      "text/html": [
       "<div>\n",
       "<style scoped>\n",
       "    .dataframe tbody tr th:only-of-type {\n",
       "        vertical-align: middle;\n",
       "    }\n",
       "\n",
       "    .dataframe tbody tr th {\n",
       "        vertical-align: top;\n",
       "    }\n",
       "\n",
       "    .dataframe thead th {\n",
       "        text-align: right;\n",
       "    }\n",
       "</style>\n",
       "<table border=\"1\" class=\"dataframe\">\n",
       "  <thead>\n",
       "    <tr style=\"text-align: right;\">\n",
       "      <th></th>\n",
       "      <th>missing_questions</th>\n",
       "      <th>foreign_questions</th>\n",
       "      <th>output_1_missing_var</th>\n",
       "      <th>output_1_incorrect_var_dtype</th>\n",
       "      <th>output_2_missing_var</th>\n",
       "      <th>output_2_incorrect_var_dtype</th>\n",
       "      <th>output_1_incorrect_var_data</th>\n",
       "      <th>output_2_incorrect_var_data</th>\n",
       "    </tr>\n",
       "  </thead>\n",
       "  <tbody>\n",
       "    <tr>\n",
       "      <th>11006381_complete</th>\n",
       "      <td>[]</td>\n",
       "      <td>[]</td>\n",
       "      <td>[EstWeight]</td>\n",
       "      <td>[(hours-per-week(new), float64)]</td>\n",
       "      <td>[EstWeight]</td>\n",
       "      <td>[(hours-per-week(new), float64)]</td>\n",
       "      <td>[hours-per-week(new)]</td>\n",
       "      <td>[hours-per-week(new)]</td>\n",
       "    </tr>\n",
       "    <tr>\n",
       "      <th>11006381_complete_more</th>\n",
       "      <td>[output_1]</td>\n",
       "      <td>[output1, output_3]</td>\n",
       "      <td>[UNGRADED]</td>\n",
       "      <td>[UNGRADED]</td>\n",
       "      <td>[EstWeight]</td>\n",
       "      <td>[(hours-per-week(new), float64)]</td>\n",
       "      <td>UNGRADED</td>\n",
       "      <td>[hours-per-week(new)]</td>\n",
       "    </tr>\n",
       "    <tr>\n",
       "      <th>11006381_partial_correct</th>\n",
       "      <td>[output_2]</td>\n",
       "      <td>[]</td>\n",
       "      <td>[]</td>\n",
       "      <td>[(hours-per-week(new), float64)]</td>\n",
       "      <td>[UNGRADED]</td>\n",
       "      <td>[UNGRADED]</td>\n",
       "      <td>[hours-per-week(new)]</td>\n",
       "      <td>UNGRADED</td>\n",
       "    </tr>\n",
       "  </tbody>\n",
       "</table>\n",
       "</div>"
      ],
      "text/plain": [
       "                         missing_questions    foreign_questions  \\\n",
       "11006381_complete                       []                   []   \n",
       "11006381_complete_more          [output_1]  [output1, output_3]   \n",
       "11006381_partial_correct        [output_2]                   []   \n",
       "\n",
       "                         output_1_missing_var  \\\n",
       "11006381_complete                 [EstWeight]   \n",
       "11006381_complete_more             [UNGRADED]   \n",
       "11006381_partial_correct                   []   \n",
       "\n",
       "                              output_1_incorrect_var_dtype  \\\n",
       "11006381_complete         [(hours-per-week(new), float64)]   \n",
       "11006381_complete_more                          [UNGRADED]   \n",
       "11006381_partial_correct  [(hours-per-week(new), float64)]   \n",
       "\n",
       "                         output_2_missing_var  \\\n",
       "11006381_complete                 [EstWeight]   \n",
       "11006381_complete_more            [EstWeight]   \n",
       "11006381_partial_correct           [UNGRADED]   \n",
       "\n",
       "                              output_2_incorrect_var_dtype  \\\n",
       "11006381_complete         [(hours-per-week(new), float64)]   \n",
       "11006381_complete_more    [(hours-per-week(new), float64)]   \n",
       "11006381_partial_correct                        [UNGRADED]   \n",
       "\n",
       "                         output_1_incorrect_var_data  \\\n",
       "11006381_complete              [hours-per-week(new)]   \n",
       "11006381_complete_more                      UNGRADED   \n",
       "11006381_partial_correct       [hours-per-week(new)]   \n",
       "\n",
       "                         output_2_incorrect_var_data  \n",
       "11006381_complete              [hours-per-week(new)]  \n",
       "11006381_complete_more         [hours-per-week(new)]  \n",
       "11006381_partial_correct                    UNGRADED  "
      ]
     },
     "execution_count": 50,
     "metadata": {},
     "output_type": "execute_result"
    }
   ],
   "source": [
    "cqvdr_df = pd.merge(cqvr_df,cdr_df,left_index=True,right_index=True,suffixes=('_var_dtype','_data'))\n",
    "cqvdr_df"
   ]
  },
  {
   "cell_type": "code",
   "execution_count": null,
   "id": "96203897",
   "metadata": {},
   "outputs": [],
   "source": [
    "n_df = pd.DataFrame.from_dict(wfg.sub_node_dists,orient='index')\n",
    "n_df"
   ]
  },
  {
   "cell_type": "markdown",
   "id": "722a919c",
   "metadata": {},
   "source": [
    "Combining all the dataframes together we can save it as a csv file or work with this data to provide meaningful feedback to the students."
   ]
  },
  {
   "cell_type": "code",
   "execution_count": null,
   "id": "481f5775",
   "metadata": {},
   "outputs": [],
   "source": [
    "combined_df = pd.merge(cqvdr_df,n_df,left_index=True,right_index=True,suffixes=('_var_dtype','_data'))\n",
    "combined_df"
   ]
  },
  {
   "cell_type": "code",
   "execution_count": null,
   "id": "c6195227",
   "metadata": {},
   "outputs": [],
   "source": [
    "wfg.ref_output['output_1'].columns"
   ]
  },
  {
   "cell_type": "code",
   "execution_count": null,
   "id": "75c0befb",
   "metadata": {},
   "outputs": [],
   "source": [
    "n_df['node_count'] = n_df.sum(axis=1)"
   ]
  },
  {
   "cell_type": "code",
   "execution_count": null,
   "id": "0921fcc6",
   "metadata": {},
   "outputs": [],
   "source": [
    "n_df"
   ]
  },
  {
   "cell_type": "code",
   "execution_count": null,
   "id": "11432364",
   "metadata": {},
   "outputs": [],
   "source": [
    "for i in cqr_df:\n",
    "    missing_count = len(i[0])\n",
    "    total_count = len(wfg.ref_output.keys())\n",
    "    print(missing_count)\n",
    "    print(1-(missing_count/total_count))"
   ]
  },
  {
   "cell_type": "code",
   "execution_count": null,
   "id": "176f9f30",
   "metadata": {},
   "outputs": [],
   "source": [
    "cqr_df.to_frame()"
   ]
  },
  {
   "cell_type": "code",
   "execution_count": null,
   "id": "366dc96f",
   "metadata": {},
   "outputs": [],
   "source": [
    "cqr_df"
   ]
  },
  {
   "cell_type": "code",
   "execution_count": null,
   "id": "3882d04c",
   "metadata": {},
   "outputs": [],
   "source": [
    "cqr_df['question_completion'] = cqr_df.apply(lambda x : 1-(len(x[0])/len(wfg.ref_output.keys())))"
   ]
  },
  {
   "cell_type": "code",
   "execution_count": null,
   "id": "a4a3de44",
   "metadata": {},
   "outputs": [],
   "source": [
    "cqr_df.head()"
   ]
  },
  {
   "cell_type": "code",
   "execution_count": null,
   "id": "2491ea8c",
   "metadata": {},
   "outputs": [],
   "source": [
    "wfg.ref_output.keys()"
   ]
  },
  {
   "cell_type": "code",
   "execution_count": null,
   "id": "7c557cdf",
   "metadata": {},
   "outputs": [],
   "source": [
    "tdf = pd.DataFrame.from_dict(cqr,orient='index',columns=['missing_questions','foreign_questions'])"
   ]
  },
  {
   "cell_type": "code",
   "execution_count": null,
   "id": "165a9df3",
   "metadata": {},
   "outputs": [],
   "source": [
    "tdf['question_completion'] = tdf['missing_questions'].apply(lambda x : 1-(len(x)/len(wfg.ref_output.keys())))"
   ]
  },
  {
   "cell_type": "code",
   "execution_count": null,
   "id": "1aece9ca",
   "metadata": {},
   "outputs": [],
   "source": [
    "tdf"
   ]
  },
  {
   "cell_type": "code",
   "execution_count": null,
   "id": "4bcbb5e1",
   "metadata": {},
   "outputs": [],
   "source": [
    "cvr"
   ]
  },
  {
   "cell_type": "code",
   "execution_count": null,
   "id": "67b86452",
   "metadata": {},
   "outputs": [],
   "source": [
    "pd.merge(tdf,cvr_df,left_index=True,right_index=True)"
   ]
  },
  {
   "cell_type": "code",
   "execution_count": null,
   "id": "77d809cd",
   "metadata": {},
   "outputs": [],
   "source": []
  }
 ],
 "metadata": {
  "kernelspec": {
   "display_name": "Python 3 (ipykernel)",
   "language": "python",
   "name": "python3"
  },
  "language_info": {
   "codemirror_mode": {
    "name": "ipython",
    "version": 3
   },
   "file_extension": ".py",
   "mimetype": "text/x-python",
   "name": "python",
   "nbconvert_exporter": "python",
   "pygments_lexer": "ipython3",
   "version": "3.9.7"
  }
 },
 "nbformat": 4,
 "nbformat_minor": 5
}
