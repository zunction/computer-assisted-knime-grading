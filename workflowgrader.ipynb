{
 "cells": [
  {
   "cell_type": "markdown",
   "id": "e70b7be7",
   "metadata": {},
   "source": [
    "From Tien Chern\n",
    "\n",
    "Learning objective for Lab 5 task 1\n",
    "- Able to perform basic data preparation\n",
    "1. Read in data of CSV format\n",
    "2. Rename variable\n",
    "3. Join 2 data tables: Joiner\n",
    "4. Concatenate 2 data tables: Concatenate\n",
    "\n",
    "- Able to perform basic data cleaning\n",
    "1. Manipulate String type data\n",
    "2. Filtering rows\n",
    "3. Filtering columns\n",
    "\n",
    "- Able to perform basic data transformation\n",
    "1. Cast proper data type\n",
    "2. Bin numerica data to groups\n"
   ]
  },
  {
   "cell_type": "code",
   "execution_count": 1,
   "id": "7647866a",
   "metadata": {},
   "outputs": [],
   "source": [
    "import pandas as pd\n",
    "from pathlib import Path\n",
    "import os\n",
    "import glob\n",
    "# from utils import collect_workflow_outputs, compare_COT_annotation, assisted_question_inference, workflowgrader\n",
    "from utils import workflowgrader"
   ]
  },
  {
   "cell_type": "code",
   "execution_count": 91,
   "id": "573b2f50",
   "metadata": {},
   "outputs": [],
   "source": [
    "workspace = r\"C:\\Users\\s11006381\\knime-workspace\\small_gradespace\""
   ]
  },
  {
   "cell_type": "code",
   "execution_count": 93,
   "id": "16de7128",
   "metadata": {},
   "outputs": [
    {
     "data": {
      "text/plain": [
       "'C:\\\\Users\\\\s11006381\\\\knime-workspace\\\\small_gradespace'"
      ]
     },
     "execution_count": 93,
     "metadata": {},
     "output_type": "execute_result"
    }
   ],
   "source": [
    "workspace"
   ]
  },
  {
   "cell_type": "code",
   "execution_count": 3,
   "id": "08e6bbbe",
   "metadata": {},
   "outputs": [],
   "source": [
    "gradespace_dir_list = glob.glob(os.path.join(workspace,'[0-9]*'))"
   ]
  },
  {
   "cell_type": "code",
   "execution_count": 4,
   "id": "97bbefc2",
   "metadata": {},
   "outputs": [
    {
     "data": {
      "text/plain": [
       "['.metadata',\n",
       " '11006381_complete',\n",
       " '11006381_complete_more',\n",
       " '11006381_partial_correct',\n",
       " 'C5_Lab5_Task1_Data_prep_clean',\n",
       " 'C5_Lab5_Task1_Data_prep_clean_with_COT',\n",
       " 'Example Workflows',\n",
       " 'KNIME_project']"
      ]
     },
     "execution_count": 4,
     "metadata": {},
     "output_type": "execute_result"
    }
   ],
   "source": [
    "os.listdir(workspace)"
   ]
  },
  {
   "cell_type": "markdown",
   "id": "8e3c4fee",
   "metadata": {},
   "source": [
    "### Initialise workflowgrader \n",
    "\n",
    "To initialise a workflowgrader, we require the location of the workspace and the reference workflow which the grading is based on. Initialisation involves executing the reference workflow once to collect the reference outputs used for grading."
   ]
  },
  {
   "cell_type": "code",
   "execution_count": 5,
   "id": "48885f22",
   "metadata": {},
   "outputs": [],
   "source": [
    "wfg = workflowgrader(workspace,'C5_Lab5_Task1_Data_prep_clean_with_COT')"
   ]
  },
  {
   "cell_type": "markdown",
   "id": "e7c7614c",
   "metadata": {},
   "source": [
    "The `.ref_workflow` allows you to check the reference workflow used for grading."
   ]
  },
  {
   "cell_type": "code",
   "execution_count": 6,
   "id": "5ac1d0b0",
   "metadata": {},
   "outputs": [
    {
     "data": {
      "text/plain": [
       "'C5_Lab5_Task1_Data_prep_clean_with_COT'"
      ]
     },
     "execution_count": 6,
     "metadata": {},
     "output_type": "execute_result"
    }
   ],
   "source": [
    "wfg.ref_workflow"
   ]
  },
  {
   "cell_type": "markdown",
   "id": "023b258e",
   "metadata": {},
   "source": [
    "The `.ref_output` returns the outputs which are collected from the reference workflow."
   ]
  },
  {
   "cell_type": "code",
   "execution_count": 7,
   "id": "005b38b3",
   "metadata": {},
   "outputs": [
    {
     "data": {
      "text/plain": [
       "{'output_1':         age  EstWeight  education-num  capital-gain  capital-loss  \\\n",
       " 0    middle     121772             11             0             0   \n",
       " 1    middle      84154             10             0             0   \n",
       " 2    middle     293936              4             0             0   \n",
       " 3    middle     117747              9             0          1573   \n",
       " 4    middle     153141              9             0             0   \n",
       " ..      ...        ...            ...           ...           ...   \n",
       " 451  middle     191196             13             0          1977   \n",
       " 452  middle     199590              3             0             0   \n",
       " 453  middle      71556             14             0             0   \n",
       " 454  middle     217597              9             0             0   \n",
       " 455  middle     107302              9             0             0   \n",
       " \n",
       "      hours-per-week(new)  \n",
       " 0                     40  \n",
       " 1                     38  \n",
       " 2                     40  \n",
       " 3                     35  \n",
       " 4                     40  \n",
       " ..                   ...  \n",
       " 451                   60  \n",
       " 452                   40  \n",
       " 453                   50  \n",
       " 454                   50  \n",
       " 455                   45  \n",
       " \n",
       " [456 rows x 6 columns],\n",
       " 'output_2':       age  EstWeight  education  education-num         marital-status  \\\n",
       " 0      53     234721       11th              7     Married-civ-spouse   \n",
       " 1      49     160187        9th              5  Married-spouse-absent   \n",
       " 2      34     245487    7th-8th              4     Married-civ-spouse   \n",
       " 3      38      28887       11th              7     Married-civ-spouse   \n",
       " 4      35      76845        9th              5     Married-civ-spouse   \n",
       " ...   ...        ...        ...            ...                    ...   \n",
       " 4697   44      71556    Masters             14     Married-civ-spouse   \n",
       " 4698   58     181974  Doctorate             16          Never-married   \n",
       " 4699   42     217597    HS-grad              9               Divorced   \n",
       " 4700   39     107302    HS-grad              9     Married-civ-spouse   \n",
       " 4701   81     120478  Assoc-voc             11               Divorced   \n",
       " \n",
       "              occupation   relationship                race     sex  \\\n",
       " 0     Handlers-cleaners        Husband               Black    Male   \n",
       " 1         Other-service  Not-in-family               Black  Female   \n",
       " 2      Transport-moving        Husband  Amer-Indian-Eskimo    Male   \n",
       " 3                 Sales        Husband               White    Male   \n",
       " 4       Farming-fishing        Husband               Black    Male   \n",
       " ...                 ...            ...                 ...     ...   \n",
       " 4697              Sales        Husband               White    Male   \n",
       " 4698     Prof-specialty  Not-in-family               White  Female   \n",
       " 4699              Sales      Own-child               White    Male   \n",
       " 4700     Prof-specialty        Husband               White    Male   \n",
       " 4701               None      Unmarried               White  Female   \n",
       " \n",
       "       capital-gain  capital-loss hours-per-week native-country income  \\\n",
       " 0                0             0          40hpw  United-States  <=50K   \n",
       " 1                0             0          16hpw        Jamaica  <=50K   \n",
       " 2                0             0          45hpw         Mexico  <=50K   \n",
       " 3                0             0          50hpw  United-States  <=50K   \n",
       " 4                0             0          40hpw  United-States  <=50K   \n",
       " ...            ...           ...            ...            ...    ...   \n",
       " 4697             0             0          50hpw           None   >50K   \n",
       " 4698             0             0          99hpw           None  <=50K   \n",
       " 4699             0             0          50hpw           None  <=50K   \n",
       " 4700             0             0          45hpw           None   >50K   \n",
       " 4701             0             0           1hpw           None  <=50K   \n",
       " \n",
       "              workclass  hours-per-week(new)  \n",
       " 0              Private                   40  \n",
       " 1              Private                   16  \n",
       " 2              Private                   45  \n",
       " 3              Private                   50  \n",
       " 4          Federal-gov                   40  \n",
       " ...                ...                  ...  \n",
       " 4697      Self-emp-inc                   50  \n",
       " 4698      Self-emp-inc                   99  \n",
       " 4699  Self-emp-not-inc                   50  \n",
       " 4700           Private                   45  \n",
       " 4701              None                    1  \n",
       " \n",
       " [4702 rows x 16 columns]}"
      ]
     },
     "execution_count": 7,
     "metadata": {},
     "output_type": "execute_result"
    }
   ],
   "source": [
    "wfg.ref_output"
   ]
  },
  {
   "cell_type": "markdown",
   "id": "1cdfd65a",
   "metadata": {},
   "source": [
    "The `.ref_node_dist` returns a dictionary of the various nodes used in the refence workflow with their respective counts."
   ]
  },
  {
   "cell_type": "code",
   "execution_count": 8,
   "id": "869a7f8f",
   "metadata": {},
   "outputs": [
    {
     "data": {
      "text/plain": [
       "{'CSV Reader': 2,\n",
       " 'Column Filter': 1,\n",
       " 'Concatenate': 1,\n",
       " 'Container Output _Table_': 2,\n",
       " 'Joiner': 1,\n",
       " 'Nominal Value Row Filter': 1,\n",
       " 'Numeric Binner': 1,\n",
       " 'Reference Column Filter': 1,\n",
       " 'Reference Row Filter': 1,\n",
       " 'Row Filter': 2,\n",
       " 'String Manipulation': 1,\n",
       " 'String To Number': 1}"
      ]
     },
     "execution_count": 8,
     "metadata": {},
     "output_type": "execute_result"
    }
   ],
   "source": [
    "wfg.ref_node_dist"
   ]
  },
  {
   "cell_type": "markdown",
   "id": "103c8ad7",
   "metadata": {},
   "source": [
    "### Data collection"
   ]
  },
  {
   "cell_type": "markdown",
   "id": "080164de",
   "metadata": {},
   "source": [
    "The `.accumulate_workflow_nodes()` method collects data on the various nodes used in a workflow and can be accessed by `.sub_node_dists`."
   ]
  },
  {
   "cell_type": "code",
   "execution_count": 9,
   "id": "5f3ffa6d",
   "metadata": {},
   "outputs": [
    {
     "name": "stderr",
     "output_type": "stream",
     "text": [
      "100%|███████████████████████████████████████████████████████████████████████████████████| 3/3 [00:00<00:00, 169.29it/s]"
     ]
    },
    {
     "name": "stdout",
     "output_type": "stream",
     "text": [
      "Wall time: 48.9 ms\n"
     ]
    },
    {
     "name": "stderr",
     "output_type": "stream",
     "text": [
      "\n"
     ]
    }
   ],
   "source": [
    "%%time\n",
    "awn = wfg.accumulate_workflow_nodes()"
   ]
  },
  {
   "cell_type": "code",
   "execution_count": 10,
   "id": "e63fbee0",
   "metadata": {},
   "outputs": [
    {
     "data": {
      "text/plain": [
       "{'11006381_complete': {'CSV Reader': 2,\n",
       "  'Column Filter': 1,\n",
       "  'Concatenate': 1,\n",
       "  'Container Output _Table_': 2,\n",
       "  'Joiner': 1,\n",
       "  'Nominal Value Row Filter': 1,\n",
       "  'Numeric Binner': 1,\n",
       "  'Reference Column Filter': 1,\n",
       "  'Reference Row Filter': 1,\n",
       "  'Row Filter': 2,\n",
       "  'String Manipulation': 1,\n",
       "  'String To Number': 1},\n",
       " '11006381_complete_more': {'CSV Reader': 2,\n",
       "  'Column Filter': 1,\n",
       "  'Concatenate': 1,\n",
       "  'Container Output _Table_': 3,\n",
       "  'Joiner': 1,\n",
       "  'Nominal Value Row Filter': 1,\n",
       "  'Numeric Binner': 1,\n",
       "  'Reference Column Filter': 1,\n",
       "  'Reference Row Filter': 1,\n",
       "  'Row Filter': 2,\n",
       "  'String Manipulation': 1,\n",
       "  'String To Number': 1},\n",
       " '11006381_partial_correct': {'CSV Reader': 2,\n",
       "  'Column Filter': 1,\n",
       "  'Container Output _Table_': 1,\n",
       "  'Joiner': 1,\n",
       "  'Nominal Value Row Filter': 1,\n",
       "  'Numeric Binner': 1,\n",
       "  'Reference Column Filter': 1,\n",
       "  'Row Filter': 1,\n",
       "  'String Manipulation': 1,\n",
       "  'String To Number': 1,\n",
       "  'Concatenate': 0,\n",
       "  'Reference Row Filter': 0}}"
      ]
     },
     "execution_count": 10,
     "metadata": {},
     "output_type": "execute_result"
    }
   ],
   "source": [
    "wfg.sub_node_dists"
   ]
  },
  {
   "cell_type": "markdown",
   "id": "893a7a42",
   "metadata": {},
   "source": [
    "The `.accumulate_workflow_outputs()` method collects all the outputs of the COT nodes from the workflows to be graded"
   ]
  },
  {
   "cell_type": "code",
   "execution_count": 11,
   "id": "b1c0b896",
   "metadata": {},
   "outputs": [
    {
     "name": "stderr",
     "output_type": "stream",
     "text": [
      "100%|████████████████████████████████████████████████████████████████████████████████████| 3/3 [00:53<00:00, 17.91s/it]"
     ]
    },
    {
     "name": "stdout",
     "output_type": "stream",
     "text": [
      "Wall time: 53.7 s\n"
     ]
    },
    {
     "name": "stderr",
     "output_type": "stream",
     "text": [
      "\n"
     ]
    }
   ],
   "source": [
    "%%time\n",
    "_, _ = wfg.accumulate_workflow_outputs()"
   ]
  },
  {
   "cell_type": "markdown",
   "id": "1cd973fd",
   "metadata": {},
   "source": [
    "The collected outputs can be accessed with `.sub_outputs` and `.sub_data_paths`"
   ]
  },
  {
   "cell_type": "code",
   "execution_count": 12,
   "id": "888b42f3",
   "metadata": {},
   "outputs": [
    {
     "data": {
      "text/plain": [
       "{'11006381_complete': {'output1':         age  fnlwgt  education-num  capital-gain  capital-loss  \\\n",
       "  0    middle  121772             11             0             0   \n",
       "  1    middle   84154             10             0             0   \n",
       "  2    middle  293936              4             0             0   \n",
       "  3    middle  117747              9             0          1573   \n",
       "  4    middle  153141              9             0             0   \n",
       "  ..      ...     ...            ...           ...           ...   \n",
       "  451  middle  191196             13             0          1977   \n",
       "  452  middle  199590              3             0             0   \n",
       "  453  middle   71556             14             0             0   \n",
       "  454  middle  217597              9             0             0   \n",
       "  455  middle  107302              9             0             0   \n",
       "  \n",
       "       hours-per-week(new)  \n",
       "  0                   40.0  \n",
       "  1                   38.0  \n",
       "  2                   40.0  \n",
       "  3                   35.0  \n",
       "  4                   40.0  \n",
       "  ..                   ...  \n",
       "  451                 60.0  \n",
       "  452                 40.0  \n",
       "  453                 50.0  \n",
       "  454                 50.0  \n",
       "  455                 45.0  \n",
       "  \n",
       "  [456 rows x 6 columns],\n",
       "  'output_2':       age  fnlwgt  education  education-num         marital-status  \\\n",
       "  0      53  234721       11th              7     Married-civ-spouse   \n",
       "  1      49  160187        9th              5  Married-spouse-absent   \n",
       "  2      34  245487    7th-8th              4     Married-civ-spouse   \n",
       "  3      38   28887       11th              7     Married-civ-spouse   \n",
       "  4      35   76845        9th              5     Married-civ-spouse   \n",
       "  ...   ...     ...        ...            ...                    ...   \n",
       "  4697   44   71556    Masters             14     Married-civ-spouse   \n",
       "  4698   58  181974  Doctorate             16          Never-married   \n",
       "  4699   42  217597    HS-grad              9               Divorced   \n",
       "  4700   39  107302    HS-grad              9     Married-civ-spouse   \n",
       "  4701   81  120478  Assoc-voc             11               Divorced   \n",
       "  \n",
       "               occupation   relationship                race     sex  \\\n",
       "  0     Handlers-cleaners        Husband               Black    Male   \n",
       "  1         Other-service  Not-in-family               Black  Female   \n",
       "  2      Transport-moving        Husband  Amer-Indian-Eskimo    Male   \n",
       "  3                 Sales        Husband               White    Male   \n",
       "  4       Farming-fishing        Husband               Black    Male   \n",
       "  ...                 ...            ...                 ...     ...   \n",
       "  4697              Sales        Husband               White    Male   \n",
       "  4698     Prof-specialty  Not-in-family               White  Female   \n",
       "  4699              Sales      Own-child               White    Male   \n",
       "  4700     Prof-specialty        Husband               White    Male   \n",
       "  4701               None      Unmarried               White  Female   \n",
       "  \n",
       "        capital-gain  capital-loss hours-per-week native-country income  \\\n",
       "  0                0             0          40hpw  United-States  <=50K   \n",
       "  1                0             0          16hpw        Jamaica  <=50K   \n",
       "  2                0             0          45hpw         Mexico  <=50K   \n",
       "  3                0             0          50hpw  United-States  <=50K   \n",
       "  4                0             0          40hpw  United-States  <=50K   \n",
       "  ...            ...           ...            ...            ...    ...   \n",
       "  4697             0             0          50hpw           None   >50K   \n",
       "  4698             0             0          99hpw           None  <=50K   \n",
       "  4699             0             0          50hpw           None  <=50K   \n",
       "  4700             0             0          45hpw           None   >50K   \n",
       "  4701             0             0           1hpw           None  <=50K   \n",
       "  \n",
       "               workclass  hours-per-week(new)  \n",
       "  0              Private                 40.0  \n",
       "  1              Private                 16.0  \n",
       "  2              Private                 45.0  \n",
       "  3              Private                 50.0  \n",
       "  4          Federal-gov                 40.0  \n",
       "  ...                ...                  ...  \n",
       "  4697      Self-emp-inc                 50.0  \n",
       "  4698      Self-emp-inc                 99.0  \n",
       "  4699  Self-emp-not-inc                 50.0  \n",
       "  4700           Private                 45.0  \n",
       "  4701              None                  1.0  \n",
       "  \n",
       "  [4702 rows x 16 columns]},\n",
       " '11006381_complete_more': {'output1':         age  education-num  capital-gain  capital-loss  hours-per-week(new)\n",
       "  0    middle             11             0             0                 40.0\n",
       "  1    middle             10             0             0                 38.0\n",
       "  2    middle              4             0             0                 40.0\n",
       "  3    middle              9             0          1573                 35.0\n",
       "  4    middle              9             0             0                 40.0\n",
       "  ..      ...            ...           ...           ...                  ...\n",
       "  451  middle             13             0          1977                 60.0\n",
       "  452  middle              3             0             0                 40.0\n",
       "  453  middle             14             0             0                 50.0\n",
       "  454  middle              9             0             0                 50.0\n",
       "  455  middle              9             0             0                 45.0\n",
       "  \n",
       "  [456 rows x 5 columns],\n",
       "  'output_2':       age  fnlwgt  education  education-num         marital-status  \\\n",
       "  0      53  234721       11th              7     Married-civ-spouse   \n",
       "  1      49  160187        9th              5  Married-spouse-absent   \n",
       "  2      34  245487    7th-8th              4     Married-civ-spouse   \n",
       "  3      38   28887       11th              7     Married-civ-spouse   \n",
       "  4      35   76845        9th              5     Married-civ-spouse   \n",
       "  ...   ...     ...        ...            ...                    ...   \n",
       "  4697   44   71556    Masters             14     Married-civ-spouse   \n",
       "  4698   58  181974  Doctorate             16          Never-married   \n",
       "  4699   42  217597    HS-grad              9               Divorced   \n",
       "  4700   39  107302    HS-grad              9     Married-civ-spouse   \n",
       "  4701   81  120478  Assoc-voc             11               Divorced   \n",
       "  \n",
       "               occupation   relationship                race     sex  \\\n",
       "  0     Handlers-cleaners        Husband               Black    Male   \n",
       "  1         Other-service  Not-in-family               Black  Female   \n",
       "  2      Transport-moving        Husband  Amer-Indian-Eskimo    Male   \n",
       "  3                 Sales        Husband               White    Male   \n",
       "  4       Farming-fishing        Husband               Black    Male   \n",
       "  ...                 ...            ...                 ...     ...   \n",
       "  4697              Sales        Husband               White    Male   \n",
       "  4698     Prof-specialty  Not-in-family               White  Female   \n",
       "  4699              Sales      Own-child               White    Male   \n",
       "  4700     Prof-specialty        Husband               White    Male   \n",
       "  4701               None      Unmarried               White  Female   \n",
       "  \n",
       "        capital-gain  capital-loss hours-per-week native-country income  \\\n",
       "  0                0             0          40hpw  United-States  <=50K   \n",
       "  1                0             0          16hpw        Jamaica  <=50K   \n",
       "  2                0             0          45hpw         Mexico  <=50K   \n",
       "  3                0             0          50hpw  United-States  <=50K   \n",
       "  4                0             0          40hpw  United-States  <=50K   \n",
       "  ...            ...           ...            ...            ...    ...   \n",
       "  4697             0             0          50hpw           None   >50K   \n",
       "  4698             0             0          99hpw           None  <=50K   \n",
       "  4699             0             0          50hpw           None  <=50K   \n",
       "  4700             0             0          45hpw           None   >50K   \n",
       "  4701             0             0           1hpw           None  <=50K   \n",
       "  \n",
       "               workclass  hours-per-week(new)  \n",
       "  0              Private                 40.0  \n",
       "  1              Private                 16.0  \n",
       "  2              Private                 45.0  \n",
       "  3              Private                 50.0  \n",
       "  4          Federal-gov                 40.0  \n",
       "  ...                ...                  ...  \n",
       "  4697      Self-emp-inc                 50.0  \n",
       "  4698      Self-emp-inc                 99.0  \n",
       "  4699  Self-emp-not-inc                 50.0  \n",
       "  4700           Private                 45.0  \n",
       "  4701              None                  1.0  \n",
       "  \n",
       "  [4702 rows x 16 columns],\n",
       "  'output_3':        age  fnlwgt   education  education-num      marital-status  \\\n",
       "  0       39   77516   Bachelors             13       Never-married   \n",
       "  1       50   83311   Bachelors             13  Married-civ-spouse   \n",
       "  2       38  215646     HS-grad              9            Divorced   \n",
       "  3       53  234721        11th              7  Married-civ-spouse   \n",
       "  4       28  338409   Bachelors             13  Married-civ-spouse   \n",
       "  ...    ...     ...         ...            ...                 ...   \n",
       "  32556   27  257302  Assoc-acdm             12  Married-civ-spouse   \n",
       "  32557   40  154374     HS-grad              9  Married-civ-spouse   \n",
       "  32558   58  151910     HS-grad              9             Widowed   \n",
       "  32559   22  201490     HS-grad              9       Never-married   \n",
       "  32560   52  287927     HS-grad              9  Married-civ-spouse   \n",
       "  \n",
       "                occupation   relationship   race     sex  capital-gain  \\\n",
       "  0           Adm-clerical  Not-in-family  White    Male          2174   \n",
       "  1        Exec-managerial        Husband  White    Male             0   \n",
       "  2      Handlers-cleaners  Not-in-family  White    Male             0   \n",
       "  3      Handlers-cleaners        Husband  Black    Male             0   \n",
       "  4         Prof-specialty           Wife  Black  Female             0   \n",
       "  ...                  ...            ...    ...     ...           ...   \n",
       "  32556       Tech-support           Wife  White  Female             0   \n",
       "  32557  Machine-op-inspct        Husband  White    Male             0   \n",
       "  32558       Adm-clerical      Unmarried  White  Female             0   \n",
       "  32559       Adm-clerical      Own-child  White    Male             0   \n",
       "  32560    Exec-managerial           Wife  White  Female         15024   \n",
       "  \n",
       "         capital-loss hours-per-week native-country income         workclass  \n",
       "  0                 0          40hpw  United-States  <=50K         State-gov  \n",
       "  1                 0          13hpw  United-States  <=50K  Self-emp-not-inc  \n",
       "  2                 0          40hpw  United-States  <=50K           Private  \n",
       "  3                 0          40hpw  United-States  <=50K           Private  \n",
       "  4                 0          40hpw           Cuba  <=50K           Private  \n",
       "  ...             ...            ...            ...    ...               ...  \n",
       "  32556             0          38hpw  United-States  <=50K           Private  \n",
       "  32557             0          40hpw  United-States   >50K           Private  \n",
       "  32558             0          40hpw  United-States  <=50K           Private  \n",
       "  32559             0          20hpw  United-States  <=50K           Private  \n",
       "  32560             0          40hpw  United-States   >50K      Self-emp-inc  \n",
       "  \n",
       "  [32561 rows x 15 columns]},\n",
       " '11006381_partial_correct': {'output_1':         age  EstWeight  education-num  capital-gain  capital-loss  \\\n",
       "  0    middle     121772             11             0             0   \n",
       "  1    middle      84154             10             0             0   \n",
       "  2    middle     293936              4             0             0   \n",
       "  3    middle     117747              9             0          1573   \n",
       "  4    middle     153141              9             0             0   \n",
       "  ..      ...        ...            ...           ...           ...   \n",
       "  451  middle     191196             13             0          1977   \n",
       "  452  middle     199590              3             0             0   \n",
       "  453  middle      71556             14             0             0   \n",
       "  454  middle     217597              9             0             0   \n",
       "  455  middle     107302              9             0             0   \n",
       "  \n",
       "       hours-per-week(new)  \n",
       "  0                   40.0  \n",
       "  1                   38.0  \n",
       "  2                   40.0  \n",
       "  3                   35.0  \n",
       "  4                   40.0  \n",
       "  ..                   ...  \n",
       "  451                 60.0  \n",
       "  452                 40.0  \n",
       "  453                 50.0  \n",
       "  454                 50.0  \n",
       "  455                 45.0  \n",
       "  \n",
       "  [456 rows x 6 columns]}}"
      ]
     },
     "execution_count": 12,
     "metadata": {},
     "output_type": "execute_result"
    }
   ],
   "source": [
    "wfg.sub_outputs"
   ]
  },
  {
   "cell_type": "code",
   "execution_count": 13,
   "id": "3f9c173e",
   "metadata": {},
   "outputs": [
    {
     "name": "stdout",
     "output_type": "stream",
     "text": [
      "11006381_complete ['C:\\\\Users\\\\s11006381\\\\Documents\\\\Semesters\\\\2210\\\\SAE\\\\datasets\\\\adult_sae.csv', 'file:/D:/Teaching/SAE/BB/Datasets/Chapter05/adult_sae-workclass.csv']\n",
      "11006381_complete_more ['C:\\\\Users\\\\s11006381\\\\Documents\\\\Semesters\\\\2210\\\\SAE\\\\datasets\\\\adult_sae.csv', 'file:/D:/Teaching/SAE/BB/Datasets/Chapter05/adult_sae-workclass.csv']\n",
      "11006381_partial_correct ['file:/C:/Users/s11006381/Documents/Semesters/2210/SAE/datasets/adult_sae.csv', 'file:/C:/Users/s11006381/Documents/Semesters/2210/SAE/datasets/adult_sae-workclass.csv']\n"
     ]
    }
   ],
   "source": [
    "for i in wfg.sub_data_paths:\n",
    "    print(i,wfg.sub_data_paths[i])"
   ]
  },
  {
   "cell_type": "markdown",
   "id": "6ed041a7",
   "metadata": {},
   "source": [
    "### Data processing"
   ]
  },
  {
   "cell_type": "markdown",
   "id": "45e1ef35",
   "metadata": {},
   "source": [
    "The `.check_question()` method checks for any missing questions within each output and can be accessed by `.check_question_results`."
   ]
  },
  {
   "cell_type": "code",
   "execution_count": 14,
   "id": "38beca01",
   "metadata": {},
   "outputs": [
    {
     "name": "stderr",
     "output_type": "stream",
     "text": [
      "100%|██████████████████████████████████████████████████████████████████████████████████| 3/3 [00:00<00:00, 3005.95it/s]"
     ]
    },
    {
     "name": "stdout",
     "output_type": "stream",
     "text": [
      "Wall time: 12 ms\n"
     ]
    },
    {
     "name": "stderr",
     "output_type": "stream",
     "text": [
      "\n"
     ]
    }
   ],
   "source": [
    "%%time\n",
    "cqr = wfg.check_question()"
   ]
  },
  {
   "cell_type": "code",
   "execution_count": 15,
   "id": "eb2bb326",
   "metadata": {},
   "outputs": [
    {
     "data": {
      "text/plain": [
       "{'11006381_complete': ([], []),\n",
       " '11006381_complete_more': (['output_1'], ['output1', 'output_3']),\n",
       " '11006381_partial_correct': (['output_2'], [])}"
      ]
     },
     "execution_count": 15,
     "metadata": {},
     "output_type": "execute_result"
    }
   ],
   "source": [
    "wfg.check_question_results"
   ]
  },
  {
   "cell_type": "markdown",
   "id": "72a9d7bd",
   "metadata": {},
   "source": [
    "The `.check_variable()` method checks for any missing variables within each output for each workflow and can be accessed by `.check_variable_results`."
   ]
  },
  {
   "cell_type": "code",
   "execution_count": 16,
   "id": "780c95fa",
   "metadata": {},
   "outputs": [
    {
     "name": "stderr",
     "output_type": "stream",
     "text": [
      "100%|████████████████████████████████████████████████████████████████████████████████████| 2/2 [00:00<00:00, 98.70it/s]"
     ]
    },
    {
     "name": "stdout",
     "output_type": "stream",
     "text": [
      "Wall time: 27.9 ms\n"
     ]
    },
    {
     "name": "stderr",
     "output_type": "stream",
     "text": [
      "\n"
     ]
    }
   ],
   "source": [
    "%%time\n",
    "cvr = wfg.check_variable()"
   ]
  },
  {
   "cell_type": "code",
   "execution_count": 17,
   "id": "b1977ef2",
   "metadata": {},
   "outputs": [
    {
     "data": {
      "text/plain": [
       "{'output_1': {'11006381_complete': (['EstWeight'],\n",
       "   [('hours-per-week(new)', dtype('float64'))]),\n",
       "  '11006381_complete_more': (['UNGRADED'], ['UNGRADED']),\n",
       "  '11006381_partial_correct': ([],\n",
       "   [('hours-per-week(new)', dtype('float64'))])},\n",
       " 'output_2': {'11006381_complete': (['EstWeight'],\n",
       "   [('hours-per-week(new)', dtype('float64'))]),\n",
       "  '11006381_complete_more': (['EstWeight'],\n",
       "   [('hours-per-week(new)', dtype('float64'))]),\n",
       "  '11006381_partial_correct': (['UNGRADED'], ['UNGRADED'])}}"
      ]
     },
     "execution_count": 17,
     "metadata": {},
     "output_type": "execute_result"
    }
   ],
   "source": [
    "wfg.check_var_results"
   ]
  },
  {
   "cell_type": "code",
   "execution_count": 18,
   "id": "b71825b0",
   "metadata": {},
   "outputs": [
    {
     "data": {
      "text/html": [
       "<div>\n",
       "<style scoped>\n",
       "    .dataframe tbody tr th:only-of-type {\n",
       "        vertical-align: middle;\n",
       "    }\n",
       "\n",
       "    .dataframe tbody tr th {\n",
       "        vertical-align: top;\n",
       "    }\n",
       "\n",
       "    .dataframe thead th {\n",
       "        text-align: right;\n",
       "    }\n",
       "</style>\n",
       "<table border=\"1\" class=\"dataframe\">\n",
       "  <thead>\n",
       "    <tr style=\"text-align: right;\">\n",
       "      <th></th>\n",
       "      <th>age</th>\n",
       "      <th>fnlwgt</th>\n",
       "      <th>education-num</th>\n",
       "      <th>capital-gain</th>\n",
       "      <th>capital-loss</th>\n",
       "      <th>hours-per-week(new)</th>\n",
       "    </tr>\n",
       "  </thead>\n",
       "  <tbody>\n",
       "    <tr>\n",
       "      <th>0</th>\n",
       "      <td>middle</td>\n",
       "      <td>121772</td>\n",
       "      <td>11</td>\n",
       "      <td>0</td>\n",
       "      <td>0</td>\n",
       "      <td>40.0</td>\n",
       "    </tr>\n",
       "    <tr>\n",
       "      <th>1</th>\n",
       "      <td>middle</td>\n",
       "      <td>84154</td>\n",
       "      <td>10</td>\n",
       "      <td>0</td>\n",
       "      <td>0</td>\n",
       "      <td>38.0</td>\n",
       "    </tr>\n",
       "    <tr>\n",
       "      <th>2</th>\n",
       "      <td>middle</td>\n",
       "      <td>293936</td>\n",
       "      <td>4</td>\n",
       "      <td>0</td>\n",
       "      <td>0</td>\n",
       "      <td>40.0</td>\n",
       "    </tr>\n",
       "    <tr>\n",
       "      <th>3</th>\n",
       "      <td>middle</td>\n",
       "      <td>117747</td>\n",
       "      <td>9</td>\n",
       "      <td>0</td>\n",
       "      <td>1573</td>\n",
       "      <td>35.0</td>\n",
       "    </tr>\n",
       "    <tr>\n",
       "      <th>4</th>\n",
       "      <td>middle</td>\n",
       "      <td>153141</td>\n",
       "      <td>9</td>\n",
       "      <td>0</td>\n",
       "      <td>0</td>\n",
       "      <td>40.0</td>\n",
       "    </tr>\n",
       "    <tr>\n",
       "      <th>...</th>\n",
       "      <td>...</td>\n",
       "      <td>...</td>\n",
       "      <td>...</td>\n",
       "      <td>...</td>\n",
       "      <td>...</td>\n",
       "      <td>...</td>\n",
       "    </tr>\n",
       "    <tr>\n",
       "      <th>451</th>\n",
       "      <td>middle</td>\n",
       "      <td>191196</td>\n",
       "      <td>13</td>\n",
       "      <td>0</td>\n",
       "      <td>1977</td>\n",
       "      <td>60.0</td>\n",
       "    </tr>\n",
       "    <tr>\n",
       "      <th>452</th>\n",
       "      <td>middle</td>\n",
       "      <td>199590</td>\n",
       "      <td>3</td>\n",
       "      <td>0</td>\n",
       "      <td>0</td>\n",
       "      <td>40.0</td>\n",
       "    </tr>\n",
       "    <tr>\n",
       "      <th>453</th>\n",
       "      <td>middle</td>\n",
       "      <td>71556</td>\n",
       "      <td>14</td>\n",
       "      <td>0</td>\n",
       "      <td>0</td>\n",
       "      <td>50.0</td>\n",
       "    </tr>\n",
       "    <tr>\n",
       "      <th>454</th>\n",
       "      <td>middle</td>\n",
       "      <td>217597</td>\n",
       "      <td>9</td>\n",
       "      <td>0</td>\n",
       "      <td>0</td>\n",
       "      <td>50.0</td>\n",
       "    </tr>\n",
       "    <tr>\n",
       "      <th>455</th>\n",
       "      <td>middle</td>\n",
       "      <td>107302</td>\n",
       "      <td>9</td>\n",
       "      <td>0</td>\n",
       "      <td>0</td>\n",
       "      <td>45.0</td>\n",
       "    </tr>\n",
       "  </tbody>\n",
       "</table>\n",
       "<p>456 rows × 6 columns</p>\n",
       "</div>"
      ],
      "text/plain": [
       "        age  fnlwgt  education-num  capital-gain  capital-loss  \\\n",
       "0    middle  121772             11             0             0   \n",
       "1    middle   84154             10             0             0   \n",
       "2    middle  293936              4             0             0   \n",
       "3    middle  117747              9             0          1573   \n",
       "4    middle  153141              9             0             0   \n",
       "..      ...     ...            ...           ...           ...   \n",
       "451  middle  191196             13             0          1977   \n",
       "452  middle  199590              3             0             0   \n",
       "453  middle   71556             14             0             0   \n",
       "454  middle  217597              9             0             0   \n",
       "455  middle  107302              9             0             0   \n",
       "\n",
       "     hours-per-week(new)  \n",
       "0                   40.0  \n",
       "1                   38.0  \n",
       "2                   40.0  \n",
       "3                   35.0  \n",
       "4                   40.0  \n",
       "..                   ...  \n",
       "451                 60.0  \n",
       "452                 40.0  \n",
       "453                 50.0  \n",
       "454                 50.0  \n",
       "455                 45.0  \n",
       "\n",
       "[456 rows x 6 columns]"
      ]
     },
     "execution_count": 18,
     "metadata": {},
     "output_type": "execute_result"
    }
   ],
   "source": [
    "wfg.sub_outputs['11006381_complete']['output_1']"
   ]
  },
  {
   "cell_type": "markdown",
   "id": "c5ccc171",
   "metadata": {},
   "source": [
    "The `.check_data()` method checks for any incorrect data for each of the variables in a given output and can be accessed by `.check_data_results`."
   ]
  },
  {
   "cell_type": "code",
   "execution_count": 19,
   "id": "6ee64b21",
   "metadata": {},
   "outputs": [
    {
     "name": "stderr",
     "output_type": "stream",
     "text": [
      "100%|████████████████████████████████████████████████████████████████████████████████████| 2/2 [00:00<00:00, 36.58it/s]"
     ]
    },
    {
     "name": "stdout",
     "output_type": "stream",
     "text": [
      "Wall time: 65.7 ms\n"
     ]
    },
    {
     "name": "stderr",
     "output_type": "stream",
     "text": [
      "\n"
     ]
    }
   ],
   "source": [
    "%%time\n",
    "cdr = wfg.check_data()"
   ]
  },
  {
   "cell_type": "code",
   "execution_count": 20,
   "id": "9ae78c9d",
   "metadata": {},
   "outputs": [
    {
     "data": {
      "text/plain": [
       "{'output_1': {'11006381_complete': ['hours-per-week(new)'],\n",
       "  '11006381_complete_more': ['UNGRADED'],\n",
       "  '11006381_partial_correct': ['hours-per-week(new)']},\n",
       " 'output_2': {'11006381_complete': ['hours-per-week(new)'],\n",
       "  '11006381_complete_more': ['hours-per-week(new)'],\n",
       "  '11006381_partial_correct': ['UNGRADED']}}"
      ]
     },
     "execution_count": 20,
     "metadata": {},
     "output_type": "execute_result"
    }
   ],
   "source": [
    "wfg.check_data_results"
   ]
  },
  {
   "cell_type": "markdown",
   "id": "5ed9e4f3",
   "metadata": {},
   "source": [
    "### Combine data"
   ]
  },
  {
   "cell_type": "markdown",
   "id": "b68eeef4",
   "metadata": {},
   "source": [
    "#### `data_filepaths` variable\n",
    "\n",
    "Saving the data file paths of the workflow as a list with the column name `data_filepaths`. This information can be used to filter out students who use other students' workflow as their own submission."
   ]
  },
  {
   "cell_type": "code",
   "execution_count": 22,
   "id": "f7471384",
   "metadata": {},
   "outputs": [
    {
     "data": {
      "text/plain": [
       "11006381_complete           [C:\\Users\\s11006381\\Documents\\Semesters\\2210\\S...\n",
       "11006381_complete_more      [C:\\Users\\s11006381\\Documents\\Semesters\\2210\\S...\n",
       "11006381_partial_correct    [file:/C:/Users/s11006381/Documents/Semesters/...\n",
       "Name: data_filepaths, dtype: object"
      ]
     },
     "execution_count": 22,
     "metadata": {},
     "output_type": "execute_result"
    }
   ],
   "source": [
    "fp_df = pd.Series(wfg.sub_data_paths,name='data_filepaths')\n",
    "fp_df"
   ]
  },
  {
   "cell_type": "code",
   "execution_count": 23,
   "id": "3713a308",
   "metadata": {},
   "outputs": [
    {
     "data": {
      "text/html": [
       "<div>\n",
       "<style scoped>\n",
       "    .dataframe tbody tr th:only-of-type {\n",
       "        vertical-align: middle;\n",
       "    }\n",
       "\n",
       "    .dataframe tbody tr th {\n",
       "        vertical-align: top;\n",
       "    }\n",
       "\n",
       "    .dataframe thead th {\n",
       "        text-align: right;\n",
       "    }\n",
       "</style>\n",
       "<table border=\"1\" class=\"dataframe\">\n",
       "  <thead>\n",
       "    <tr style=\"text-align: right;\">\n",
       "      <th></th>\n",
       "      <th>0</th>\n",
       "      <th>1</th>\n",
       "    </tr>\n",
       "  </thead>\n",
       "  <tbody>\n",
       "    <tr>\n",
       "      <th>11006381_complete</th>\n",
       "      <td>C:\\Users\\s11006381\\Documents\\Semesters\\2210\\SA...</td>\n",
       "      <td>file:/D:/Teaching/SAE/BB/Datasets/Chapter05/ad...</td>\n",
       "    </tr>\n",
       "    <tr>\n",
       "      <th>11006381_complete_more</th>\n",
       "      <td>C:\\Users\\s11006381\\Documents\\Semesters\\2210\\SA...</td>\n",
       "      <td>file:/D:/Teaching/SAE/BB/Datasets/Chapter05/ad...</td>\n",
       "    </tr>\n",
       "    <tr>\n",
       "      <th>11006381_partial_correct</th>\n",
       "      <td>file:/C:/Users/s11006381/Documents/Semesters/2...</td>\n",
       "      <td>file:/C:/Users/s11006381/Documents/Semesters/2...</td>\n",
       "    </tr>\n",
       "  </tbody>\n",
       "</table>\n",
       "</div>"
      ],
      "text/plain": [
       "                                                                          0  \\\n",
       "11006381_complete         C:\\Users\\s11006381\\Documents\\Semesters\\2210\\SA...   \n",
       "11006381_complete_more    C:\\Users\\s11006381\\Documents\\Semesters\\2210\\SA...   \n",
       "11006381_partial_correct  file:/C:/Users/s11006381/Documents/Semesters/2...   \n",
       "\n",
       "                                                                          1  \n",
       "11006381_complete         file:/D:/Teaching/SAE/BB/Datasets/Chapter05/ad...  \n",
       "11006381_complete_more    file:/D:/Teaching/SAE/BB/Datasets/Chapter05/ad...  \n",
       "11006381_partial_correct  file:/C:/Users/s11006381/Documents/Semesters/2...  "
      ]
     },
     "execution_count": 23,
     "metadata": {},
     "output_type": "execute_result"
    }
   ],
   "source": [
    "# old version\n",
    "pd.DataFrame.from_dict(wfg.sub_data_paths, orient='index')"
   ]
  },
  {
   "cell_type": "markdown",
   "id": "a1385697",
   "metadata": {},
   "source": [
    "#### `missing_questions` and `foreign questions` variable\n",
    "\n",
    "The list of missing and foreign questions in their outputs gives us an overview of the completion of the task. This variable is reliant on the usage of COT nodes and its annotation. To prevent students from forgetting to attach their workflow outputs to the COT nodes, we can providing them with a KNIME workflow template with the required COT nodes, anotation and instructions to help with it.     "
   ]
  },
  {
   "cell_type": "code",
   "execution_count": 26,
   "id": "5370e6eb",
   "metadata": {},
   "outputs": [
    {
     "data": {
      "text/html": [
       "<div>\n",
       "<style scoped>\n",
       "    .dataframe tbody tr th:only-of-type {\n",
       "        vertical-align: middle;\n",
       "    }\n",
       "\n",
       "    .dataframe tbody tr th {\n",
       "        vertical-align: top;\n",
       "    }\n",
       "\n",
       "    .dataframe thead th {\n",
       "        text-align: right;\n",
       "    }\n",
       "</style>\n",
       "<table border=\"1\" class=\"dataframe\">\n",
       "  <thead>\n",
       "    <tr style=\"text-align: right;\">\n",
       "      <th></th>\n",
       "      <th>missing_questions</th>\n",
       "      <th>foreign_questions</th>\n",
       "    </tr>\n",
       "  </thead>\n",
       "  <tbody>\n",
       "    <tr>\n",
       "      <th>11006381_complete</th>\n",
       "      <td>[]</td>\n",
       "      <td>[]</td>\n",
       "    </tr>\n",
       "    <tr>\n",
       "      <th>11006381_complete_more</th>\n",
       "      <td>[output_1]</td>\n",
       "      <td>[output1, output_3]</td>\n",
       "    </tr>\n",
       "    <tr>\n",
       "      <th>11006381_partial_correct</th>\n",
       "      <td>[output_2]</td>\n",
       "      <td>[]</td>\n",
       "    </tr>\n",
       "  </tbody>\n",
       "</table>\n",
       "</div>"
      ],
      "text/plain": [
       "                         missing_questions    foreign_questions\n",
       "11006381_complete                       []                   []\n",
       "11006381_complete_more          [output_1]  [output1, output_3]\n",
       "11006381_partial_correct        [output_2]                   []"
      ]
     },
     "execution_count": 26,
     "metadata": {},
     "output_type": "execute_result"
    }
   ],
   "source": [
    "cqr_df = pd.DataFrame.from_dict(cqr,orient='index',columns=['missing_questions','foreign_questions'])\n",
    "cqr_df"
   ]
  },
  {
   "cell_type": "code",
   "execution_count": 27,
   "id": "0f24624a",
   "metadata": {},
   "outputs": [
    {
     "data": {
      "text/html": [
       "<div>\n",
       "<style scoped>\n",
       "    .dataframe tbody tr th:only-of-type {\n",
       "        vertical-align: middle;\n",
       "    }\n",
       "\n",
       "    .dataframe tbody tr th {\n",
       "        vertical-align: top;\n",
       "    }\n",
       "\n",
       "    .dataframe thead th {\n",
       "        text-align: right;\n",
       "    }\n",
       "</style>\n",
       "<table border=\"1\" class=\"dataframe\">\n",
       "  <thead>\n",
       "    <tr style=\"text-align: right;\">\n",
       "      <th></th>\n",
       "      <th>missing_questions</th>\n",
       "      <th>foreign_questions</th>\n",
       "      <th>question_completion</th>\n",
       "    </tr>\n",
       "  </thead>\n",
       "  <tbody>\n",
       "    <tr>\n",
       "      <th>11006381_complete</th>\n",
       "      <td>[]</td>\n",
       "      <td>[]</td>\n",
       "      <td>1.0</td>\n",
       "    </tr>\n",
       "    <tr>\n",
       "      <th>11006381_complete_more</th>\n",
       "      <td>[output_1]</td>\n",
       "      <td>[output1, output_3]</td>\n",
       "      <td>0.5</td>\n",
       "    </tr>\n",
       "    <tr>\n",
       "      <th>11006381_partial_correct</th>\n",
       "      <td>[output_2]</td>\n",
       "      <td>[]</td>\n",
       "      <td>0.5</td>\n",
       "    </tr>\n",
       "  </tbody>\n",
       "</table>\n",
       "</div>"
      ],
      "text/plain": [
       "                         missing_questions    foreign_questions  \\\n",
       "11006381_complete                       []                   []   \n",
       "11006381_complete_more          [output_1]  [output1, output_3]   \n",
       "11006381_partial_correct        [output_2]                   []   \n",
       "\n",
       "                          question_completion  \n",
       "11006381_complete                         1.0  \n",
       "11006381_complete_more                    0.5  \n",
       "11006381_partial_correct                  0.5  "
      ]
     },
     "execution_count": 27,
     "metadata": {},
     "output_type": "execute_result"
    }
   ],
   "source": [
    "cqr_df['question_completion'] = cqr_df['missing_questions'].apply(lambda x : 1-(len(x)/len(wfg.ref_output.keys())))\n",
    "cqr_df"
   ]
  },
  {
   "cell_type": "code",
   "execution_count": 28,
   "id": "89717036",
   "metadata": {},
   "outputs": [
    {
     "data": {
      "text/plain": [
       "11006381_complete                                    ([], [])\n",
       "11006381_complete_more      ([output_1], [output1, output_3])\n",
       "11006381_partial_correct                     ([output_2], [])\n",
       "Name: question_response, dtype: object"
      ]
     },
     "execution_count": 28,
     "metadata": {},
     "output_type": "execute_result"
    }
   ],
   "source": [
    "# old version\n",
    "pd.Series(cqr,name='question_response')"
   ]
  },
  {
   "cell_type": "markdown",
   "id": "b0267835",
   "metadata": {},
   "source": [
    "#### `missing_var` and `incorrect_var_dtype` variable\n",
    "\n",
    "The list of missing and incorrect variable datatype in their outputs gives us important insight to their familiarity with KNIME and understanding of the task. The grading process is guided by the reference workflow; we will mark a workflow by matching their variables to the variables in the reference workflow. Matched variables are marked and foreign variables are ignored. The decision to ignore foreign variables is due to the result oriented grading process, as any given task can be done in various ways and not the only approach in the reference workflow."
   ]
  },
  {
   "cell_type": "code",
   "execution_count": 34,
   "id": "38367432",
   "metadata": {},
   "outputs": [
    {
     "data": {
      "text/html": [
       "<div>\n",
       "<style scoped>\n",
       "    .dataframe tbody tr th:only-of-type {\n",
       "        vertical-align: middle;\n",
       "    }\n",
       "\n",
       "    .dataframe tbody tr th {\n",
       "        vertical-align: top;\n",
       "    }\n",
       "\n",
       "    .dataframe thead th {\n",
       "        text-align: right;\n",
       "    }\n",
       "</style>\n",
       "<table border=\"1\" class=\"dataframe\">\n",
       "  <thead>\n",
       "    <tr style=\"text-align: right;\">\n",
       "      <th></th>\n",
       "      <th>output_1</th>\n",
       "      <th>output_2</th>\n",
       "    </tr>\n",
       "  </thead>\n",
       "  <tbody>\n",
       "    <tr>\n",
       "      <th>11006381_complete</th>\n",
       "      <td>([EstWeight], [(hours-per-week(new), float64)])</td>\n",
       "      <td>([EstWeight], [(hours-per-week(new), float64)])</td>\n",
       "    </tr>\n",
       "    <tr>\n",
       "      <th>11006381_complete_more</th>\n",
       "      <td>([UNGRADED], [UNGRADED])</td>\n",
       "      <td>([EstWeight], [(hours-per-week(new), float64)])</td>\n",
       "    </tr>\n",
       "    <tr>\n",
       "      <th>11006381_partial_correct</th>\n",
       "      <td>([], [(hours-per-week(new), float64)])</td>\n",
       "      <td>([UNGRADED], [UNGRADED])</td>\n",
       "    </tr>\n",
       "  </tbody>\n",
       "</table>\n",
       "</div>"
      ],
      "text/plain": [
       "                                                                 output_1  \\\n",
       "11006381_complete         ([EstWeight], [(hours-per-week(new), float64)])   \n",
       "11006381_complete_more                           ([UNGRADED], [UNGRADED])   \n",
       "11006381_partial_correct           ([], [(hours-per-week(new), float64)])   \n",
       "\n",
       "                                                                 output_2  \n",
       "11006381_complete         ([EstWeight], [(hours-per-week(new), float64)])  \n",
       "11006381_complete_more    ([EstWeight], [(hours-per-week(new), float64)])  \n",
       "11006381_partial_correct                         ([UNGRADED], [UNGRADED])  "
      ]
     },
     "execution_count": 34,
     "metadata": {},
     "output_type": "execute_result"
    }
   ],
   "source": [
    "cvr_df = pd.DataFrame.from_dict(cvr)\n",
    "cvr_df.head()"
   ]
  },
  {
   "cell_type": "code",
   "execution_count": 35,
   "id": "4b523ae8",
   "metadata": {},
   "outputs": [],
   "source": [
    "for i in cvr_df.columns:\n",
    "    cvr_df[i+'_var_completion'] = cvr_df[i].apply(lambda x : 1-(len(x[0])/len(wfg.ref_output[i].columns)) if 'UNGRADED' not in x[0] else x[0][0])\n",
    "    cvr_df[i+'_dtype_completion'] = cvr_df[i].apply(lambda x : 1-(len(x[0])/len(wfg.ref_output[i].columns)) if 'UNGRADED' not in x[0] else x[0][0])\n",
    "    cvr_df[[i+'_missing_var',i+'_incorrect_var_dtype']] = pd.DataFrame(cvr_df[i].to_list(),index=cvr_df.index)\n",
    "    del cvr_df[i] "
   ]
  },
  {
   "cell_type": "code",
   "execution_count": 36,
   "id": "cc0cb677",
   "metadata": {},
   "outputs": [
    {
     "data": {
      "text/html": [
       "<div>\n",
       "<style scoped>\n",
       "    .dataframe tbody tr th:only-of-type {\n",
       "        vertical-align: middle;\n",
       "    }\n",
       "\n",
       "    .dataframe tbody tr th {\n",
       "        vertical-align: top;\n",
       "    }\n",
       "\n",
       "    .dataframe thead th {\n",
       "        text-align: right;\n",
       "    }\n",
       "</style>\n",
       "<table border=\"1\" class=\"dataframe\">\n",
       "  <thead>\n",
       "    <tr style=\"text-align: right;\">\n",
       "      <th></th>\n",
       "      <th>output_1_var_completion</th>\n",
       "      <th>output_1_dtype_completion</th>\n",
       "      <th>output_1_missing_var</th>\n",
       "      <th>output_1_incorrect_var_dtype</th>\n",
       "      <th>output_2_var_completion</th>\n",
       "      <th>output_2_dtype_completion</th>\n",
       "      <th>output_2_missing_var</th>\n",
       "      <th>output_2_incorrect_var_dtype</th>\n",
       "    </tr>\n",
       "  </thead>\n",
       "  <tbody>\n",
       "    <tr>\n",
       "      <th>11006381_complete</th>\n",
       "      <td>0.833333</td>\n",
       "      <td>0.833333</td>\n",
       "      <td>[EstWeight]</td>\n",
       "      <td>[(hours-per-week(new), float64)]</td>\n",
       "      <td>0.9375</td>\n",
       "      <td>0.9375</td>\n",
       "      <td>[EstWeight]</td>\n",
       "      <td>[(hours-per-week(new), float64)]</td>\n",
       "    </tr>\n",
       "    <tr>\n",
       "      <th>11006381_complete_more</th>\n",
       "      <td>UNGRADED</td>\n",
       "      <td>UNGRADED</td>\n",
       "      <td>[UNGRADED]</td>\n",
       "      <td>[UNGRADED]</td>\n",
       "      <td>0.9375</td>\n",
       "      <td>0.9375</td>\n",
       "      <td>[EstWeight]</td>\n",
       "      <td>[(hours-per-week(new), float64)]</td>\n",
       "    </tr>\n",
       "    <tr>\n",
       "      <th>11006381_partial_correct</th>\n",
       "      <td>1.0</td>\n",
       "      <td>1.0</td>\n",
       "      <td>[]</td>\n",
       "      <td>[(hours-per-week(new), float64)]</td>\n",
       "      <td>UNGRADED</td>\n",
       "      <td>UNGRADED</td>\n",
       "      <td>[UNGRADED]</td>\n",
       "      <td>[UNGRADED]</td>\n",
       "    </tr>\n",
       "  </tbody>\n",
       "</table>\n",
       "</div>"
      ],
      "text/plain": [
       "                         output_1_var_completion output_1_dtype_completion  \\\n",
       "11006381_complete                       0.833333                  0.833333   \n",
       "11006381_complete_more                  UNGRADED                  UNGRADED   \n",
       "11006381_partial_correct                     1.0                       1.0   \n",
       "\n",
       "                         output_1_missing_var  \\\n",
       "11006381_complete                 [EstWeight]   \n",
       "11006381_complete_more             [UNGRADED]   \n",
       "11006381_partial_correct                   []   \n",
       "\n",
       "                              output_1_incorrect_var_dtype  \\\n",
       "11006381_complete         [(hours-per-week(new), float64)]   \n",
       "11006381_complete_more                          [UNGRADED]   \n",
       "11006381_partial_correct  [(hours-per-week(new), float64)]   \n",
       "\n",
       "                         output_2_var_completion output_2_dtype_completion  \\\n",
       "11006381_complete                         0.9375                    0.9375   \n",
       "11006381_complete_more                    0.9375                    0.9375   \n",
       "11006381_partial_correct                UNGRADED                  UNGRADED   \n",
       "\n",
       "                         output_2_missing_var  \\\n",
       "11006381_complete                 [EstWeight]   \n",
       "11006381_complete_more            [EstWeight]   \n",
       "11006381_partial_correct           [UNGRADED]   \n",
       "\n",
       "                              output_2_incorrect_var_dtype  \n",
       "11006381_complete         [(hours-per-week(new), float64)]  \n",
       "11006381_complete_more    [(hours-per-week(new), float64)]  \n",
       "11006381_partial_correct                        [UNGRADED]  "
      ]
     },
     "execution_count": 36,
     "metadata": {},
     "output_type": "execute_result"
    }
   ],
   "source": [
    "cvr_df.head()"
   ]
  },
  {
   "cell_type": "code",
   "execution_count": 37,
   "id": "71ff0a47",
   "metadata": {},
   "outputs": [
    {
     "data": {
      "text/html": [
       "<div>\n",
       "<style scoped>\n",
       "    .dataframe tbody tr th:only-of-type {\n",
       "        vertical-align: middle;\n",
       "    }\n",
       "\n",
       "    .dataframe tbody tr th {\n",
       "        vertical-align: top;\n",
       "    }\n",
       "\n",
       "    .dataframe thead th {\n",
       "        text-align: right;\n",
       "    }\n",
       "</style>\n",
       "<table border=\"1\" class=\"dataframe\">\n",
       "  <thead>\n",
       "    <tr style=\"text-align: right;\">\n",
       "      <th></th>\n",
       "      <th>missing_questions</th>\n",
       "      <th>foreign_questions</th>\n",
       "      <th>question_completion</th>\n",
       "      <th>output_1_var_completion</th>\n",
       "      <th>output_1_dtype_completion</th>\n",
       "      <th>output_1_missing_var</th>\n",
       "      <th>output_1_incorrect_var_dtype</th>\n",
       "      <th>output_2_var_completion</th>\n",
       "      <th>output_2_dtype_completion</th>\n",
       "      <th>output_2_missing_var</th>\n",
       "      <th>output_2_incorrect_var_dtype</th>\n",
       "    </tr>\n",
       "  </thead>\n",
       "  <tbody>\n",
       "    <tr>\n",
       "      <th>11006381_complete</th>\n",
       "      <td>[]</td>\n",
       "      <td>[]</td>\n",
       "      <td>1.0</td>\n",
       "      <td>0.833333</td>\n",
       "      <td>0.833333</td>\n",
       "      <td>[EstWeight]</td>\n",
       "      <td>[(hours-per-week(new), float64)]</td>\n",
       "      <td>0.9375</td>\n",
       "      <td>0.9375</td>\n",
       "      <td>[EstWeight]</td>\n",
       "      <td>[(hours-per-week(new), float64)]</td>\n",
       "    </tr>\n",
       "    <tr>\n",
       "      <th>11006381_complete_more</th>\n",
       "      <td>[output_1]</td>\n",
       "      <td>[output1, output_3]</td>\n",
       "      <td>0.5</td>\n",
       "      <td>UNGRADED</td>\n",
       "      <td>UNGRADED</td>\n",
       "      <td>[UNGRADED]</td>\n",
       "      <td>[UNGRADED]</td>\n",
       "      <td>0.9375</td>\n",
       "      <td>0.9375</td>\n",
       "      <td>[EstWeight]</td>\n",
       "      <td>[(hours-per-week(new), float64)]</td>\n",
       "    </tr>\n",
       "    <tr>\n",
       "      <th>11006381_partial_correct</th>\n",
       "      <td>[output_2]</td>\n",
       "      <td>[]</td>\n",
       "      <td>0.5</td>\n",
       "      <td>1.0</td>\n",
       "      <td>1.0</td>\n",
       "      <td>[]</td>\n",
       "      <td>[(hours-per-week(new), float64)]</td>\n",
       "      <td>UNGRADED</td>\n",
       "      <td>UNGRADED</td>\n",
       "      <td>[UNGRADED]</td>\n",
       "      <td>[UNGRADED]</td>\n",
       "    </tr>\n",
       "  </tbody>\n",
       "</table>\n",
       "</div>"
      ],
      "text/plain": [
       "                         missing_questions    foreign_questions  \\\n",
       "11006381_complete                       []                   []   \n",
       "11006381_complete_more          [output_1]  [output1, output_3]   \n",
       "11006381_partial_correct        [output_2]                   []   \n",
       "\n",
       "                          question_completion output_1_var_completion  \\\n",
       "11006381_complete                         1.0                0.833333   \n",
       "11006381_complete_more                    0.5                UNGRADED   \n",
       "11006381_partial_correct                  0.5                     1.0   \n",
       "\n",
       "                         output_1_dtype_completion output_1_missing_var  \\\n",
       "11006381_complete                         0.833333          [EstWeight]   \n",
       "11006381_complete_more                    UNGRADED           [UNGRADED]   \n",
       "11006381_partial_correct                       1.0                   []   \n",
       "\n",
       "                              output_1_incorrect_var_dtype  \\\n",
       "11006381_complete         [(hours-per-week(new), float64)]   \n",
       "11006381_complete_more                          [UNGRADED]   \n",
       "11006381_partial_correct  [(hours-per-week(new), float64)]   \n",
       "\n",
       "                         output_2_var_completion output_2_dtype_completion  \\\n",
       "11006381_complete                         0.9375                    0.9375   \n",
       "11006381_complete_more                    0.9375                    0.9375   \n",
       "11006381_partial_correct                UNGRADED                  UNGRADED   \n",
       "\n",
       "                         output_2_missing_var  \\\n",
       "11006381_complete                 [EstWeight]   \n",
       "11006381_complete_more            [EstWeight]   \n",
       "11006381_partial_correct           [UNGRADED]   \n",
       "\n",
       "                              output_2_incorrect_var_dtype  \n",
       "11006381_complete         [(hours-per-week(new), float64)]  \n",
       "11006381_complete_more    [(hours-per-week(new), float64)]  \n",
       "11006381_partial_correct                        [UNGRADED]  "
      ]
     },
     "execution_count": 37,
     "metadata": {},
     "output_type": "execute_result"
    }
   ],
   "source": [
    "cqvr_df = pd.merge(cqr_df,cvr_df,left_index=True,right_index=True)\n",
    "cqvr_df"
   ]
  },
  {
   "cell_type": "code",
   "execution_count": 45,
   "id": "022ba9e8",
   "metadata": {},
   "outputs": [
    {
     "data": {
      "text/html": [
       "<div>\n",
       "<style scoped>\n",
       "    .dataframe tbody tr th:only-of-type {\n",
       "        vertical-align: middle;\n",
       "    }\n",
       "\n",
       "    .dataframe tbody tr th {\n",
       "        vertical-align: top;\n",
       "    }\n",
       "\n",
       "    .dataframe thead th {\n",
       "        text-align: right;\n",
       "    }\n",
       "</style>\n",
       "<table border=\"1\" class=\"dataframe\">\n",
       "  <thead>\n",
       "    <tr style=\"text-align: right;\">\n",
       "      <th></th>\n",
       "      <th>output_1</th>\n",
       "      <th>output_2</th>\n",
       "    </tr>\n",
       "  </thead>\n",
       "  <tbody>\n",
       "    <tr>\n",
       "      <th>11006381_complete</th>\n",
       "      <td>[hours-per-week(new)]</td>\n",
       "      <td>[hours-per-week(new)]</td>\n",
       "    </tr>\n",
       "    <tr>\n",
       "      <th>11006381_complete_more</th>\n",
       "      <td>[UNGRADED]</td>\n",
       "      <td>[hours-per-week(new)]</td>\n",
       "    </tr>\n",
       "    <tr>\n",
       "      <th>11006381_partial_correct</th>\n",
       "      <td>[hours-per-week(new)]</td>\n",
       "      <td>[UNGRADED]</td>\n",
       "    </tr>\n",
       "  </tbody>\n",
       "</table>\n",
       "</div>"
      ],
      "text/plain": [
       "                                       output_1               output_2\n",
       "11006381_complete         [hours-per-week(new)]  [hours-per-week(new)]\n",
       "11006381_complete_more               [UNGRADED]  [hours-per-week(new)]\n",
       "11006381_partial_correct  [hours-per-week(new)]             [UNGRADED]"
      ]
     },
     "execution_count": 45,
     "metadata": {},
     "output_type": "execute_result"
    }
   ],
   "source": [
    "cdr_df = pd.DataFrame.from_dict(cdr)\n",
    "cdr_df"
   ]
  },
  {
   "cell_type": "code",
   "execution_count": 46,
   "id": "eb8d3acf",
   "metadata": {},
   "outputs": [],
   "source": [
    "for i in cdr_df.columns:\n",
    "    cdr_df[i+'_data_completion'] = cdr_df[i].apply(lambda x : 1-(len(x)/len(wfg.ref_output[i].columns)) if x!='UNGRADED' else x)\n",
    "    cdr_df[i+'_incorrect_var_values'] = cdr_df[i]\n",
    "    del cdr_df[i] "
   ]
  },
  {
   "cell_type": "code",
   "execution_count": 47,
   "id": "23374941",
   "metadata": {},
   "outputs": [
    {
     "data": {
      "text/html": [
       "<div>\n",
       "<style scoped>\n",
       "    .dataframe tbody tr th:only-of-type {\n",
       "        vertical-align: middle;\n",
       "    }\n",
       "\n",
       "    .dataframe tbody tr th {\n",
       "        vertical-align: top;\n",
       "    }\n",
       "\n",
       "    .dataframe thead th {\n",
       "        text-align: right;\n",
       "    }\n",
       "</style>\n",
       "<table border=\"1\" class=\"dataframe\">\n",
       "  <thead>\n",
       "    <tr style=\"text-align: right;\">\n",
       "      <th></th>\n",
       "      <th>output_1_data_completion</th>\n",
       "      <th>output_1_incorrect_var_values</th>\n",
       "      <th>output_2_data_completion</th>\n",
       "      <th>output_2_incorrect_var_values</th>\n",
       "    </tr>\n",
       "  </thead>\n",
       "  <tbody>\n",
       "    <tr>\n",
       "      <th>11006381_complete</th>\n",
       "      <td>0.833333</td>\n",
       "      <td>[hours-per-week(new)]</td>\n",
       "      <td>0.9375</td>\n",
       "      <td>[hours-per-week(new)]</td>\n",
       "    </tr>\n",
       "    <tr>\n",
       "      <th>11006381_complete_more</th>\n",
       "      <td>0.833333</td>\n",
       "      <td>[UNGRADED]</td>\n",
       "      <td>0.9375</td>\n",
       "      <td>[hours-per-week(new)]</td>\n",
       "    </tr>\n",
       "    <tr>\n",
       "      <th>11006381_partial_correct</th>\n",
       "      <td>0.833333</td>\n",
       "      <td>[hours-per-week(new)]</td>\n",
       "      <td>0.9375</td>\n",
       "      <td>[UNGRADED]</td>\n",
       "    </tr>\n",
       "  </tbody>\n",
       "</table>\n",
       "</div>"
      ],
      "text/plain": [
       "                          output_1_data_completion  \\\n",
       "11006381_complete                         0.833333   \n",
       "11006381_complete_more                    0.833333   \n",
       "11006381_partial_correct                  0.833333   \n",
       "\n",
       "                         output_1_incorrect_var_values  \\\n",
       "11006381_complete                [hours-per-week(new)]   \n",
       "11006381_complete_more                      [UNGRADED]   \n",
       "11006381_partial_correct         [hours-per-week(new)]   \n",
       "\n",
       "                          output_2_data_completion  \\\n",
       "11006381_complete                           0.9375   \n",
       "11006381_complete_more                      0.9375   \n",
       "11006381_partial_correct                    0.9375   \n",
       "\n",
       "                         output_2_incorrect_var_values  \n",
       "11006381_complete                [hours-per-week(new)]  \n",
       "11006381_complete_more           [hours-per-week(new)]  \n",
       "11006381_partial_correct                    [UNGRADED]  "
      ]
     },
     "execution_count": 47,
     "metadata": {},
     "output_type": "execute_result"
    }
   ],
   "source": [
    "cdr_df"
   ]
  },
  {
   "cell_type": "code",
   "execution_count": 48,
   "id": "1250737d",
   "metadata": {},
   "outputs": [
    {
     "data": {
      "text/html": [
       "<div>\n",
       "<style scoped>\n",
       "    .dataframe tbody tr th:only-of-type {\n",
       "        vertical-align: middle;\n",
       "    }\n",
       "\n",
       "    .dataframe tbody tr th {\n",
       "        vertical-align: top;\n",
       "    }\n",
       "\n",
       "    .dataframe thead th {\n",
       "        text-align: right;\n",
       "    }\n",
       "</style>\n",
       "<table border=\"1\" class=\"dataframe\">\n",
       "  <thead>\n",
       "    <tr style=\"text-align: right;\">\n",
       "      <th></th>\n",
       "      <th>missing_questions</th>\n",
       "      <th>foreign_questions</th>\n",
       "      <th>question_completion</th>\n",
       "      <th>output_1_var_completion</th>\n",
       "      <th>output_1_dtype_completion</th>\n",
       "      <th>output_1_missing_var</th>\n",
       "      <th>output_1_incorrect_var_dtype</th>\n",
       "      <th>output_2_var_completion</th>\n",
       "      <th>output_2_dtype_completion</th>\n",
       "      <th>output_2_missing_var</th>\n",
       "      <th>output_2_incorrect_var_dtype</th>\n",
       "      <th>output_1_data_completion</th>\n",
       "      <th>output_1_incorrect_var_values</th>\n",
       "      <th>output_2_data_completion</th>\n",
       "      <th>output_2_incorrect_var_values</th>\n",
       "    </tr>\n",
       "  </thead>\n",
       "  <tbody>\n",
       "    <tr>\n",
       "      <th>11006381_complete</th>\n",
       "      <td>[]</td>\n",
       "      <td>[]</td>\n",
       "      <td>1.0</td>\n",
       "      <td>0.833333</td>\n",
       "      <td>0.833333</td>\n",
       "      <td>[EstWeight]</td>\n",
       "      <td>[(hours-per-week(new), float64)]</td>\n",
       "      <td>0.9375</td>\n",
       "      <td>0.9375</td>\n",
       "      <td>[EstWeight]</td>\n",
       "      <td>[(hours-per-week(new), float64)]</td>\n",
       "      <td>0.833333</td>\n",
       "      <td>[hours-per-week(new)]</td>\n",
       "      <td>0.9375</td>\n",
       "      <td>[hours-per-week(new)]</td>\n",
       "    </tr>\n",
       "    <tr>\n",
       "      <th>11006381_complete_more</th>\n",
       "      <td>[output_1]</td>\n",
       "      <td>[output1, output_3]</td>\n",
       "      <td>0.5</td>\n",
       "      <td>UNGRADED</td>\n",
       "      <td>UNGRADED</td>\n",
       "      <td>[UNGRADED]</td>\n",
       "      <td>[UNGRADED]</td>\n",
       "      <td>0.9375</td>\n",
       "      <td>0.9375</td>\n",
       "      <td>[EstWeight]</td>\n",
       "      <td>[(hours-per-week(new), float64)]</td>\n",
       "      <td>0.833333</td>\n",
       "      <td>[UNGRADED]</td>\n",
       "      <td>0.9375</td>\n",
       "      <td>[hours-per-week(new)]</td>\n",
       "    </tr>\n",
       "    <tr>\n",
       "      <th>11006381_partial_correct</th>\n",
       "      <td>[output_2]</td>\n",
       "      <td>[]</td>\n",
       "      <td>0.5</td>\n",
       "      <td>1.0</td>\n",
       "      <td>1.0</td>\n",
       "      <td>[]</td>\n",
       "      <td>[(hours-per-week(new), float64)]</td>\n",
       "      <td>UNGRADED</td>\n",
       "      <td>UNGRADED</td>\n",
       "      <td>[UNGRADED]</td>\n",
       "      <td>[UNGRADED]</td>\n",
       "      <td>0.833333</td>\n",
       "      <td>[hours-per-week(new)]</td>\n",
       "      <td>0.9375</td>\n",
       "      <td>[UNGRADED]</td>\n",
       "    </tr>\n",
       "  </tbody>\n",
       "</table>\n",
       "</div>"
      ],
      "text/plain": [
       "                         missing_questions    foreign_questions  \\\n",
       "11006381_complete                       []                   []   \n",
       "11006381_complete_more          [output_1]  [output1, output_3]   \n",
       "11006381_partial_correct        [output_2]                   []   \n",
       "\n",
       "                          question_completion output_1_var_completion  \\\n",
       "11006381_complete                         1.0                0.833333   \n",
       "11006381_complete_more                    0.5                UNGRADED   \n",
       "11006381_partial_correct                  0.5                     1.0   \n",
       "\n",
       "                         output_1_dtype_completion output_1_missing_var  \\\n",
       "11006381_complete                         0.833333          [EstWeight]   \n",
       "11006381_complete_more                    UNGRADED           [UNGRADED]   \n",
       "11006381_partial_correct                       1.0                   []   \n",
       "\n",
       "                              output_1_incorrect_var_dtype  \\\n",
       "11006381_complete         [(hours-per-week(new), float64)]   \n",
       "11006381_complete_more                          [UNGRADED]   \n",
       "11006381_partial_correct  [(hours-per-week(new), float64)]   \n",
       "\n",
       "                         output_2_var_completion output_2_dtype_completion  \\\n",
       "11006381_complete                         0.9375                    0.9375   \n",
       "11006381_complete_more                    0.9375                    0.9375   \n",
       "11006381_partial_correct                UNGRADED                  UNGRADED   \n",
       "\n",
       "                         output_2_missing_var  \\\n",
       "11006381_complete                 [EstWeight]   \n",
       "11006381_complete_more            [EstWeight]   \n",
       "11006381_partial_correct           [UNGRADED]   \n",
       "\n",
       "                              output_2_incorrect_var_dtype  \\\n",
       "11006381_complete         [(hours-per-week(new), float64)]   \n",
       "11006381_complete_more    [(hours-per-week(new), float64)]   \n",
       "11006381_partial_correct                        [UNGRADED]   \n",
       "\n",
       "                          output_1_data_completion  \\\n",
       "11006381_complete                         0.833333   \n",
       "11006381_complete_more                    0.833333   \n",
       "11006381_partial_correct                  0.833333   \n",
       "\n",
       "                         output_1_incorrect_var_values  \\\n",
       "11006381_complete                [hours-per-week(new)]   \n",
       "11006381_complete_more                      [UNGRADED]   \n",
       "11006381_partial_correct         [hours-per-week(new)]   \n",
       "\n",
       "                          output_2_data_completion  \\\n",
       "11006381_complete                           0.9375   \n",
       "11006381_complete_more                      0.9375   \n",
       "11006381_partial_correct                    0.9375   \n",
       "\n",
       "                         output_2_incorrect_var_values  \n",
       "11006381_complete                [hours-per-week(new)]  \n",
       "11006381_complete_more           [hours-per-week(new)]  \n",
       "11006381_partial_correct                    [UNGRADED]  "
      ]
     },
     "execution_count": 48,
     "metadata": {},
     "output_type": "execute_result"
    }
   ],
   "source": [
    "cqvdr_df = pd.merge(cqvr_df,cdr_df,left_index=True,right_index=True,suffixes=('_var_dtype','_data'))\n",
    "cqvdr_df"
   ]
  },
  {
   "cell_type": "code",
   "execution_count": 60,
   "id": "96203897",
   "metadata": {
    "scrolled": true
   },
   "outputs": [
    {
     "data": {
      "text/html": [
       "<div>\n",
       "<style scoped>\n",
       "    .dataframe tbody tr th:only-of-type {\n",
       "        vertical-align: middle;\n",
       "    }\n",
       "\n",
       "    .dataframe tbody tr th {\n",
       "        vertical-align: top;\n",
       "    }\n",
       "\n",
       "    .dataframe thead th {\n",
       "        text-align: right;\n",
       "    }\n",
       "</style>\n",
       "<table border=\"1\" class=\"dataframe\">\n",
       "  <thead>\n",
       "    <tr style=\"text-align: right;\">\n",
       "      <th></th>\n",
       "      <th>CSV Reader</th>\n",
       "      <th>Column Filter</th>\n",
       "      <th>Concatenate</th>\n",
       "      <th>Container Output _Table_</th>\n",
       "      <th>Joiner</th>\n",
       "      <th>Nominal Value Row Filter</th>\n",
       "      <th>Numeric Binner</th>\n",
       "      <th>Reference Column Filter</th>\n",
       "      <th>Reference Row Filter</th>\n",
       "      <th>Row Filter</th>\n",
       "      <th>String Manipulation</th>\n",
       "      <th>String To Number</th>\n",
       "    </tr>\n",
       "  </thead>\n",
       "  <tbody>\n",
       "    <tr>\n",
       "      <th>11006381_complete</th>\n",
       "      <td>2</td>\n",
       "      <td>1</td>\n",
       "      <td>1</td>\n",
       "      <td>2</td>\n",
       "      <td>1</td>\n",
       "      <td>1</td>\n",
       "      <td>1</td>\n",
       "      <td>1</td>\n",
       "      <td>1</td>\n",
       "      <td>2</td>\n",
       "      <td>1</td>\n",
       "      <td>1</td>\n",
       "    </tr>\n",
       "    <tr>\n",
       "      <th>11006381_complete_more</th>\n",
       "      <td>2</td>\n",
       "      <td>1</td>\n",
       "      <td>1</td>\n",
       "      <td>3</td>\n",
       "      <td>1</td>\n",
       "      <td>1</td>\n",
       "      <td>1</td>\n",
       "      <td>1</td>\n",
       "      <td>1</td>\n",
       "      <td>2</td>\n",
       "      <td>1</td>\n",
       "      <td>1</td>\n",
       "    </tr>\n",
       "    <tr>\n",
       "      <th>11006381_partial_correct</th>\n",
       "      <td>2</td>\n",
       "      <td>1</td>\n",
       "      <td>0</td>\n",
       "      <td>1</td>\n",
       "      <td>1</td>\n",
       "      <td>1</td>\n",
       "      <td>1</td>\n",
       "      <td>1</td>\n",
       "      <td>0</td>\n",
       "      <td>1</td>\n",
       "      <td>1</td>\n",
       "      <td>1</td>\n",
       "    </tr>\n",
       "  </tbody>\n",
       "</table>\n",
       "</div>"
      ],
      "text/plain": [
       "                          CSV Reader  Column Filter  Concatenate  \\\n",
       "11006381_complete                  2              1            1   \n",
       "11006381_complete_more             2              1            1   \n",
       "11006381_partial_correct           2              1            0   \n",
       "\n",
       "                          Container Output _Table_  Joiner  \\\n",
       "11006381_complete                                2       1   \n",
       "11006381_complete_more                           3       1   \n",
       "11006381_partial_correct                         1       1   \n",
       "\n",
       "                          Nominal Value Row Filter  Numeric Binner  \\\n",
       "11006381_complete                                1               1   \n",
       "11006381_complete_more                           1               1   \n",
       "11006381_partial_correct                         1               1   \n",
       "\n",
       "                          Reference Column Filter  Reference Row Filter  \\\n",
       "11006381_complete                               1                     1   \n",
       "11006381_complete_more                          1                     1   \n",
       "11006381_partial_correct                        1                     0   \n",
       "\n",
       "                          Row Filter  String Manipulation  String To Number  \n",
       "11006381_complete                  2                    1                 1  \n",
       "11006381_complete_more             2                    1                 1  \n",
       "11006381_partial_correct           1                    1                 1  "
      ]
     },
     "execution_count": 60,
     "metadata": {},
     "output_type": "execute_result"
    }
   ],
   "source": [
    "n_df = pd.DataFrame.from_dict(wfg.sub_node_dists,orient='index')\n",
    "n_df"
   ]
  },
  {
   "cell_type": "code",
   "execution_count": 61,
   "id": "897b1bc2",
   "metadata": {},
   "outputs": [
    {
     "data": {
      "text/html": [
       "<div>\n",
       "<style scoped>\n",
       "    .dataframe tbody tr th:only-of-type {\n",
       "        vertical-align: middle;\n",
       "    }\n",
       "\n",
       "    .dataframe tbody tr th {\n",
       "        vertical-align: top;\n",
       "    }\n",
       "\n",
       "    .dataframe thead th {\n",
       "        text-align: right;\n",
       "    }\n",
       "</style>\n",
       "<table border=\"1\" class=\"dataframe\">\n",
       "  <thead>\n",
       "    <tr style=\"text-align: right;\">\n",
       "      <th></th>\n",
       "      <th>CSV Reader</th>\n",
       "      <th>Column Filter</th>\n",
       "      <th>Concatenate</th>\n",
       "      <th>Container Output _Table_</th>\n",
       "      <th>Joiner</th>\n",
       "      <th>Nominal Value Row Filter</th>\n",
       "      <th>Numeric Binner</th>\n",
       "      <th>Reference Column Filter</th>\n",
       "      <th>Reference Row Filter</th>\n",
       "      <th>Row Filter</th>\n",
       "      <th>String Manipulation</th>\n",
       "      <th>String To Number</th>\n",
       "      <th>node_count</th>\n",
       "      <th>node_completion</th>\n",
       "    </tr>\n",
       "  </thead>\n",
       "  <tbody>\n",
       "    <tr>\n",
       "      <th>11006381_complete</th>\n",
       "      <td>2</td>\n",
       "      <td>1</td>\n",
       "      <td>1</td>\n",
       "      <td>2</td>\n",
       "      <td>1</td>\n",
       "      <td>1</td>\n",
       "      <td>1</td>\n",
       "      <td>1</td>\n",
       "      <td>1</td>\n",
       "      <td>2</td>\n",
       "      <td>1</td>\n",
       "      <td>1</td>\n",
       "      <td>15</td>\n",
       "      <td>1.000000</td>\n",
       "    </tr>\n",
       "    <tr>\n",
       "      <th>11006381_complete_more</th>\n",
       "      <td>2</td>\n",
       "      <td>1</td>\n",
       "      <td>1</td>\n",
       "      <td>3</td>\n",
       "      <td>1</td>\n",
       "      <td>1</td>\n",
       "      <td>1</td>\n",
       "      <td>1</td>\n",
       "      <td>1</td>\n",
       "      <td>2</td>\n",
       "      <td>1</td>\n",
       "      <td>1</td>\n",
       "      <td>16</td>\n",
       "      <td>1.066667</td>\n",
       "    </tr>\n",
       "    <tr>\n",
       "      <th>11006381_partial_correct</th>\n",
       "      <td>2</td>\n",
       "      <td>1</td>\n",
       "      <td>0</td>\n",
       "      <td>1</td>\n",
       "      <td>1</td>\n",
       "      <td>1</td>\n",
       "      <td>1</td>\n",
       "      <td>1</td>\n",
       "      <td>0</td>\n",
       "      <td>1</td>\n",
       "      <td>1</td>\n",
       "      <td>1</td>\n",
       "      <td>11</td>\n",
       "      <td>0.733333</td>\n",
       "    </tr>\n",
       "  </tbody>\n",
       "</table>\n",
       "</div>"
      ],
      "text/plain": [
       "                          CSV Reader  Column Filter  Concatenate  \\\n",
       "11006381_complete                  2              1            1   \n",
       "11006381_complete_more             2              1            1   \n",
       "11006381_partial_correct           2              1            0   \n",
       "\n",
       "                          Container Output _Table_  Joiner  \\\n",
       "11006381_complete                                2       1   \n",
       "11006381_complete_more                           3       1   \n",
       "11006381_partial_correct                         1       1   \n",
       "\n",
       "                          Nominal Value Row Filter  Numeric Binner  \\\n",
       "11006381_complete                                1               1   \n",
       "11006381_complete_more                           1               1   \n",
       "11006381_partial_correct                         1               1   \n",
       "\n",
       "                          Reference Column Filter  Reference Row Filter  \\\n",
       "11006381_complete                               1                     1   \n",
       "11006381_complete_more                          1                     1   \n",
       "11006381_partial_correct                        1                     0   \n",
       "\n",
       "                          Row Filter  String Manipulation  String To Number  \\\n",
       "11006381_complete                  2                    1                 1   \n",
       "11006381_complete_more             2                    1                 1   \n",
       "11006381_partial_correct           1                    1                 1   \n",
       "\n",
       "                          node_count  node_completion  \n",
       "11006381_complete                 15         1.000000  \n",
       "11006381_complete_more            16         1.066667  \n",
       "11006381_partial_correct          11         0.733333  "
      ]
     },
     "execution_count": 61,
     "metadata": {},
     "output_type": "execute_result"
    }
   ],
   "source": [
    "n_df['node_count'] = n_df.sum(axis=1)\n",
    "n_df['node_completion'] = n_df['node_count']/sum(wfg.ref_node_dist.values())\n",
    "n_df"
   ]
  },
  {
   "cell_type": "markdown",
   "id": "722a919c",
   "metadata": {},
   "source": [
    "Combining all the dataframes together we can save it as a csv file or work with this data to provide meaningful feedback to the students."
   ]
  },
  {
   "cell_type": "code",
   "execution_count": 84,
   "id": "481f5775",
   "metadata": {},
   "outputs": [
    {
     "data": {
      "text/html": [
       "<div>\n",
       "<style scoped>\n",
       "    .dataframe tbody tr th:only-of-type {\n",
       "        vertical-align: middle;\n",
       "    }\n",
       "\n",
       "    .dataframe tbody tr th {\n",
       "        vertical-align: top;\n",
       "    }\n",
       "\n",
       "    .dataframe thead th {\n",
       "        text-align: right;\n",
       "    }\n",
       "</style>\n",
       "<table border=\"1\" class=\"dataframe\">\n",
       "  <thead>\n",
       "    <tr style=\"text-align: right;\">\n",
       "      <th></th>\n",
       "      <th>missing_questions</th>\n",
       "      <th>foreign_questions</th>\n",
       "      <th>question_completion</th>\n",
       "      <th>output_1_var_completion</th>\n",
       "      <th>output_1_dtype_completion</th>\n",
       "      <th>output_1_missing_var</th>\n",
       "      <th>output_1_incorrect_var_dtype</th>\n",
       "      <th>output_2_var_completion</th>\n",
       "      <th>output_2_dtype_completion</th>\n",
       "      <th>output_2_missing_var</th>\n",
       "      <th>...</th>\n",
       "      <th>Joiner</th>\n",
       "      <th>Nominal Value Row Filter</th>\n",
       "      <th>Numeric Binner</th>\n",
       "      <th>Reference Column Filter</th>\n",
       "      <th>Reference Row Filter</th>\n",
       "      <th>Row Filter</th>\n",
       "      <th>String Manipulation</th>\n",
       "      <th>String To Number</th>\n",
       "      <th>node_count</th>\n",
       "      <th>node_completion</th>\n",
       "    </tr>\n",
       "  </thead>\n",
       "  <tbody>\n",
       "    <tr>\n",
       "      <th>11006381_complete</th>\n",
       "      <td>[]</td>\n",
       "      <td>[]</td>\n",
       "      <td>1.0</td>\n",
       "      <td>0.833333</td>\n",
       "      <td>0.833333</td>\n",
       "      <td>[EstWeight]</td>\n",
       "      <td>[(hours-per-week(new), float64)]</td>\n",
       "      <td>0.9375</td>\n",
       "      <td>0.9375</td>\n",
       "      <td>[EstWeight]</td>\n",
       "      <td>...</td>\n",
       "      <td>1</td>\n",
       "      <td>1</td>\n",
       "      <td>1</td>\n",
       "      <td>1</td>\n",
       "      <td>1</td>\n",
       "      <td>2</td>\n",
       "      <td>1</td>\n",
       "      <td>1</td>\n",
       "      <td>15</td>\n",
       "      <td>1.000000</td>\n",
       "    </tr>\n",
       "    <tr>\n",
       "      <th>11006381_complete_more</th>\n",
       "      <td>[output_1]</td>\n",
       "      <td>[output1, output_3]</td>\n",
       "      <td>0.5</td>\n",
       "      <td>UNGRADED</td>\n",
       "      <td>UNGRADED</td>\n",
       "      <td>[UNGRADED]</td>\n",
       "      <td>[UNGRADED]</td>\n",
       "      <td>0.9375</td>\n",
       "      <td>0.9375</td>\n",
       "      <td>[EstWeight]</td>\n",
       "      <td>...</td>\n",
       "      <td>1</td>\n",
       "      <td>1</td>\n",
       "      <td>1</td>\n",
       "      <td>1</td>\n",
       "      <td>1</td>\n",
       "      <td>2</td>\n",
       "      <td>1</td>\n",
       "      <td>1</td>\n",
       "      <td>16</td>\n",
       "      <td>1.066667</td>\n",
       "    </tr>\n",
       "    <tr>\n",
       "      <th>11006381_partial_correct</th>\n",
       "      <td>[output_2]</td>\n",
       "      <td>[]</td>\n",
       "      <td>0.5</td>\n",
       "      <td>1.0</td>\n",
       "      <td>1.0</td>\n",
       "      <td>[]</td>\n",
       "      <td>[(hours-per-week(new), float64)]</td>\n",
       "      <td>UNGRADED</td>\n",
       "      <td>UNGRADED</td>\n",
       "      <td>[UNGRADED]</td>\n",
       "      <td>...</td>\n",
       "      <td>1</td>\n",
       "      <td>1</td>\n",
       "      <td>1</td>\n",
       "      <td>1</td>\n",
       "      <td>0</td>\n",
       "      <td>1</td>\n",
       "      <td>1</td>\n",
       "      <td>1</td>\n",
       "      <td>11</td>\n",
       "      <td>0.733333</td>\n",
       "    </tr>\n",
       "  </tbody>\n",
       "</table>\n",
       "<p>3 rows × 29 columns</p>\n",
       "</div>"
      ],
      "text/plain": [
       "                         missing_questions    foreign_questions  \\\n",
       "11006381_complete                       []                   []   \n",
       "11006381_complete_more          [output_1]  [output1, output_3]   \n",
       "11006381_partial_correct        [output_2]                   []   \n",
       "\n",
       "                          question_completion output_1_var_completion  \\\n",
       "11006381_complete                         1.0                0.833333   \n",
       "11006381_complete_more                    0.5                UNGRADED   \n",
       "11006381_partial_correct                  0.5                     1.0   \n",
       "\n",
       "                         output_1_dtype_completion output_1_missing_var  \\\n",
       "11006381_complete                         0.833333          [EstWeight]   \n",
       "11006381_complete_more                    UNGRADED           [UNGRADED]   \n",
       "11006381_partial_correct                       1.0                   []   \n",
       "\n",
       "                              output_1_incorrect_var_dtype  \\\n",
       "11006381_complete         [(hours-per-week(new), float64)]   \n",
       "11006381_complete_more                          [UNGRADED]   \n",
       "11006381_partial_correct  [(hours-per-week(new), float64)]   \n",
       "\n",
       "                         output_2_var_completion output_2_dtype_completion  \\\n",
       "11006381_complete                         0.9375                    0.9375   \n",
       "11006381_complete_more                    0.9375                    0.9375   \n",
       "11006381_partial_correct                UNGRADED                  UNGRADED   \n",
       "\n",
       "                         output_2_missing_var  ... Joiner  \\\n",
       "11006381_complete                 [EstWeight]  ...      1   \n",
       "11006381_complete_more            [EstWeight]  ...      1   \n",
       "11006381_partial_correct           [UNGRADED]  ...      1   \n",
       "\n",
       "                          Nominal Value Row Filter Numeric Binner  \\\n",
       "11006381_complete                                1              1   \n",
       "11006381_complete_more                           1              1   \n",
       "11006381_partial_correct                         1              1   \n",
       "\n",
       "                          Reference Column Filter Reference Row Filter  \\\n",
       "11006381_complete                               1                    1   \n",
       "11006381_complete_more                          1                    1   \n",
       "11006381_partial_correct                        1                    0   \n",
       "\n",
       "                          Row Filter  String Manipulation  String To Number  \\\n",
       "11006381_complete                  2                    1                 1   \n",
       "11006381_complete_more             2                    1                 1   \n",
       "11006381_partial_correct           1                    1                 1   \n",
       "\n",
       "                          node_count  node_completion  \n",
       "11006381_complete                 15         1.000000  \n",
       "11006381_complete_more            16         1.066667  \n",
       "11006381_partial_correct          11         0.733333  \n",
       "\n",
       "[3 rows x 29 columns]"
      ]
     },
     "execution_count": 84,
     "metadata": {},
     "output_type": "execute_result"
    }
   ],
   "source": [
    "combined_df = pd.merge(cqvdr_df,n_df,left_index=True,right_index=True,suffixes=('_var_dtype','_data'))\n",
    "combined_df"
   ]
  },
  {
   "cell_type": "code",
   "execution_count": 85,
   "id": "75c0befb",
   "metadata": {},
   "outputs": [],
   "source": [
    "def move_col_to_front(df, suffix='_completion'):\n",
    "    move_col = []\n",
    "    for c in df.columns:\n",
    "        if suffix in c:\n",
    "            move_col.append(c)\n",
    "    move_col.reverse()\n",
    "    for c in move_col:\n",
    "        first_column = df.pop(c)\n",
    "        df.insert(0, c, first_column)"
   ]
  },
  {
   "cell_type": "markdown",
   "id": "0ca2479e",
   "metadata": {},
   "source": [
    "- https://pandas.pydata.org/pandas-docs/stable/reference/api/pandas.DataFrame.pop.html\n",
    "- https://pandas.pydata.org/pandas-docs/stable/reference/api/pandas.DataFrame.apply.html"
   ]
  },
  {
   "cell_type": "code",
   "execution_count": 86,
   "id": "eb33dbea",
   "metadata": {},
   "outputs": [],
   "source": [
    "move_col_to_front(combined_df)"
   ]
  },
  {
   "cell_type": "code",
   "execution_count": 87,
   "id": "c62baa7a",
   "metadata": {},
   "outputs": [
    {
     "data": {
      "text/html": [
       "<div>\n",
       "<style scoped>\n",
       "    .dataframe tbody tr th:only-of-type {\n",
       "        vertical-align: middle;\n",
       "    }\n",
       "\n",
       "    .dataframe tbody tr th {\n",
       "        vertical-align: top;\n",
       "    }\n",
       "\n",
       "    .dataframe thead th {\n",
       "        text-align: right;\n",
       "    }\n",
       "</style>\n",
       "<table border=\"1\" class=\"dataframe\">\n",
       "  <thead>\n",
       "    <tr style=\"text-align: right;\">\n",
       "      <th></th>\n",
       "      <th>question_completion</th>\n",
       "      <th>output_1_var_completion</th>\n",
       "      <th>output_1_dtype_completion</th>\n",
       "      <th>output_2_var_completion</th>\n",
       "      <th>output_2_dtype_completion</th>\n",
       "      <th>output_1_data_completion</th>\n",
       "      <th>output_2_data_completion</th>\n",
       "      <th>node_completion</th>\n",
       "      <th>missing_questions</th>\n",
       "      <th>foreign_questions</th>\n",
       "      <th>...</th>\n",
       "      <th>Container Output _Table_</th>\n",
       "      <th>Joiner</th>\n",
       "      <th>Nominal Value Row Filter</th>\n",
       "      <th>Numeric Binner</th>\n",
       "      <th>Reference Column Filter</th>\n",
       "      <th>Reference Row Filter</th>\n",
       "      <th>Row Filter</th>\n",
       "      <th>String Manipulation</th>\n",
       "      <th>String To Number</th>\n",
       "      <th>node_count</th>\n",
       "    </tr>\n",
       "  </thead>\n",
       "  <tbody>\n",
       "    <tr>\n",
       "      <th>11006381_complete</th>\n",
       "      <td>1.0</td>\n",
       "      <td>0.833333</td>\n",
       "      <td>0.833333</td>\n",
       "      <td>0.9375</td>\n",
       "      <td>0.9375</td>\n",
       "      <td>0.833333</td>\n",
       "      <td>0.9375</td>\n",
       "      <td>1.000000</td>\n",
       "      <td>[]</td>\n",
       "      <td>[]</td>\n",
       "      <td>...</td>\n",
       "      <td>2</td>\n",
       "      <td>1</td>\n",
       "      <td>1</td>\n",
       "      <td>1</td>\n",
       "      <td>1</td>\n",
       "      <td>1</td>\n",
       "      <td>2</td>\n",
       "      <td>1</td>\n",
       "      <td>1</td>\n",
       "      <td>15</td>\n",
       "    </tr>\n",
       "    <tr>\n",
       "      <th>11006381_complete_more</th>\n",
       "      <td>0.5</td>\n",
       "      <td>UNGRADED</td>\n",
       "      <td>UNGRADED</td>\n",
       "      <td>0.9375</td>\n",
       "      <td>0.9375</td>\n",
       "      <td>0.833333</td>\n",
       "      <td>0.9375</td>\n",
       "      <td>1.066667</td>\n",
       "      <td>[output_1]</td>\n",
       "      <td>[output1, output_3]</td>\n",
       "      <td>...</td>\n",
       "      <td>3</td>\n",
       "      <td>1</td>\n",
       "      <td>1</td>\n",
       "      <td>1</td>\n",
       "      <td>1</td>\n",
       "      <td>1</td>\n",
       "      <td>2</td>\n",
       "      <td>1</td>\n",
       "      <td>1</td>\n",
       "      <td>16</td>\n",
       "    </tr>\n",
       "    <tr>\n",
       "      <th>11006381_partial_correct</th>\n",
       "      <td>0.5</td>\n",
       "      <td>1.0</td>\n",
       "      <td>1.0</td>\n",
       "      <td>UNGRADED</td>\n",
       "      <td>UNGRADED</td>\n",
       "      <td>0.833333</td>\n",
       "      <td>0.9375</td>\n",
       "      <td>0.733333</td>\n",
       "      <td>[output_2]</td>\n",
       "      <td>[]</td>\n",
       "      <td>...</td>\n",
       "      <td>1</td>\n",
       "      <td>1</td>\n",
       "      <td>1</td>\n",
       "      <td>1</td>\n",
       "      <td>1</td>\n",
       "      <td>0</td>\n",
       "      <td>1</td>\n",
       "      <td>1</td>\n",
       "      <td>1</td>\n",
       "      <td>11</td>\n",
       "    </tr>\n",
       "  </tbody>\n",
       "</table>\n",
       "<p>3 rows × 29 columns</p>\n",
       "</div>"
      ],
      "text/plain": [
       "                          question_completion output_1_var_completion  \\\n",
       "11006381_complete                         1.0                0.833333   \n",
       "11006381_complete_more                    0.5                UNGRADED   \n",
       "11006381_partial_correct                  0.5                     1.0   \n",
       "\n",
       "                         output_1_dtype_completion output_2_var_completion  \\\n",
       "11006381_complete                         0.833333                  0.9375   \n",
       "11006381_complete_more                    UNGRADED                  0.9375   \n",
       "11006381_partial_correct                       1.0                UNGRADED   \n",
       "\n",
       "                         output_2_dtype_completion  output_1_data_completion  \\\n",
       "11006381_complete                           0.9375                  0.833333   \n",
       "11006381_complete_more                      0.9375                  0.833333   \n",
       "11006381_partial_correct                  UNGRADED                  0.833333   \n",
       "\n",
       "                          output_2_data_completion  node_completion  \\\n",
       "11006381_complete                           0.9375         1.000000   \n",
       "11006381_complete_more                      0.9375         1.066667   \n",
       "11006381_partial_correct                    0.9375         0.733333   \n",
       "\n",
       "                         missing_questions    foreign_questions  ...  \\\n",
       "11006381_complete                       []                   []  ...   \n",
       "11006381_complete_more          [output_1]  [output1, output_3]  ...   \n",
       "11006381_partial_correct        [output_2]                   []  ...   \n",
       "\n",
       "                         Container Output _Table_ Joiner  \\\n",
       "11006381_complete                               2      1   \n",
       "11006381_complete_more                          3      1   \n",
       "11006381_partial_correct                        1      1   \n",
       "\n",
       "                         Nominal Value Row Filter Numeric Binner  \\\n",
       "11006381_complete                               1              1   \n",
       "11006381_complete_more                          1              1   \n",
       "11006381_partial_correct                        1              1   \n",
       "\n",
       "                         Reference Column Filter Reference Row Filter  \\\n",
       "11006381_complete                              1                    1   \n",
       "11006381_complete_more                         1                    1   \n",
       "11006381_partial_correct                       1                    0   \n",
       "\n",
       "                          Row Filter  String Manipulation  String To Number  \\\n",
       "11006381_complete                  2                    1                 1   \n",
       "11006381_complete_more             2                    1                 1   \n",
       "11006381_partial_correct           1                    1                 1   \n",
       "\n",
       "                          node_count  \n",
       "11006381_complete                 15  \n",
       "11006381_complete_more            16  \n",
       "11006381_partial_correct          11  \n",
       "\n",
       "[3 rows x 29 columns]"
      ]
     },
     "execution_count": 87,
     "metadata": {},
     "output_type": "execute_result"
    }
   ],
   "source": [
    "combined_df"
   ]
  },
  {
   "cell_type": "code",
   "execution_count": 88,
   "id": "8d0b195e",
   "metadata": {},
   "outputs": [],
   "source": [
    "combined_df.to_csv('out.csv')"
   ]
  },
  {
   "cell_type": "code",
   "execution_count": 89,
   "id": "4cfe5f99",
   "metadata": {},
   "outputs": [
    {
     "data": {
      "text/plain": [
       "True"
      ]
     },
     "execution_count": 89,
     "metadata": {},
     "output_type": "execute_result"
    }
   ],
   "source": [
    "not None"
   ]
  },
  {
   "cell_type": "code",
   "execution_count": 95,
   "id": "bd148a64",
   "metadata": {},
   "outputs": [
    {
     "data": {
      "text/plain": [
       "'C:\\\\Users\\\\s11006381\\\\knime-workspace\\\\small_gradespace\\\\test.csv'"
      ]
     },
     "execution_count": 95,
     "metadata": {},
     "output_type": "execute_result"
    }
   ],
   "source": [
    "os.path.join(workspace,'test.csv')"
   ]
  },
  {
   "cell_type": "code",
   "execution_count": 96,
   "id": "e24d7c12",
   "metadata": {},
   "outputs": [],
   "source": [
    "combined_df.to_csv(os.path.join(workspace,'test.csv'))"
   ]
  },
  {
   "cell_type": "code",
   "execution_count": 98,
   "id": "ea8bbc6e",
   "metadata": {},
   "outputs": [],
   "source": [
    "r = 'C5_Lab5_Task1_Data_prep_clean_with_COT'"
   ]
  },
  {
   "cell_type": "code",
   "execution_count": 99,
   "id": "9ffea626",
   "metadata": {},
   "outputs": [
    {
     "data": {
      "text/plain": [
       "'C:\\\\Users\\\\s11006381\\\\knime-workspace\\\\small_gradespace'"
      ]
     },
     "execution_count": 99,
     "metadata": {},
     "output_type": "execute_result"
    }
   ],
   "source": [
    "workspace"
   ]
  },
  {
   "cell_type": "code",
   "execution_count": 102,
   "id": "bd5a100e",
   "metadata": {},
   "outputs": [
    {
     "data": {
      "text/plain": [
       "True"
      ]
     },
     "execution_count": 102,
     "metadata": {},
     "output_type": "execute_result"
    }
   ],
   "source": [
    "os.path.exists(os.path.join(workspace,r))"
   ]
  },
  {
   "cell_type": "code",
   "execution_count": null,
   "id": "87086e1b",
   "metadata": {},
   "outputs": [],
   "source": []
  }
 ],
 "metadata": {
  "kernelspec": {
   "display_name": "Python 3 (ipykernel)",
   "language": "python",
   "name": "python3"
  },
  "language_info": {
   "codemirror_mode": {
    "name": "ipython",
    "version": 3
   },
   "file_extension": ".py",
   "mimetype": "text/x-python",
   "name": "python",
   "nbconvert_exporter": "python",
   "pygments_lexer": "ipython3",
   "version": "3.9.7"
  }
 },
 "nbformat": 4,
 "nbformat_minor": 5
}
