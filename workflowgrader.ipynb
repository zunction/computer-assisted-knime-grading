{
 "cells": [
  {
   "cell_type": "markdown",
   "id": "e70b7be7",
   "metadata": {},
   "source": [
    "From Tien Chern\n",
    "\n",
    "Learning objective for Lab 5 task 1\n",
    "- Able to perform basic data preparation\n",
    "1. Read in data of CSV format\n",
    "2. Rename variable\n",
    "3. Join 2 data tables: Joiner\n",
    "4. Concatenate 2 data tables: Concatenate\n",
    "\n",
    "- Able to perform basic data cleaning\n",
    "1. Manipulate String type data\n",
    "2. Filtering rows\n",
    "3. Filtering columns\n",
    "\n",
    "- Able to perform basic data transformation\n",
    "1. Cast proper data type\n",
    "2. Bin numerica data to groups\n"
   ]
  },
  {
   "cell_type": "code",
   "execution_count": 1,
   "id": "7647866a",
   "metadata": {},
   "outputs": [],
   "source": [
    "import pandas as pd\n",
    "from pathlib import Path\n",
    "import os\n",
    "import glob\n",
    "# from utils import collect_workflow_outputs, compare_COT_annotation, assisted_question_inference, workflowgrader\n",
    "from utils import workflowgrader"
   ]
  },
  {
   "cell_type": "code",
   "execution_count": 2,
   "id": "573b2f50",
   "metadata": {},
   "outputs": [],
   "source": [
    "workspace = r\"C:\\Users\\s11006381\\knime-workspace\\small_gradespace\""
   ]
  },
  {
   "cell_type": "code",
   "execution_count": 3,
   "id": "08e6bbbe",
   "metadata": {},
   "outputs": [],
   "source": [
    "gradespace_dir_list = glob.glob(os.path.join(workspace,'[0-9]*'))"
   ]
  },
  {
   "cell_type": "code",
   "execution_count": 4,
   "id": "97bbefc2",
   "metadata": {},
   "outputs": [
    {
     "data": {
      "text/plain": [
       "['.metadata',\n",
       " '11006381_complete',\n",
       " '11006381_complete_more',\n",
       " '11006381_partial_correct',\n",
       " 'C5_Lab5_Task1_Data_prep_clean',\n",
       " 'C5_Lab5_Task1_Data_prep_clean_with_COT',\n",
       " 'Example Workflows']"
      ]
     },
     "execution_count": 4,
     "metadata": {},
     "output_type": "execute_result"
    }
   ],
   "source": [
    "os.listdir(workspace)"
   ]
  },
  {
   "cell_type": "markdown",
   "id": "4a348d0a",
   "metadata": {},
   "source": [
    "### Initialise workflowgrader \n",
    "\n",
    "To initialise a workflowgrader, we require the location of the workspace and the reference workflow which the grading is based on. Initialisation involves executing the reference workflow once to collect the reference outputs used for grading."
   ]
  },
  {
   "cell_type": "code",
   "execution_count": 5,
   "id": "48885f22",
   "metadata": {},
   "outputs": [],
   "source": [
    "wfg = workflowgrader(workspace,'C5_Lab5_Task1_Data_prep_clean_with_COT')"
   ]
  },
  {
   "cell_type": "markdown",
   "id": "ecb41bf3",
   "metadata": {},
   "source": [
    "The `.ref_workflow` allows you to check the reference workflow used for grading."
   ]
  },
  {
   "cell_type": "code",
   "execution_count": 6,
   "id": "b321916c",
   "metadata": {},
   "outputs": [
    {
     "data": {
      "text/plain": [
       "'C5_Lab5_Task1_Data_prep_clean_with_COT'"
      ]
     },
     "execution_count": 6,
     "metadata": {},
     "output_type": "execute_result"
    }
   ],
   "source": [
    "wfg.ref_workflow"
   ]
  },
  {
   "cell_type": "markdown",
   "id": "307e05aa",
   "metadata": {},
   "source": [
    "The `.ref_output` returns the outputs which are collected from the reference workflow."
   ]
  },
  {
   "cell_type": "code",
   "execution_count": 7,
   "id": "77ad4591",
   "metadata": {},
   "outputs": [
    {
     "data": {
      "text/plain": [
       "{'output_1':         age  EstWeight  education-num  capital-gain  capital-loss  \\\n",
       " 0    middle     121772             11             0             0   \n",
       " 1    middle      84154             10             0             0   \n",
       " 2    middle     293936              4             0             0   \n",
       " 3    middle     117747              9             0          1573   \n",
       " 4    middle     153141              9             0             0   \n",
       " ..      ...        ...            ...           ...           ...   \n",
       " 451  middle     191196             13             0          1977   \n",
       " 452  middle     199590              3             0             0   \n",
       " 453  middle      71556             14             0             0   \n",
       " 454  middle     217597              9             0             0   \n",
       " 455  middle     107302              9             0             0   \n",
       " \n",
       "      hours-per-week(new)  \n",
       " 0                     40  \n",
       " 1                     38  \n",
       " 2                     40  \n",
       " 3                     35  \n",
       " 4                     40  \n",
       " ..                   ...  \n",
       " 451                   60  \n",
       " 452                   40  \n",
       " 453                   50  \n",
       " 454                   50  \n",
       " 455                   45  \n",
       " \n",
       " [456 rows x 6 columns],\n",
       " 'output_2':       age  EstWeight  education  education-num         marital-status  \\\n",
       " 0      53     234721       11th              7     Married-civ-spouse   \n",
       " 1      49     160187        9th              5  Married-spouse-absent   \n",
       " 2      34     245487    7th-8th              4     Married-civ-spouse   \n",
       " 3      38      28887       11th              7     Married-civ-spouse   \n",
       " 4      35      76845        9th              5     Married-civ-spouse   \n",
       " ...   ...        ...        ...            ...                    ...   \n",
       " 4697   44      71556    Masters             14     Married-civ-spouse   \n",
       " 4698   58     181974  Doctorate             16          Never-married   \n",
       " 4699   42     217597    HS-grad              9               Divorced   \n",
       " 4700   39     107302    HS-grad              9     Married-civ-spouse   \n",
       " 4701   81     120478  Assoc-voc             11               Divorced   \n",
       " \n",
       "              occupation   relationship                race     sex  \\\n",
       " 0     Handlers-cleaners        Husband               Black    Male   \n",
       " 1         Other-service  Not-in-family               Black  Female   \n",
       " 2      Transport-moving        Husband  Amer-Indian-Eskimo    Male   \n",
       " 3                 Sales        Husband               White    Male   \n",
       " 4       Farming-fishing        Husband               Black    Male   \n",
       " ...                 ...            ...                 ...     ...   \n",
       " 4697              Sales        Husband               White    Male   \n",
       " 4698     Prof-specialty  Not-in-family               White  Female   \n",
       " 4699              Sales      Own-child               White    Male   \n",
       " 4700     Prof-specialty        Husband               White    Male   \n",
       " 4701               None      Unmarried               White  Female   \n",
       " \n",
       "       capital-gain  capital-loss hours-per-week native-country income  \\\n",
       " 0                0             0          40hpw  United-States  <=50K   \n",
       " 1                0             0          16hpw        Jamaica  <=50K   \n",
       " 2                0             0          45hpw         Mexico  <=50K   \n",
       " 3                0             0          50hpw  United-States  <=50K   \n",
       " 4                0             0          40hpw  United-States  <=50K   \n",
       " ...            ...           ...            ...            ...    ...   \n",
       " 4697             0             0          50hpw           None   >50K   \n",
       " 4698             0             0          99hpw           None  <=50K   \n",
       " 4699             0             0          50hpw           None  <=50K   \n",
       " 4700             0             0          45hpw           None   >50K   \n",
       " 4701             0             0           1hpw           None  <=50K   \n",
       " \n",
       "              workclass  hours-per-week(new)  \n",
       " 0              Private                   40  \n",
       " 1              Private                   16  \n",
       " 2              Private                   45  \n",
       " 3              Private                   50  \n",
       " 4          Federal-gov                   40  \n",
       " ...                ...                  ...  \n",
       " 4697      Self-emp-inc                   50  \n",
       " 4698      Self-emp-inc                   99  \n",
       " 4699  Self-emp-not-inc                   50  \n",
       " 4700           Private                   45  \n",
       " 4701              None                    1  \n",
       " \n",
       " [4702 rows x 16 columns]}"
      ]
     },
     "execution_count": 7,
     "metadata": {},
     "output_type": "execute_result"
    }
   ],
   "source": [
    "wfg.ref_output"
   ]
  },
  {
   "cell_type": "markdown",
   "id": "4cdbb524",
   "metadata": {},
   "source": [
    "The `.ref_node_dist` returns a dictionary of the various nodes used in the refence workflow with their respective counts."
   ]
  },
  {
   "cell_type": "code",
   "execution_count": 8,
   "id": "9079be00",
   "metadata": {},
   "outputs": [
    {
     "data": {
      "text/plain": [
       "{'CSV Reader': 2,\n",
       " 'Column Filter': 1,\n",
       " 'Concatenate': 1,\n",
       " 'Container Output _Table_': 2,\n",
       " 'Joiner': 1,\n",
       " 'Nominal Value Row Filter': 1,\n",
       " 'Numeric Binner': 1,\n",
       " 'Reference Column Filter': 1,\n",
       " 'Reference Row Filter': 1,\n",
       " 'Row Filter': 2,\n",
       " 'String Manipulation': 1,\n",
       " 'String To Number': 1}"
      ]
     },
     "execution_count": 8,
     "metadata": {},
     "output_type": "execute_result"
    }
   ],
   "source": [
    "wfg.ref_node_dist"
   ]
  },
  {
   "cell_type": "markdown",
   "id": "db057808",
   "metadata": {},
   "source": [
    "### Data collection"
   ]
  },
  {
   "cell_type": "markdown",
   "id": "1decdd1a",
   "metadata": {},
   "source": [
    "The `.accumulate_workflow_nodes()` method collects data on the various nodes used in a workflow and can be accessed by `.sub_node_dists`."
   ]
  },
  {
   "cell_type": "code",
   "execution_count": 9,
   "id": "ec46d876",
   "metadata": {},
   "outputs": [
    {
     "name": "stderr",
     "output_type": "stream",
     "text": [
      "100%|███████████████████████████████████████████████████████████████████████████████████| 3/3 [00:00<00:00, 398.09it/s]"
     ]
    },
    {
     "name": "stdout",
     "output_type": "stream",
     "text": [
      "Wall time: 18.9 ms\n"
     ]
    },
    {
     "name": "stderr",
     "output_type": "stream",
     "text": [
      "\n"
     ]
    }
   ],
   "source": [
    "%%time\n",
    "awn = wfg.accumulate_workflow_nodes()"
   ]
  },
  {
   "cell_type": "code",
   "execution_count": 10,
   "id": "9c1be26e",
   "metadata": {},
   "outputs": [
    {
     "data": {
      "text/plain": [
       "{'11006381_complete': {'CSV Reader': 2,\n",
       "  'Column Filter': 1,\n",
       "  'Concatenate': 1,\n",
       "  'Container Output _Table_': 2,\n",
       "  'Joiner': 1,\n",
       "  'Nominal Value Row Filter': 1,\n",
       "  'Numeric Binner': 1,\n",
       "  'Reference Column Filter': 1,\n",
       "  'Reference Row Filter': 1,\n",
       "  'Row Filter': 2,\n",
       "  'String Manipulation': 1,\n",
       "  'String To Number': 1},\n",
       " '11006381_complete_more': {'CSV Reader': 2,\n",
       "  'Column Filter': 1,\n",
       "  'Concatenate': 1,\n",
       "  'Container Output _Table_': 3,\n",
       "  'Joiner': 1,\n",
       "  'Nominal Value Row Filter': 1,\n",
       "  'Numeric Binner': 1,\n",
       "  'Reference Column Filter': 1,\n",
       "  'Reference Row Filter': 1,\n",
       "  'Row Filter': 2,\n",
       "  'String Manipulation': 1,\n",
       "  'String To Number': 1},\n",
       " '11006381_partial_correct': {'CSV Reader': 2,\n",
       "  'Column Filter': 1,\n",
       "  'Container Output _Table_': 1,\n",
       "  'Joiner': 1,\n",
       "  'Nominal Value Row Filter': 1,\n",
       "  'Numeric Binner': 1,\n",
       "  'Reference Column Filter': 1,\n",
       "  'Row Filter': 1,\n",
       "  'String Manipulation': 1,\n",
       "  'String To Number': 1,\n",
       "  'Concatenate': 0,\n",
       "  'Reference Row Filter': 0}}"
      ]
     },
     "execution_count": 10,
     "metadata": {},
     "output_type": "execute_result"
    }
   ],
   "source": [
    "wfg.sub_node_dists"
   ]
  },
  {
   "cell_type": "markdown",
   "id": "cd76c663",
   "metadata": {},
   "source": [
    "The `.accumulate_workflow_outputs()` method collects all the outputs of the COT nodes from the workflows to be graded"
   ]
  },
  {
   "cell_type": "code",
   "execution_count": 11,
   "id": "b1c0b896",
   "metadata": {},
   "outputs": [
    {
     "name": "stderr",
     "output_type": "stream",
     "text": [
      "100%|████████████████████████████████████████████████████████████████████████████████████| 3/3 [00:28<00:00,  9.64s/it]"
     ]
    },
    {
     "name": "stdout",
     "output_type": "stream",
     "text": [
      "Wall time: 28.9 s\n"
     ]
    },
    {
     "name": "stderr",
     "output_type": "stream",
     "text": [
      "\n"
     ]
    }
   ],
   "source": [
    "%%time\n",
    "_, _ = wfg.accumulate_workflow_outputs()"
   ]
  },
  {
   "cell_type": "markdown",
   "id": "4866fe67",
   "metadata": {},
   "source": [
    "The collected outputs can be accessed with `.sub_outputs` and `.sub_data_paths`"
   ]
  },
  {
   "cell_type": "code",
   "execution_count": 12,
   "id": "888b42f3",
   "metadata": {
    "collapsed": true
   },
   "outputs": [
    {
     "data": {
      "text/plain": [
       "{'11006381_complete': {'output1':         age  fnlwgt  education-num  capital-gain  capital-loss  \\\n",
       "  0    middle  121772             11             0             0   \n",
       "  1    middle   84154             10             0             0   \n",
       "  2    middle  293936              4             0             0   \n",
       "  3    middle  117747              9             0          1573   \n",
       "  4    middle  153141              9             0             0   \n",
       "  ..      ...     ...            ...           ...           ...   \n",
       "  451  middle  191196             13             0          1977   \n",
       "  452  middle  199590              3             0             0   \n",
       "  453  middle   71556             14             0             0   \n",
       "  454  middle  217597              9             0             0   \n",
       "  455  middle  107302              9             0             0   \n",
       "  \n",
       "       hours-per-week(new)  \n",
       "  0                   40.0  \n",
       "  1                   38.0  \n",
       "  2                   40.0  \n",
       "  3                   35.0  \n",
       "  4                   40.0  \n",
       "  ..                   ...  \n",
       "  451                 60.0  \n",
       "  452                 40.0  \n",
       "  453                 50.0  \n",
       "  454                 50.0  \n",
       "  455                 45.0  \n",
       "  \n",
       "  [456 rows x 6 columns],\n",
       "  'output_2':       age  fnlwgt  education  education-num         marital-status  \\\n",
       "  0      53  234721       11th              7     Married-civ-spouse   \n",
       "  1      49  160187        9th              5  Married-spouse-absent   \n",
       "  2      34  245487    7th-8th              4     Married-civ-spouse   \n",
       "  3      38   28887       11th              7     Married-civ-spouse   \n",
       "  4      35   76845        9th              5     Married-civ-spouse   \n",
       "  ...   ...     ...        ...            ...                    ...   \n",
       "  4697   44   71556    Masters             14     Married-civ-spouse   \n",
       "  4698   58  181974  Doctorate             16          Never-married   \n",
       "  4699   42  217597    HS-grad              9               Divorced   \n",
       "  4700   39  107302    HS-grad              9     Married-civ-spouse   \n",
       "  4701   81  120478  Assoc-voc             11               Divorced   \n",
       "  \n",
       "               occupation   relationship                race     sex  \\\n",
       "  0     Handlers-cleaners        Husband               Black    Male   \n",
       "  1         Other-service  Not-in-family               Black  Female   \n",
       "  2      Transport-moving        Husband  Amer-Indian-Eskimo    Male   \n",
       "  3                 Sales        Husband               White    Male   \n",
       "  4       Farming-fishing        Husband               Black    Male   \n",
       "  ...                 ...            ...                 ...     ...   \n",
       "  4697              Sales        Husband               White    Male   \n",
       "  4698     Prof-specialty  Not-in-family               White  Female   \n",
       "  4699              Sales      Own-child               White    Male   \n",
       "  4700     Prof-specialty        Husband               White    Male   \n",
       "  4701               None      Unmarried               White  Female   \n",
       "  \n",
       "        capital-gain  capital-loss hours-per-week native-country income  \\\n",
       "  0                0             0          40hpw  United-States  <=50K   \n",
       "  1                0             0          16hpw        Jamaica  <=50K   \n",
       "  2                0             0          45hpw         Mexico  <=50K   \n",
       "  3                0             0          50hpw  United-States  <=50K   \n",
       "  4                0             0          40hpw  United-States  <=50K   \n",
       "  ...            ...           ...            ...            ...    ...   \n",
       "  4697             0             0          50hpw           None   >50K   \n",
       "  4698             0             0          99hpw           None  <=50K   \n",
       "  4699             0             0          50hpw           None  <=50K   \n",
       "  4700             0             0          45hpw           None   >50K   \n",
       "  4701             0             0           1hpw           None  <=50K   \n",
       "  \n",
       "               workclass  hours-per-week(new)  \n",
       "  0              Private                 40.0  \n",
       "  1              Private                 16.0  \n",
       "  2              Private                 45.0  \n",
       "  3              Private                 50.0  \n",
       "  4          Federal-gov                 40.0  \n",
       "  ...                ...                  ...  \n",
       "  4697      Self-emp-inc                 50.0  \n",
       "  4698      Self-emp-inc                 99.0  \n",
       "  4699  Self-emp-not-inc                 50.0  \n",
       "  4700           Private                 45.0  \n",
       "  4701              None                  1.0  \n",
       "  \n",
       "  [4702 rows x 16 columns]},\n",
       " '11006381_complete_more': {'output1':         age  education-num  capital-gain  capital-loss  hours-per-week(new)\n",
       "  0    middle             11             0             0                 40.0\n",
       "  1    middle             10             0             0                 38.0\n",
       "  2    middle              4             0             0                 40.0\n",
       "  3    middle              9             0          1573                 35.0\n",
       "  4    middle              9             0             0                 40.0\n",
       "  ..      ...            ...           ...           ...                  ...\n",
       "  451  middle             13             0          1977                 60.0\n",
       "  452  middle              3             0             0                 40.0\n",
       "  453  middle             14             0             0                 50.0\n",
       "  454  middle              9             0             0                 50.0\n",
       "  455  middle              9             0             0                 45.0\n",
       "  \n",
       "  [456 rows x 5 columns],\n",
       "  'output_2':       age  fnlwgt  education  education-num         marital-status  \\\n",
       "  0      53  234721       11th              7     Married-civ-spouse   \n",
       "  1      49  160187        9th              5  Married-spouse-absent   \n",
       "  2      34  245487    7th-8th              4     Married-civ-spouse   \n",
       "  3      38   28887       11th              7     Married-civ-spouse   \n",
       "  4      35   76845        9th              5     Married-civ-spouse   \n",
       "  ...   ...     ...        ...            ...                    ...   \n",
       "  4697   44   71556    Masters             14     Married-civ-spouse   \n",
       "  4698   58  181974  Doctorate             16          Never-married   \n",
       "  4699   42  217597    HS-grad              9               Divorced   \n",
       "  4700   39  107302    HS-grad              9     Married-civ-spouse   \n",
       "  4701   81  120478  Assoc-voc             11               Divorced   \n",
       "  \n",
       "               occupation   relationship                race     sex  \\\n",
       "  0     Handlers-cleaners        Husband               Black    Male   \n",
       "  1         Other-service  Not-in-family               Black  Female   \n",
       "  2      Transport-moving        Husband  Amer-Indian-Eskimo    Male   \n",
       "  3                 Sales        Husband               White    Male   \n",
       "  4       Farming-fishing        Husband               Black    Male   \n",
       "  ...                 ...            ...                 ...     ...   \n",
       "  4697              Sales        Husband               White    Male   \n",
       "  4698     Prof-specialty  Not-in-family               White  Female   \n",
       "  4699              Sales      Own-child               White    Male   \n",
       "  4700     Prof-specialty        Husband               White    Male   \n",
       "  4701               None      Unmarried               White  Female   \n",
       "  \n",
       "        capital-gain  capital-loss hours-per-week native-country income  \\\n",
       "  0                0             0          40hpw  United-States  <=50K   \n",
       "  1                0             0          16hpw        Jamaica  <=50K   \n",
       "  2                0             0          45hpw         Mexico  <=50K   \n",
       "  3                0             0          50hpw  United-States  <=50K   \n",
       "  4                0             0          40hpw  United-States  <=50K   \n",
       "  ...            ...           ...            ...            ...    ...   \n",
       "  4697             0             0          50hpw           None   >50K   \n",
       "  4698             0             0          99hpw           None  <=50K   \n",
       "  4699             0             0          50hpw           None  <=50K   \n",
       "  4700             0             0          45hpw           None   >50K   \n",
       "  4701             0             0           1hpw           None  <=50K   \n",
       "  \n",
       "               workclass  hours-per-week(new)  \n",
       "  0              Private                 40.0  \n",
       "  1              Private                 16.0  \n",
       "  2              Private                 45.0  \n",
       "  3              Private                 50.0  \n",
       "  4          Federal-gov                 40.0  \n",
       "  ...                ...                  ...  \n",
       "  4697      Self-emp-inc                 50.0  \n",
       "  4698      Self-emp-inc                 99.0  \n",
       "  4699  Self-emp-not-inc                 50.0  \n",
       "  4700           Private                 45.0  \n",
       "  4701              None                  1.0  \n",
       "  \n",
       "  [4702 rows x 16 columns],\n",
       "  'output_3':        age  fnlwgt   education  education-num      marital-status  \\\n",
       "  0       39   77516   Bachelors             13       Never-married   \n",
       "  1       50   83311   Bachelors             13  Married-civ-spouse   \n",
       "  2       38  215646     HS-grad              9            Divorced   \n",
       "  3       53  234721        11th              7  Married-civ-spouse   \n",
       "  4       28  338409   Bachelors             13  Married-civ-spouse   \n",
       "  ...    ...     ...         ...            ...                 ...   \n",
       "  32556   27  257302  Assoc-acdm             12  Married-civ-spouse   \n",
       "  32557   40  154374     HS-grad              9  Married-civ-spouse   \n",
       "  32558   58  151910     HS-grad              9             Widowed   \n",
       "  32559   22  201490     HS-grad              9       Never-married   \n",
       "  32560   52  287927     HS-grad              9  Married-civ-spouse   \n",
       "  \n",
       "                occupation   relationship   race     sex  capital-gain  \\\n",
       "  0           Adm-clerical  Not-in-family  White    Male          2174   \n",
       "  1        Exec-managerial        Husband  White    Male             0   \n",
       "  2      Handlers-cleaners  Not-in-family  White    Male             0   \n",
       "  3      Handlers-cleaners        Husband  Black    Male             0   \n",
       "  4         Prof-specialty           Wife  Black  Female             0   \n",
       "  ...                  ...            ...    ...     ...           ...   \n",
       "  32556       Tech-support           Wife  White  Female             0   \n",
       "  32557  Machine-op-inspct        Husband  White    Male             0   \n",
       "  32558       Adm-clerical      Unmarried  White  Female             0   \n",
       "  32559       Adm-clerical      Own-child  White    Male             0   \n",
       "  32560    Exec-managerial           Wife  White  Female         15024   \n",
       "  \n",
       "         capital-loss hours-per-week native-country income         workclass  \n",
       "  0                 0          40hpw  United-States  <=50K         State-gov  \n",
       "  1                 0          13hpw  United-States  <=50K  Self-emp-not-inc  \n",
       "  2                 0          40hpw  United-States  <=50K           Private  \n",
       "  3                 0          40hpw  United-States  <=50K           Private  \n",
       "  4                 0          40hpw           Cuba  <=50K           Private  \n",
       "  ...             ...            ...            ...    ...               ...  \n",
       "  32556             0          38hpw  United-States  <=50K           Private  \n",
       "  32557             0          40hpw  United-States   >50K           Private  \n",
       "  32558             0          40hpw  United-States  <=50K           Private  \n",
       "  32559             0          20hpw  United-States  <=50K           Private  \n",
       "  32560             0          40hpw  United-States   >50K      Self-emp-inc  \n",
       "  \n",
       "  [32561 rows x 15 columns]},\n",
       " '11006381_partial_correct': {'output_1':         age  EstWeight  education-num  capital-gain  capital-loss  \\\n",
       "  0    middle     121772             11             0             0   \n",
       "  1    middle      84154             10             0             0   \n",
       "  2    middle     293936              4             0             0   \n",
       "  3    middle     117747              9             0          1573   \n",
       "  4    middle     153141              9             0             0   \n",
       "  ..      ...        ...            ...           ...           ...   \n",
       "  451  middle     191196             13             0          1977   \n",
       "  452  middle     199590              3             0             0   \n",
       "  453  middle      71556             14             0             0   \n",
       "  454  middle     217597              9             0             0   \n",
       "  455  middle     107302              9             0             0   \n",
       "  \n",
       "       hours-per-week(new)  \n",
       "  0                   40.0  \n",
       "  1                   38.0  \n",
       "  2                   40.0  \n",
       "  3                   35.0  \n",
       "  4                   40.0  \n",
       "  ..                   ...  \n",
       "  451                 60.0  \n",
       "  452                 40.0  \n",
       "  453                 50.0  \n",
       "  454                 50.0  \n",
       "  455                 45.0  \n",
       "  \n",
       "  [456 rows x 6 columns]}}"
      ]
     },
     "execution_count": 12,
     "metadata": {},
     "output_type": "execute_result"
    }
   ],
   "source": [
    "wfg.sub_outputs"
   ]
  },
  {
   "cell_type": "code",
   "execution_count": 14,
   "id": "dec1f6d3",
   "metadata": {},
   "outputs": [
    {
     "name": "stdout",
     "output_type": "stream",
     "text": [
      "11006381_complete ['C:\\\\Users\\\\s11006381\\\\Documents\\\\Semesters\\\\2210\\\\SAE\\\\datasets\\\\adult_sae.csv', 'file:/D:/Teaching/SAE/BB/Datasets/Chapter05/adult_sae-workclass.csv']\n",
      "11006381_complete_more ['C:\\\\Users\\\\s11006381\\\\Documents\\\\Semesters\\\\2210\\\\SAE\\\\datasets\\\\adult_sae.csv', 'file:/D:/Teaching/SAE/BB/Datasets/Chapter05/adult_sae-workclass.csv']\n",
      "11006381_partial_correct ['file:/C:/Users/s11006381/Documents/Semesters/2210/SAE/datasets/adult_sae.csv', 'file:/C:/Users/s11006381/Documents/Semesters/2210/SAE/datasets/adult_sae-workclass.csv']\n"
     ]
    }
   ],
   "source": [
    "for i in wfg.sub_data_paths:\n",
    "    print(i,wfg.sub_data_paths[i])"
   ]
  },
  {
   "cell_type": "markdown",
   "id": "309e1794",
   "metadata": {},
   "source": [
    "### Data processing"
   ]
  },
  {
   "cell_type": "markdown",
   "id": "a1e506c7",
   "metadata": {},
   "source": [
    "The `.check_question()` method checks for any missing questions within each output and can be accessed by `.check_question_results`."
   ]
  },
  {
   "cell_type": "code",
   "execution_count": null,
   "id": "38beca01",
   "metadata": {},
   "outputs": [],
   "source": [
    "%%time\n",
    "cqr = wfg.check_question()"
   ]
  },
  {
   "cell_type": "code",
   "execution_count": null,
   "id": "eb2bb326",
   "metadata": {},
   "outputs": [],
   "source": [
    "wfg.check_question_results"
   ]
  },
  {
   "cell_type": "markdown",
   "id": "953775e9",
   "metadata": {},
   "source": [
    "The `.check_variable()` method checks for any missing variables within each output for each workflow and can be accessed by `.check_variable_results`."
   ]
  },
  {
   "cell_type": "code",
   "execution_count": null,
   "id": "780c95fa",
   "metadata": {},
   "outputs": [],
   "source": [
    "%%time\n",
    "cvr = wfg.check_variable()"
   ]
  },
  {
   "cell_type": "code",
   "execution_count": null,
   "id": "ba5a15aa",
   "metadata": {},
   "outputs": [],
   "source": [
    "wfg.check_var_results"
   ]
  },
  {
   "cell_type": "code",
   "execution_count": null,
   "id": "f294b0a3",
   "metadata": {},
   "outputs": [],
   "source": [
    "wfg.sub_outputs['11006381_complete']['output_1']"
   ]
  },
  {
   "cell_type": "markdown",
   "id": "f17b30c3",
   "metadata": {},
   "source": [
    "The `.check_data()` method checks for any incorrect data for each of the variables in a given output and can be accessed by `.check_data_results`."
   ]
  },
  {
   "cell_type": "code",
   "execution_count": null,
   "id": "d8bc302b",
   "metadata": {},
   "outputs": [],
   "source": [
    "%%time\n",
    "cdr = wfg.check_data()"
   ]
  },
  {
   "cell_type": "code",
   "execution_count": null,
   "id": "dfb4523e",
   "metadata": {},
   "outputs": [],
   "source": [
    "wfg.sub_outputs['11006381_partial_correct']"
   ]
  },
  {
   "cell_type": "code",
   "execution_count": null,
   "id": "5223fdbf",
   "metadata": {},
   "outputs": [],
   "source": [
    "wfg.check_data_results"
   ]
  },
  {
   "cell_type": "markdown",
   "id": "16512cf7",
   "metadata": {},
   "source": [
    "### Combine data"
   ]
  },
  {
   "cell_type": "code",
   "execution_count": 17,
   "id": "cb6eeaab",
   "metadata": {},
   "outputs": [
    {
     "data": {
      "text/html": [
       "<div>\n",
       "<style scoped>\n",
       "    .dataframe tbody tr th:only-of-type {\n",
       "        vertical-align: middle;\n",
       "    }\n",
       "\n",
       "    .dataframe tbody tr th {\n",
       "        vertical-align: top;\n",
       "    }\n",
       "\n",
       "    .dataframe thead th {\n",
       "        text-align: right;\n",
       "    }\n",
       "</style>\n",
       "<table border=\"1\" class=\"dataframe\">\n",
       "  <thead>\n",
       "    <tr style=\"text-align: right;\">\n",
       "      <th></th>\n",
       "      <th>0</th>\n",
       "      <th>1</th>\n",
       "    </tr>\n",
       "  </thead>\n",
       "  <tbody>\n",
       "    <tr>\n",
       "      <th>11006381_complete</th>\n",
       "      <td>C:\\Users\\s11006381\\Documents\\Semesters\\2210\\SA...</td>\n",
       "      <td>file:/D:/Teaching/SAE/BB/Datasets/Chapter05/ad...</td>\n",
       "    </tr>\n",
       "    <tr>\n",
       "      <th>11006381_complete_more</th>\n",
       "      <td>C:\\Users\\s11006381\\Documents\\Semesters\\2210\\SA...</td>\n",
       "      <td>file:/D:/Teaching/SAE/BB/Datasets/Chapter05/ad...</td>\n",
       "    </tr>\n",
       "    <tr>\n",
       "      <th>11006381_partial_correct</th>\n",
       "      <td>file:/C:/Users/s11006381/Documents/Semesters/2...</td>\n",
       "      <td>file:/C:/Users/s11006381/Documents/Semesters/2...</td>\n",
       "    </tr>\n",
       "  </tbody>\n",
       "</table>\n",
       "</div>"
      ],
      "text/plain": [
       "                                                                          0  \\\n",
       "11006381_complete         C:\\Users\\s11006381\\Documents\\Semesters\\2210\\SA...   \n",
       "11006381_complete_more    C:\\Users\\s11006381\\Documents\\Semesters\\2210\\SA...   \n",
       "11006381_partial_correct  file:/C:/Users/s11006381/Documents/Semesters/2...   \n",
       "\n",
       "                                                                          1  \n",
       "11006381_complete         file:/D:/Teaching/SAE/BB/Datasets/Chapter05/ad...  \n",
       "11006381_complete_more    file:/D:/Teaching/SAE/BB/Datasets/Chapter05/ad...  \n",
       "11006381_partial_correct  file:/C:/Users/s11006381/Documents/Semesters/2...  "
      ]
     },
     "execution_count": 17,
     "metadata": {},
     "output_type": "execute_result"
    }
   ],
   "source": [
    "fp_df = pd.DataFrame.from_dict(wfg.sub_data_paths, orient='index')\n",
    "fp_df"
   ]
  },
  {
   "cell_type": "code",
   "execution_count": null,
   "id": "89717036",
   "metadata": {},
   "outputs": [],
   "source": [
    "cqr_df = pd.Series(cqr,name='question_response')\n",
    "cqr_df"
   ]
  },
  {
   "cell_type": "code",
   "execution_count": null,
   "id": "5bbd74fe",
   "metadata": {},
   "outputs": [],
   "source": [
    "cvr_df = pd.DataFrame.from_dict(cvr)\n",
    "cvr_df.head()"
   ]
  },
  {
   "cell_type": "code",
   "execution_count": null,
   "id": "71ff0a47",
   "metadata": {},
   "outputs": [],
   "source": [
    "cqvr_df = pd.merge(cqr_df,cvr_df,left_index=True,right_index=True)\n",
    "cqvr_df"
   ]
  },
  {
   "cell_type": "code",
   "execution_count": null,
   "id": "a92f5fbb",
   "metadata": {},
   "outputs": [],
   "source": [
    "cdr_df = pd.DataFrame.from_dict(cdr)"
   ]
  },
  {
   "cell_type": "code",
   "execution_count": null,
   "id": "fac20699",
   "metadata": {},
   "outputs": [],
   "source": [
    "cdr_df"
   ]
  },
  {
   "cell_type": "code",
   "execution_count": null,
   "id": "3971c18b",
   "metadata": {},
   "outputs": [],
   "source": [
    "cqvdr_df = pd.merge(cqvr_df,cdr_df,left_index=True,right_index=True,suffixes=('_var_dtype','_data'))\n",
    "cqvdr_df"
   ]
  },
  {
   "cell_type": "code",
   "execution_count": 18,
   "id": "29a09edb",
   "metadata": {},
   "outputs": [
    {
     "data": {
      "text/html": [
       "<div>\n",
       "<style scoped>\n",
       "    .dataframe tbody tr th:only-of-type {\n",
       "        vertical-align: middle;\n",
       "    }\n",
       "\n",
       "    .dataframe tbody tr th {\n",
       "        vertical-align: top;\n",
       "    }\n",
       "\n",
       "    .dataframe thead th {\n",
       "        text-align: right;\n",
       "    }\n",
       "</style>\n",
       "<table border=\"1\" class=\"dataframe\">\n",
       "  <thead>\n",
       "    <tr style=\"text-align: right;\">\n",
       "      <th></th>\n",
       "      <th>CSV Reader</th>\n",
       "      <th>Column Filter</th>\n",
       "      <th>Concatenate</th>\n",
       "      <th>Container Output _Table_</th>\n",
       "      <th>Joiner</th>\n",
       "      <th>Nominal Value Row Filter</th>\n",
       "      <th>Numeric Binner</th>\n",
       "      <th>Reference Column Filter</th>\n",
       "      <th>Reference Row Filter</th>\n",
       "      <th>Row Filter</th>\n",
       "      <th>String Manipulation</th>\n",
       "      <th>String To Number</th>\n",
       "    </tr>\n",
       "  </thead>\n",
       "  <tbody>\n",
       "    <tr>\n",
       "      <th>11006381_complete</th>\n",
       "      <td>2</td>\n",
       "      <td>1</td>\n",
       "      <td>1</td>\n",
       "      <td>2</td>\n",
       "      <td>1</td>\n",
       "      <td>1</td>\n",
       "      <td>1</td>\n",
       "      <td>1</td>\n",
       "      <td>1</td>\n",
       "      <td>2</td>\n",
       "      <td>1</td>\n",
       "      <td>1</td>\n",
       "    </tr>\n",
       "    <tr>\n",
       "      <th>11006381_complete_more</th>\n",
       "      <td>2</td>\n",
       "      <td>1</td>\n",
       "      <td>1</td>\n",
       "      <td>3</td>\n",
       "      <td>1</td>\n",
       "      <td>1</td>\n",
       "      <td>1</td>\n",
       "      <td>1</td>\n",
       "      <td>1</td>\n",
       "      <td>2</td>\n",
       "      <td>1</td>\n",
       "      <td>1</td>\n",
       "    </tr>\n",
       "    <tr>\n",
       "      <th>11006381_partial_correct</th>\n",
       "      <td>2</td>\n",
       "      <td>1</td>\n",
       "      <td>0</td>\n",
       "      <td>1</td>\n",
       "      <td>1</td>\n",
       "      <td>1</td>\n",
       "      <td>1</td>\n",
       "      <td>1</td>\n",
       "      <td>0</td>\n",
       "      <td>1</td>\n",
       "      <td>1</td>\n",
       "      <td>1</td>\n",
       "    </tr>\n",
       "  </tbody>\n",
       "</table>\n",
       "</div>"
      ],
      "text/plain": [
       "                          CSV Reader  Column Filter  Concatenate  \\\n",
       "11006381_complete                  2              1            1   \n",
       "11006381_complete_more             2              1            1   \n",
       "11006381_partial_correct           2              1            0   \n",
       "\n",
       "                          Container Output _Table_  Joiner  \\\n",
       "11006381_complete                                2       1   \n",
       "11006381_complete_more                           3       1   \n",
       "11006381_partial_correct                         1       1   \n",
       "\n",
       "                          Nominal Value Row Filter  Numeric Binner  \\\n",
       "11006381_complete                                1               1   \n",
       "11006381_complete_more                           1               1   \n",
       "11006381_partial_correct                         1               1   \n",
       "\n",
       "                          Reference Column Filter  Reference Row Filter  \\\n",
       "11006381_complete                               1                     1   \n",
       "11006381_complete_more                          1                     1   \n",
       "11006381_partial_correct                        1                     0   \n",
       "\n",
       "                          Row Filter  String Manipulation  String To Number  \n",
       "11006381_complete                  2                    1                 1  \n",
       "11006381_complete_more             2                    1                 1  \n",
       "11006381_partial_correct           1                    1                 1  "
      ]
     },
     "execution_count": 18,
     "metadata": {},
     "output_type": "execute_result"
    }
   ],
   "source": [
    "n_df = pd.DataFrame.from_dict(wfg.sub_node_dists,orient='index')\n",
    "n_df"
   ]
  },
  {
   "cell_type": "markdown",
   "id": "e997d921",
   "metadata": {},
   "source": [
    "Combining all the dataframes together we can save it as a csv file or work with this data to provide meaningful feedback to the students."
   ]
  },
  {
   "cell_type": "code",
   "execution_count": null,
   "id": "6ef781ca",
   "metadata": {},
   "outputs": [],
   "source": [
    "combined_df = pd.merge(cqvdr_df,n_df,left_index=True,right_index=True,suffixes=('_var_dtype','_data'))\n",
    "combined_df"
   ]
  },
  {
   "cell_type": "code",
   "execution_count": null,
   "id": "0ed2aa09",
   "metadata": {},
   "outputs": [],
   "source": [
    "wfg.fi"
   ]
  },
  {
   "cell_type": "code",
   "execution_count": null,
   "id": "87a1e5d8",
   "metadata": {},
   "outputs": [],
   "source": []
  },
  {
   "cell_type": "code",
   "execution_count": null,
   "id": "6bf03e32",
   "metadata": {},
   "outputs": [],
   "source": []
  },
  {
   "cell_type": "code",
   "execution_count": null,
   "id": "7b5bc594",
   "metadata": {},
   "outputs": [],
   "source": []
  }
 ],
 "metadata": {
  "kernelspec": {
   "display_name": "Python 3 (ipykernel)",
   "language": "python",
   "name": "python3"
  },
  "language_info": {
   "codemirror_mode": {
    "name": "ipython",
    "version": 3
   },
   "file_extension": ".py",
   "mimetype": "text/x-python",
   "name": "python",
   "nbconvert_exporter": "python",
   "pygments_lexer": "ipython3",
   "version": "3.9.7"
  }
 },
 "nbformat": 4,
 "nbformat_minor": 5
}
