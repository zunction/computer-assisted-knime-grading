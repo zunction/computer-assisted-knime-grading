{
 "cells": [
  {
   "cell_type": "markdown",
   "id": "e70b7be7",
   "metadata": {},
   "source": [
    "From Tien Chern\n",
    "\n",
    "Learning objective for Lab 5 task 1\n",
    "- Able to perform basic data preparation\n",
    "1. Read in data of CSV format\n",
    "2. Rename variable\n",
    "3. Join 2 data tables: Joiner\n",
    "4. Concatenate 2 data tables: Concatenate\n",
    "\n",
    "- Able to perform basic data cleaning\n",
    "1. Manipulate String type data\n",
    "2. Filtering rows\n",
    "3. Filtering columns\n",
    "\n",
    "- Able to perform basic data transformation\n",
    "1. Cast proper data type\n",
    "2. Bin numerica data to groups\n"
   ]
  },
  {
   "cell_type": "code",
   "execution_count": 1,
   "id": "7647866a",
   "metadata": {},
   "outputs": [],
   "source": [
    "import pandas as pd\n",
    "from pathlib import Path\n",
    "import os\n",
    "import glob\n",
    "# from utils import collect_workflow_outputs, compare_COT_annotation, assisted_question_inference, workflowgrader\n",
    "from utils import workflowgrader"
   ]
  },
  {
   "cell_type": "code",
   "execution_count": 2,
   "id": "573b2f50",
   "metadata": {},
   "outputs": [],
   "source": [
    "workspace = r\"C:\\Users\\s11006381\\knime-workspace\\small_gradespace\""
   ]
  },
  {
   "cell_type": "code",
   "execution_count": 3,
   "id": "08e6bbbe",
   "metadata": {},
   "outputs": [],
   "source": [
    "gradespace_dir_list = glob.glob(os.path.join(workspace,'[0-9]*'))"
   ]
  },
  {
   "cell_type": "code",
   "execution_count": 4,
   "id": "97bbefc2",
   "metadata": {
    "collapsed": true
   },
   "outputs": [
    {
     "data": {
      "text/plain": [
       "['.metadata',\n",
       " '11006381_complete',\n",
       " '11006381_complete_more',\n",
       " 'C5_Lab5_Task1_Data_prep_clean',\n",
       " 'C5_Lab5_Task1_Data_prep_clean_with_COT',\n",
       " 'Example Workflows']"
      ]
     },
     "execution_count": 4,
     "metadata": {},
     "output_type": "execute_result"
    }
   ],
   "source": [
    "os.listdir(workspace)"
   ]
  },
  {
   "cell_type": "code",
   "execution_count": 5,
   "id": "48885f22",
   "metadata": {},
   "outputs": [],
   "source": [
    "wfg = workflowgrader(workspace,'C5_Lab5_Task1_Data_prep_clean_with_COT')"
   ]
  },
  {
   "cell_type": "code",
   "execution_count": 6,
   "id": "b1c0b896",
   "metadata": {},
   "outputs": [
    {
     "name": "stderr",
     "output_type": "stream",
     "text": [
      "100%|████████████████████████████████████████████████████████████████████████████████████| 2/2 [00:37<00:00, 18.85s/it]"
     ]
    },
    {
     "name": "stdout",
     "output_type": "stream",
     "text": [
      "Wall time: 37.7 s\n"
     ]
    },
    {
     "name": "stderr",
     "output_type": "stream",
     "text": [
      "\n"
     ]
    }
   ],
   "source": [
    "%%time\n",
    "_ = wfg.accumulate_workflow_outputs()"
   ]
  },
  {
   "cell_type": "code",
   "execution_count": 7,
   "id": "888b42f3",
   "metadata": {
    "collapsed": true
   },
   "outputs": [
    {
     "data": {
      "text/plain": [
       "{'11006381_complete': {'output1':         age  fnlwgt  education-num  capital-gain  capital-loss  \\\n",
       "  0    middle  121772             11             0             0   \n",
       "  1    middle   84154             10             0             0   \n",
       "  2    middle  293936              4             0             0   \n",
       "  3    middle  117747              9             0          1573   \n",
       "  4    middle  153141              9             0             0   \n",
       "  ..      ...     ...            ...           ...           ...   \n",
       "  451  middle  191196             13             0          1977   \n",
       "  452  middle  199590              3             0             0   \n",
       "  453  middle   71556             14             0             0   \n",
       "  454  middle  217597              9             0             0   \n",
       "  455  middle  107302              9             0             0   \n",
       "  \n",
       "       hours-per-week(new)  \n",
       "  0                   40.0  \n",
       "  1                   38.0  \n",
       "  2                   40.0  \n",
       "  3                   35.0  \n",
       "  4                   40.0  \n",
       "  ..                   ...  \n",
       "  451                 60.0  \n",
       "  452                 40.0  \n",
       "  453                 50.0  \n",
       "  454                 50.0  \n",
       "  455                 45.0  \n",
       "  \n",
       "  [456 rows x 6 columns],\n",
       "  'output_2':       age  fnlwgt  education  education-num         marital-status  \\\n",
       "  0      53  234721       11th              7     Married-civ-spouse   \n",
       "  1      49  160187        9th              5  Married-spouse-absent   \n",
       "  2      34  245487    7th-8th              4     Married-civ-spouse   \n",
       "  3      38   28887       11th              7     Married-civ-spouse   \n",
       "  4      35   76845        9th              5     Married-civ-spouse   \n",
       "  ...   ...     ...        ...            ...                    ...   \n",
       "  4697   44   71556    Masters             14     Married-civ-spouse   \n",
       "  4698   58  181974  Doctorate             16          Never-married   \n",
       "  4699   42  217597    HS-grad              9               Divorced   \n",
       "  4700   39  107302    HS-grad              9     Married-civ-spouse   \n",
       "  4701   81  120478  Assoc-voc             11               Divorced   \n",
       "  \n",
       "               occupation   relationship                race     sex  \\\n",
       "  0     Handlers-cleaners        Husband               Black    Male   \n",
       "  1         Other-service  Not-in-family               Black  Female   \n",
       "  2      Transport-moving        Husband  Amer-Indian-Eskimo    Male   \n",
       "  3                 Sales        Husband               White    Male   \n",
       "  4       Farming-fishing        Husband               Black    Male   \n",
       "  ...                 ...            ...                 ...     ...   \n",
       "  4697              Sales        Husband               White    Male   \n",
       "  4698     Prof-specialty  Not-in-family               White  Female   \n",
       "  4699              Sales      Own-child               White    Male   \n",
       "  4700     Prof-specialty        Husband               White    Male   \n",
       "  4701               None      Unmarried               White  Female   \n",
       "  \n",
       "        capital-gain  capital-loss hours-per-week native-country income  \\\n",
       "  0                0             0          40hpw  United-States  <=50K   \n",
       "  1                0             0          16hpw        Jamaica  <=50K   \n",
       "  2                0             0          45hpw         Mexico  <=50K   \n",
       "  3                0             0          50hpw  United-States  <=50K   \n",
       "  4                0             0          40hpw  United-States  <=50K   \n",
       "  ...            ...           ...            ...            ...    ...   \n",
       "  4697             0             0          50hpw           None   >50K   \n",
       "  4698             0             0          99hpw           None  <=50K   \n",
       "  4699             0             0          50hpw           None  <=50K   \n",
       "  4700             0             0          45hpw           None   >50K   \n",
       "  4701             0             0           1hpw           None  <=50K   \n",
       "  \n",
       "               workclass  hours-per-week(new)  \n",
       "  0              Private                 40.0  \n",
       "  1              Private                 16.0  \n",
       "  2              Private                 45.0  \n",
       "  3              Private                 50.0  \n",
       "  4          Federal-gov                 40.0  \n",
       "  ...                ...                  ...  \n",
       "  4697      Self-emp-inc                 50.0  \n",
       "  4698      Self-emp-inc                 99.0  \n",
       "  4699  Self-emp-not-inc                 50.0  \n",
       "  4700           Private                 45.0  \n",
       "  4701              None                  1.0  \n",
       "  \n",
       "  [4702 rows x 16 columns]},\n",
       " '11006381_complete_more': {'output1':         age  education-num  capital-gain  capital-loss  hours-per-week(new)\n",
       "  0    middle             11             0             0                 40.0\n",
       "  1    middle             10             0             0                 38.0\n",
       "  2    middle              4             0             0                 40.0\n",
       "  3    middle              9             0          1573                 35.0\n",
       "  4    middle              9             0             0                 40.0\n",
       "  ..      ...            ...           ...           ...                  ...\n",
       "  451  middle             13             0          1977                 60.0\n",
       "  452  middle              3             0             0                 40.0\n",
       "  453  middle             14             0             0                 50.0\n",
       "  454  middle              9             0             0                 50.0\n",
       "  455  middle              9             0             0                 45.0\n",
       "  \n",
       "  [456 rows x 5 columns],\n",
       "  'output_2':       age  fnlwgt  education  education-num         marital-status  \\\n",
       "  0      53  234721       11th              7     Married-civ-spouse   \n",
       "  1      49  160187        9th              5  Married-spouse-absent   \n",
       "  2      34  245487    7th-8th              4     Married-civ-spouse   \n",
       "  3      38   28887       11th              7     Married-civ-spouse   \n",
       "  4      35   76845        9th              5     Married-civ-spouse   \n",
       "  ...   ...     ...        ...            ...                    ...   \n",
       "  4697   44   71556    Masters             14     Married-civ-spouse   \n",
       "  4698   58  181974  Doctorate             16          Never-married   \n",
       "  4699   42  217597    HS-grad              9               Divorced   \n",
       "  4700   39  107302    HS-grad              9     Married-civ-spouse   \n",
       "  4701   81  120478  Assoc-voc             11               Divorced   \n",
       "  \n",
       "               occupation   relationship                race     sex  \\\n",
       "  0     Handlers-cleaners        Husband               Black    Male   \n",
       "  1         Other-service  Not-in-family               Black  Female   \n",
       "  2      Transport-moving        Husband  Amer-Indian-Eskimo    Male   \n",
       "  3                 Sales        Husband               White    Male   \n",
       "  4       Farming-fishing        Husband               Black    Male   \n",
       "  ...                 ...            ...                 ...     ...   \n",
       "  4697              Sales        Husband               White    Male   \n",
       "  4698     Prof-specialty  Not-in-family               White  Female   \n",
       "  4699              Sales      Own-child               White    Male   \n",
       "  4700     Prof-specialty        Husband               White    Male   \n",
       "  4701               None      Unmarried               White  Female   \n",
       "  \n",
       "        capital-gain  capital-loss hours-per-week native-country income  \\\n",
       "  0                0             0          40hpw  United-States  <=50K   \n",
       "  1                0             0          16hpw        Jamaica  <=50K   \n",
       "  2                0             0          45hpw         Mexico  <=50K   \n",
       "  3                0             0          50hpw  United-States  <=50K   \n",
       "  4                0             0          40hpw  United-States  <=50K   \n",
       "  ...            ...           ...            ...            ...    ...   \n",
       "  4697             0             0          50hpw           None   >50K   \n",
       "  4698             0             0          99hpw           None  <=50K   \n",
       "  4699             0             0          50hpw           None  <=50K   \n",
       "  4700             0             0          45hpw           None   >50K   \n",
       "  4701             0             0           1hpw           None  <=50K   \n",
       "  \n",
       "               workclass  hours-per-week(new)  \n",
       "  0              Private                 40.0  \n",
       "  1              Private                 16.0  \n",
       "  2              Private                 45.0  \n",
       "  3              Private                 50.0  \n",
       "  4          Federal-gov                 40.0  \n",
       "  ...                ...                  ...  \n",
       "  4697      Self-emp-inc                 50.0  \n",
       "  4698      Self-emp-inc                 99.0  \n",
       "  4699  Self-emp-not-inc                 50.0  \n",
       "  4700           Private                 45.0  \n",
       "  4701              None                  1.0  \n",
       "  \n",
       "  [4702 rows x 16 columns],\n",
       "  'output_3':        age  fnlwgt   education  education-num      marital-status  \\\n",
       "  0       39   77516   Bachelors             13       Never-married   \n",
       "  1       50   83311   Bachelors             13  Married-civ-spouse   \n",
       "  2       38  215646     HS-grad              9            Divorced   \n",
       "  3       53  234721        11th              7  Married-civ-spouse   \n",
       "  4       28  338409   Bachelors             13  Married-civ-spouse   \n",
       "  ...    ...     ...         ...            ...                 ...   \n",
       "  32556   27  257302  Assoc-acdm             12  Married-civ-spouse   \n",
       "  32557   40  154374     HS-grad              9  Married-civ-spouse   \n",
       "  32558   58  151910     HS-grad              9             Widowed   \n",
       "  32559   22  201490     HS-grad              9       Never-married   \n",
       "  32560   52  287927     HS-grad              9  Married-civ-spouse   \n",
       "  \n",
       "                occupation   relationship   race     sex  capital-gain  \\\n",
       "  0           Adm-clerical  Not-in-family  White    Male          2174   \n",
       "  1        Exec-managerial        Husband  White    Male             0   \n",
       "  2      Handlers-cleaners  Not-in-family  White    Male             0   \n",
       "  3      Handlers-cleaners        Husband  Black    Male             0   \n",
       "  4         Prof-specialty           Wife  Black  Female             0   \n",
       "  ...                  ...            ...    ...     ...           ...   \n",
       "  32556       Tech-support           Wife  White  Female             0   \n",
       "  32557  Machine-op-inspct        Husband  White    Male             0   \n",
       "  32558       Adm-clerical      Unmarried  White  Female             0   \n",
       "  32559       Adm-clerical      Own-child  White    Male             0   \n",
       "  32560    Exec-managerial           Wife  White  Female         15024   \n",
       "  \n",
       "         capital-loss hours-per-week native-country income         workclass  \n",
       "  0                 0          40hpw  United-States  <=50K         State-gov  \n",
       "  1                 0          13hpw  United-States  <=50K  Self-emp-not-inc  \n",
       "  2                 0          40hpw  United-States  <=50K           Private  \n",
       "  3                 0          40hpw  United-States  <=50K           Private  \n",
       "  4                 0          40hpw           Cuba  <=50K           Private  \n",
       "  ...             ...            ...            ...    ...               ...  \n",
       "  32556             0          38hpw  United-States  <=50K           Private  \n",
       "  32557             0          40hpw  United-States   >50K           Private  \n",
       "  32558             0          40hpw  United-States  <=50K           Private  \n",
       "  32559             0          20hpw  United-States  <=50K           Private  \n",
       "  32560             0          40hpw  United-States   >50K      Self-emp-inc  \n",
       "  \n",
       "  [32561 rows x 15 columns]}}"
      ]
     },
     "execution_count": 7,
     "metadata": {},
     "output_type": "execute_result"
    }
   ],
   "source": [
    "wfg.sub_outputs"
   ]
  },
  {
   "cell_type": "code",
   "execution_count": 8,
   "id": "38beca01",
   "metadata": {},
   "outputs": [
    {
     "name": "stderr",
     "output_type": "stream",
     "text": [
      "100%|██████████████████████████████████████████████████████████████████████████████████| 2/2 [00:00<00:00, 1938.67it/s]\n"
     ]
    }
   ],
   "source": [
    "_ = wfg.check_question()"
   ]
  },
  {
   "cell_type": "code",
   "execution_count": 9,
   "id": "eb2bb326",
   "metadata": {},
   "outputs": [],
   "source": [
    "qr = wfg.check_question_results"
   ]
  },
  {
   "cell_type": "code",
   "execution_count": 19,
   "id": "58f3db68",
   "metadata": {},
   "outputs": [
    {
     "data": {
      "text/plain": [
       "{'11006381_complete': ([], []),\n",
       " '11006381_complete_more': (['output_1'], ['output1', 'output_3'])}"
      ]
     },
     "execution_count": 19,
     "metadata": {},
     "output_type": "execute_result"
    }
   ],
   "source": [
    "qr"
   ]
  },
  {
   "cell_type": "code",
   "execution_count": 10,
   "id": "780c95fa",
   "metadata": {},
   "outputs": [
    {
     "name": "stderr",
     "output_type": "stream",
     "text": [
      "100%|███████████████████████████████████████████████████████████████████████████████████| 2/2 [00:00<00:00, 210.06it/s]\n"
     ]
    }
   ],
   "source": [
    "_ = wfg.check_variable()"
   ]
  },
  {
   "cell_type": "code",
   "execution_count": 11,
   "id": "17d56da3",
   "metadata": {},
   "outputs": [],
   "source": [
    "vr = wfg.check_var_results"
   ]
  },
  {
   "cell_type": "code",
   "execution_count": 14,
   "id": "469566ee",
   "metadata": {},
   "outputs": [
    {
     "data": {
      "text/plain": [
       "{'output_1': {'11006381_complete': (['EstWeight'],\n",
       "   [('hours-per-week(new)', dtype('int64'), dtype('float64'))]),\n",
       "  '11006381_complete_more': (None, None)},\n",
       " 'output_2': {'11006381_complete': (['EstWeight'],\n",
       "   [('hours-per-week(new)', dtype('int64'), dtype('float64'))]),\n",
       "  '11006381_complete_more': (['EstWeight'],\n",
       "   [('hours-per-week(new)', dtype('int64'), dtype('float64'))])}}"
      ]
     },
     "execution_count": 14,
     "metadata": {},
     "output_type": "execute_result"
    }
   ],
   "source": [
    "vr"
   ]
  },
  {
   "cell_type": "code",
   "execution_count": 12,
   "id": "89717036",
   "metadata": {},
   "outputs": [],
   "source": [
    "qdf = pd.Series(qr,name='questions')\n",
    "vdf = pd.DataFrame.from_dict(vr)"
   ]
  },
  {
   "cell_type": "code",
   "execution_count": 13,
   "id": "71ff0a47",
   "metadata": {},
   "outputs": [
    {
     "data": {
      "text/html": [
       "<div>\n",
       "<style scoped>\n",
       "    .dataframe tbody tr th:only-of-type {\n",
       "        vertical-align: middle;\n",
       "    }\n",
       "\n",
       "    .dataframe tbody tr th {\n",
       "        vertical-align: top;\n",
       "    }\n",
       "\n",
       "    .dataframe thead th {\n",
       "        text-align: right;\n",
       "    }\n",
       "</style>\n",
       "<table border=\"1\" class=\"dataframe\">\n",
       "  <thead>\n",
       "    <tr style=\"text-align: right;\">\n",
       "      <th></th>\n",
       "      <th>questions</th>\n",
       "      <th>output_1</th>\n",
       "      <th>output_2</th>\n",
       "    </tr>\n",
       "  </thead>\n",
       "  <tbody>\n",
       "    <tr>\n",
       "      <th>11006381_complete</th>\n",
       "      <td>([], [])</td>\n",
       "      <td>([EstWeight], [(hours-per-week(new), int64, fl...</td>\n",
       "      <td>([EstWeight], [(hours-per-week(new), int64, fl...</td>\n",
       "    </tr>\n",
       "    <tr>\n",
       "      <th>11006381_complete_more</th>\n",
       "      <td>([output_1], [output1, output_3])</td>\n",
       "      <td>(None, None)</td>\n",
       "      <td>([EstWeight], [(hours-per-week(new), int64, fl...</td>\n",
       "    </tr>\n",
       "  </tbody>\n",
       "</table>\n",
       "</div>"
      ],
      "text/plain": [
       "                                                questions  \\\n",
       "11006381_complete                                ([], [])   \n",
       "11006381_complete_more  ([output_1], [output1, output_3])   \n",
       "\n",
       "                                                                 output_1  \\\n",
       "11006381_complete       ([EstWeight], [(hours-per-week(new), int64, fl...   \n",
       "11006381_complete_more                                       (None, None)   \n",
       "\n",
       "                                                                 output_2  \n",
       "11006381_complete       ([EstWeight], [(hours-per-week(new), int64, fl...  \n",
       "11006381_complete_more  ([EstWeight], [(hours-per-week(new), int64, fl...  "
      ]
     },
     "execution_count": 13,
     "metadata": {},
     "output_type": "execute_result"
    }
   ],
   "source": [
    "pd.merge(qdf,vdf,left_index=True,right_index=True)"
   ]
  },
  {
   "cell_type": "code",
   "execution_count": 18,
   "id": "870765f7",
   "metadata": {},
   "outputs": [
    {
     "data": {
      "text/html": [
       "<div>\n",
       "<style scoped>\n",
       "    .dataframe tbody tr th:only-of-type {\n",
       "        vertical-align: middle;\n",
       "    }\n",
       "\n",
       "    .dataframe tbody tr th {\n",
       "        vertical-align: top;\n",
       "    }\n",
       "\n",
       "    .dataframe thead th {\n",
       "        text-align: right;\n",
       "    }\n",
       "</style>\n",
       "<table border=\"1\" class=\"dataframe\">\n",
       "  <thead>\n",
       "    <tr style=\"text-align: right;\">\n",
       "      <th></th>\n",
       "      <th>age</th>\n",
       "      <th>fnlwgt</th>\n",
       "      <th>education-num</th>\n",
       "      <th>capital-gain</th>\n",
       "      <th>capital-loss</th>\n",
       "      <th>hours-per-week(new)</th>\n",
       "    </tr>\n",
       "  </thead>\n",
       "  <tbody>\n",
       "    <tr>\n",
       "      <th>0</th>\n",
       "      <td>middle</td>\n",
       "      <td>121772</td>\n",
       "      <td>11</td>\n",
       "      <td>0</td>\n",
       "      <td>0</td>\n",
       "      <td>40.0</td>\n",
       "    </tr>\n",
       "    <tr>\n",
       "      <th>1</th>\n",
       "      <td>middle</td>\n",
       "      <td>84154</td>\n",
       "      <td>10</td>\n",
       "      <td>0</td>\n",
       "      <td>0</td>\n",
       "      <td>38.0</td>\n",
       "    </tr>\n",
       "    <tr>\n",
       "      <th>2</th>\n",
       "      <td>middle</td>\n",
       "      <td>293936</td>\n",
       "      <td>4</td>\n",
       "      <td>0</td>\n",
       "      <td>0</td>\n",
       "      <td>40.0</td>\n",
       "    </tr>\n",
       "    <tr>\n",
       "      <th>3</th>\n",
       "      <td>middle</td>\n",
       "      <td>117747</td>\n",
       "      <td>9</td>\n",
       "      <td>0</td>\n",
       "      <td>1573</td>\n",
       "      <td>35.0</td>\n",
       "    </tr>\n",
       "    <tr>\n",
       "      <th>4</th>\n",
       "      <td>middle</td>\n",
       "      <td>153141</td>\n",
       "      <td>9</td>\n",
       "      <td>0</td>\n",
       "      <td>0</td>\n",
       "      <td>40.0</td>\n",
       "    </tr>\n",
       "    <tr>\n",
       "      <th>...</th>\n",
       "      <td>...</td>\n",
       "      <td>...</td>\n",
       "      <td>...</td>\n",
       "      <td>...</td>\n",
       "      <td>...</td>\n",
       "      <td>...</td>\n",
       "    </tr>\n",
       "    <tr>\n",
       "      <th>451</th>\n",
       "      <td>middle</td>\n",
       "      <td>191196</td>\n",
       "      <td>13</td>\n",
       "      <td>0</td>\n",
       "      <td>1977</td>\n",
       "      <td>60.0</td>\n",
       "    </tr>\n",
       "    <tr>\n",
       "      <th>452</th>\n",
       "      <td>middle</td>\n",
       "      <td>199590</td>\n",
       "      <td>3</td>\n",
       "      <td>0</td>\n",
       "      <td>0</td>\n",
       "      <td>40.0</td>\n",
       "    </tr>\n",
       "    <tr>\n",
       "      <th>453</th>\n",
       "      <td>middle</td>\n",
       "      <td>71556</td>\n",
       "      <td>14</td>\n",
       "      <td>0</td>\n",
       "      <td>0</td>\n",
       "      <td>50.0</td>\n",
       "    </tr>\n",
       "    <tr>\n",
       "      <th>454</th>\n",
       "      <td>middle</td>\n",
       "      <td>217597</td>\n",
       "      <td>9</td>\n",
       "      <td>0</td>\n",
       "      <td>0</td>\n",
       "      <td>50.0</td>\n",
       "    </tr>\n",
       "    <tr>\n",
       "      <th>455</th>\n",
       "      <td>middle</td>\n",
       "      <td>107302</td>\n",
       "      <td>9</td>\n",
       "      <td>0</td>\n",
       "      <td>0</td>\n",
       "      <td>45.0</td>\n",
       "    </tr>\n",
       "  </tbody>\n",
       "</table>\n",
       "<p>456 rows × 6 columns</p>\n",
       "</div>"
      ],
      "text/plain": [
       "        age  fnlwgt  education-num  capital-gain  capital-loss  \\\n",
       "0    middle  121772             11             0             0   \n",
       "1    middle   84154             10             0             0   \n",
       "2    middle  293936              4             0             0   \n",
       "3    middle  117747              9             0          1573   \n",
       "4    middle  153141              9             0             0   \n",
       "..      ...     ...            ...           ...           ...   \n",
       "451  middle  191196             13             0          1977   \n",
       "452  middle  199590              3             0             0   \n",
       "453  middle   71556             14             0             0   \n",
       "454  middle  217597              9             0             0   \n",
       "455  middle  107302              9             0             0   \n",
       "\n",
       "     hours-per-week(new)  \n",
       "0                   40.0  \n",
       "1                   38.0  \n",
       "2                   40.0  \n",
       "3                   35.0  \n",
       "4                   40.0  \n",
       "..                   ...  \n",
       "451                 60.0  \n",
       "452                 40.0  \n",
       "453                 50.0  \n",
       "454                 50.0  \n",
       "455                 45.0  \n",
       "\n",
       "[456 rows x 6 columns]"
      ]
     },
     "execution_count": 18,
     "metadata": {},
     "output_type": "execute_result"
    }
   ],
   "source": [
    "wfg.sub_outputs['11006381_complete']['output_1']"
   ]
  },
  {
   "cell_type": "markdown",
   "id": "06a5d25b",
   "metadata": {},
   "source": [
    "# Continue from here\n",
    "\n",
    "Using the dataframe above, we can use it to generate feedback for each student and statistics of the data collected.\n",
    "\n",
    "## up next, check the data by columns\n",
    "\n",
    "## extract the nodes used in the workflow"
   ]
  },
  {
   "cell_type": "code",
   "execution_count": null,
   "id": "f3423312",
   "metadata": {},
   "outputs": [],
   "source": []
  },
  {
   "cell_type": "code",
   "execution_count": null,
   "id": "ec165623",
   "metadata": {},
   "outputs": [],
   "source": []
  },
  {
   "cell_type": "code",
   "execution_count": null,
   "id": "a22ebca7",
   "metadata": {},
   "outputs": [],
   "source": []
  },
  {
   "cell_type": "code",
   "execution_count": null,
   "id": "014b974e",
   "metadata": {},
   "outputs": [],
   "source": []
  },
  {
   "cell_type": "markdown",
   "id": "60a59672",
   "metadata": {},
   "source": [
    "# Old stuff as resource below"
   ]
  },
  {
   "cell_type": "code",
   "execution_count": null,
   "id": "0da4a9e0",
   "metadata": {},
   "outputs": [],
   "source": [
    "qdf = pd.Series(x,name='questions')"
   ]
  },
  {
   "cell_type": "code",
   "execution_count": null,
   "id": "073f2290",
   "metadata": {},
   "outputs": [],
   "source": [
    "qdf"
   ]
  },
  {
   "cell_type": "code",
   "execution_count": null,
   "id": "d18f0dae",
   "metadata": {},
   "outputs": [],
   "source": [
    "dfd"
   ]
  },
  {
   "cell_type": "code",
   "execution_count": null,
   "id": "a782f6a6",
   "metadata": {},
   "outputs": [],
   "source": [
    "pd.merge(qdf,dfd,left_index=True,right_index=True)"
   ]
  },
  {
   "cell_type": "code",
   "execution_count": null,
   "id": "27496f04",
   "metadata": {},
   "outputs": [],
   "source": [
    "o = wf.check_variables()"
   ]
  },
  {
   "cell_type": "code",
   "execution_count": null,
   "id": "94cb8445",
   "metadata": {},
   "outputs": [],
   "source": [
    "o"
   ]
  },
  {
   "cell_type": "code",
   "execution_count": null,
   "id": "b3931bf6",
   "metadata": {},
   "outputs": [],
   "source": [
    "dfd = pd.DataFrame.from_dict(o)"
   ]
  },
  {
   "cell_type": "code",
   "execution_count": null,
   "id": "44dca6ad",
   "metadata": {},
   "outputs": [],
   "source": [
    "dfd"
   ]
  },
  {
   "cell_type": "code",
   "execution_count": null,
   "id": "6075430a",
   "metadata": {},
   "outputs": [],
   "source": [
    "dfd.output_1.loc['11006381_complete']"
   ]
  },
  {
   "cell_type": "code",
   "execution_count": null,
   "id": "53cf2a9b",
   "metadata": {},
   "outputs": [],
   "source": [
    "wf.ref_output['output_1'].keys()"
   ]
  },
  {
   "cell_type": "code",
   "execution_count": null,
   "id": "406b5499",
   "metadata": {},
   "outputs": [],
   "source": [
    "wf.sub_outputs.keys()"
   ]
  },
  {
   "cell_type": "code",
   "execution_count": null,
   "id": "41b009d6",
   "metadata": {},
   "outputs": [],
   "source": [
    "len(wf)"
   ]
  },
  {
   "cell_type": "code",
   "execution_count": null,
   "id": "602e59a4",
   "metadata": {},
   "outputs": [],
   "source": [
    "wf.sub_outputs['11006381_complete']['output_1']['fnlwgt'].dtype"
   ]
  },
  {
   "cell_type": "code",
   "execution_count": null,
   "id": "356e544d",
   "metadata": {},
   "outputs": [],
   "source": [
    "for i,j in zip(wf.ref_output['output_1'].columns,wf.ref_output['output_1'].dtypes):\n",
    "    print(i,j)\n",
    "    try:\n",
    "        print(wf.sub_outputs['11006381_complete']['output_1'][i].dtype == j) \n",
    "    except:\n",
    "        print('Variable {} not found'.format(i))"
   ]
  },
  {
   "cell_type": "code",
   "execution_count": null,
   "id": "64154363",
   "metadata": {},
   "outputs": [],
   "source": [
    "tar_dt = wf.ref_output['output_1'].dtypes"
   ]
  },
  {
   "cell_type": "code",
   "execution_count": null,
   "id": "758d0391",
   "metadata": {},
   "outputs": [],
   "source": [
    "tar_v = wf.ref_output['output_1'].dtypes.index"
   ]
  },
  {
   "cell_type": "code",
   "execution_count": null,
   "id": "6479e854",
   "metadata": {},
   "outputs": [],
   "source": [
    "for i,j in zip(tar_v,tar_dt):\n",
    "    print(i,j)"
   ]
  },
  {
   "cell_type": "code",
   "execution_count": null,
   "id": "f20427e8",
   "metadata": {},
   "outputs": [],
   "source": [
    "wf.ref_output['output_1'].columns"
   ]
  },
  {
   "cell_type": "code",
   "execution_count": null,
   "id": "7e9610cb",
   "metadata": {},
   "outputs": [],
   "source": [
    "wf.sub_outputs['11006381_complete']['output_1'].dtypes.index"
   ]
  },
  {
   "cell_type": "code",
   "execution_count": null,
   "id": "7c23acd9",
   "metadata": {},
   "outputs": [],
   "source": [
    "wf.sub_outputs['11006381_complete']['output_1'].head()"
   ]
  },
  {
   "cell_type": "markdown",
   "id": "5694babc",
   "metadata": {},
   "source": [
    "# Note for self\n",
    "\n",
    "A dictionary with `student_id` as keys and some other data as values can be converted to a pandas series with\n",
    "\n",
    "```\n",
    "s = pd.Series(*dict_here*,name='*variable_name_for_data*')\n",
    "s'= pd.Series(*dict_here*,name='*variable_name_for_data*')\n",
    "```\n",
    "\n",
    "To merge them on the columns\n",
    "```\n",
    "pd.merge(s,s_, left_index=True, right_index=True)\n",
    "```\n",
    "\n",
    "Eventually two series can be merged to a dataframe and series can be merged to a dataframe with `pd.merge`. Dataframes can then be saved as csv files as output for the assisted grading process."
   ]
  },
  {
   "cell_type": "code",
   "execution_count": null,
   "id": "0aefb2df",
   "metadata": {},
   "outputs": [],
   "source": [
    "d1 = {'a':[1,2], 'b':[3,4],'c':[4,5]}\n",
    "d2 = {'b':[3,4],'a':[1,2],'c':[4,5]}"
   ]
  },
  {
   "cell_type": "code",
   "execution_count": null,
   "id": "c73e807f",
   "metadata": {},
   "outputs": [],
   "source": [
    "d1 = {'a':None, 'b':[3,4],'c':[4,5]}\n",
    "d2 = {'b':[3,4],'a':(1,2),'c':[4,5]}"
   ]
  },
  {
   "cell_type": "code",
   "execution_count": null,
   "id": "724b9be4",
   "metadata": {},
   "outputs": [],
   "source": [
    "pd.DataFrame.from_dict(d1)"
   ]
  },
  {
   "cell_type": "code",
   "execution_count": null,
   "id": "bc6a87fe",
   "metadata": {},
   "outputs": [],
   "source": [
    "included_keys=['a','b']"
   ]
  },
  {
   "cell_type": "code",
   "execution_count": null,
   "id": "d940bafb",
   "metadata": {},
   "outputs": [],
   "source": [
    "{k:v for k,v in d1.items() if k in included_keys}"
   ]
  },
  {
   "cell_type": "code",
   "execution_count": null,
   "id": "096ca143",
   "metadata": {},
   "outputs": [],
   "source": [
    "type(d1.items())"
   ]
  },
  {
   "cell_type": "code",
   "execution_count": null,
   "id": "72c96c5e",
   "metadata": {},
   "outputs": [],
   "source": [
    "d1.keys() == d2.keys()"
   ]
  },
  {
   "cell_type": "code",
   "execution_count": null,
   "id": "a3529f06",
   "metadata": {},
   "outputs": [],
   "source": [
    "wf.question_submission_data"
   ]
  },
  {
   "cell_type": "code",
   "execution_count": null,
   "id": "bee03bd3",
   "metadata": {},
   "outputs": [],
   "source": [
    "s = pd.Series(wf.compare_COT_annotations(),name='questions')"
   ]
  },
  {
   "cell_type": "code",
   "execution_count": null,
   "id": "db601104",
   "metadata": {},
   "outputs": [],
   "source": [
    "s_ = pd.Series(wf.compare_COT_annotations(),name='questions_')"
   ]
  },
  {
   "cell_type": "code",
   "execution_count": null,
   "id": "757768a5",
   "metadata": {},
   "outputs": [],
   "source": [
    "s.index"
   ]
  },
  {
   "cell_type": "code",
   "execution_count": null,
   "id": "46621cc8",
   "metadata": {},
   "outputs": [],
   "source": [
    "s__ = pd.merge(s,s_, left_index=True, right_index=True)"
   ]
  },
  {
   "cell_type": "code",
   "execution_count": null,
   "id": "cdf54386",
   "metadata": {},
   "outputs": [],
   "source": [
    "s__"
   ]
  },
  {
   "cell_type": "code",
   "execution_count": null,
   "id": "3c612cec",
   "metadata": {},
   "outputs": [],
   "source": [
    "pd.merge(s__,s_, left_index=True, right_index=True)"
   ]
  },
  {
   "cell_type": "code",
   "execution_count": null,
   "id": "bce66392",
   "metadata": {},
   "outputs": [],
   "source": []
  }
 ],
 "metadata": {
  "kernelspec": {
   "display_name": "Python 3 (ipykernel)",
   "language": "python",
   "name": "python3"
  },
  "language_info": {
   "codemirror_mode": {
    "name": "ipython",
    "version": 3
   },
   "file_extension": ".py",
   "mimetype": "text/x-python",
   "name": "python",
   "nbconvert_exporter": "python",
   "pygments_lexer": "ipython3",
   "version": "3.9.7"
  }
 },
 "nbformat": 4,
 "nbformat_minor": 5
}
