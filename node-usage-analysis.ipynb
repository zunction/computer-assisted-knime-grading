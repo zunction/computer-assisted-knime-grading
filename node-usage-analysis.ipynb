{
 "cells": [
  {
   "cell_type": "markdown",
   "id": "87161444",
   "metadata": {},
   "source": [
    "## Node usage analysis\n",
    "\n",
    "This notebook demonstrates how the `workflowgrader class` can help to extract the data of the nodes used in the workflows."
   ]
  },
  {
   "cell_type": "code",
   "execution_count": 1,
   "id": "ea259a21",
   "metadata": {},
   "outputs": [],
   "source": [
    "import knime\n",
    "from utils import workflowgrader\n",
    "import pandas as pd\n",
    "import numpy as np\n",
    "import os, re\n",
    "from pathlib import Path\n",
    "from IPython.display import SVG\n",
    "import xml.etree.ElementTree as ET"
   ]
  },
  {
   "cell_type": "code",
   "execution_count": 2,
   "id": "0057b5e7",
   "metadata": {},
   "outputs": [],
   "source": [
    "workspace = r\"C:/Users/s11006381/knime-workspace/small_gradespace\""
   ]
  },
  {
   "cell_type": "code",
   "execution_count": 3,
   "id": "baf83ab4",
   "metadata": {},
   "outputs": [
    {
     "name": "stdout",
     "output_type": "stream",
     "text": [
      "0 C:/Users/s11006381/knime-workspace/small_gradespace\\.metadata\n",
      "1 C:/Users/s11006381/knime-workspace/small_gradespace\\11006381_complete\n",
      "2 C:/Users/s11006381/knime-workspace/small_gradespace\\11006381_complete_more\n",
      "3 C:/Users/s11006381/knime-workspace/small_gradespace\\11006381_partial_correct\n",
      "4 C:/Users/s11006381/knime-workspace/small_gradespace\\C5_Lab5_Task1_Data_prep_clean\n",
      "5 C:/Users/s11006381/knime-workspace/small_gradespace\\C5_Lab5_Task1_Data_prep_clean_with_COT\n",
      "6 C:/Users/s11006381/knime-workspace/small_gradespace\\Example Workflows\n"
     ]
    }
   ],
   "source": [
    "workflow_dir_list = [os.path.join(workspace,os.listdir(workspace)[i]) for i in range(len(os.listdir(workspace)))]\n",
    "for i,j in enumerate(workflow_dir_list):\n",
    "    print(i,j)"
   ]
  },
  {
   "cell_type": "markdown",
   "id": "dddda213",
   "metadata": {},
   "source": [
    "A `workflowgrader` is initialized with the workspace of interest and the name of the reference workflow where grading is conducted using it as a reference."
   ]
  },
  {
   "cell_type": "code",
   "execution_count": 4,
   "id": "40a75919",
   "metadata": {},
   "outputs": [],
   "source": [
    "wfg = workflowgrader(workspace,'C5_Lab5_Task1_Data_prep_clean_with_COT')"
   ]
  },
  {
   "cell_type": "markdown",
   "id": "f3bd3dc8",
   "metadata": {},
   "source": [
    "The `.ref_nodes` method returns the count of the various nodes used in the reference workflow."
   ]
  },
  {
   "cell_type": "code",
   "execution_count": 13,
   "id": "98866a8d",
   "metadata": {},
   "outputs": [
    {
     "data": {
      "text/plain": [
       "{'CSV Reader': 2,\n",
       " 'Column Filter': 1,\n",
       " 'Concatenate': 1,\n",
       " 'Container Output _Table_': 2,\n",
       " 'Joiner': 1,\n",
       " 'Nominal Value Row Filter': 1,\n",
       " 'Numeric Binner': 1,\n",
       " 'Reference Column Filter': 1,\n",
       " 'Reference Row Filter': 1,\n",
       " 'Row Filter': 2,\n",
       " 'String Manipulation': 1,\n",
       " 'String To Number': 1}"
      ]
     },
     "execution_count": 13,
     "metadata": {},
     "output_type": "execute_result"
    }
   ],
   "source": [
    "wfg.ref_nodes"
   ]
  },
  {
   "cell_type": "markdown",
   "id": "da1188da",
   "metadata": {},
   "source": [
    "The `.accumulate_workflow_nodes()` method is used to accumulate all the nodes used in the workflow to be graded."
   ]
  },
  {
   "cell_type": "code",
   "execution_count": 14,
   "id": "e475a3e5",
   "metadata": {},
   "outputs": [
    {
     "name": "stderr",
     "output_type": "stream",
     "text": [
      "100%|███████████████████████████████████████████████████████████████████████████████████| 3/3 [00:00<00:00, 250.54it/s]\n"
     ]
    },
    {
     "data": {
      "text/plain": [
       "{'11006381_complete': {'CSV Reader': 2,\n",
       "  'Column Filter': 1,\n",
       "  'Concatenate': 1,\n",
       "  'Container Output _Table_': 2,\n",
       "  'Joiner': 1,\n",
       "  'Nominal Value Row Filter': 1,\n",
       "  'Numeric Binner': 1,\n",
       "  'Reference Column Filter': 1,\n",
       "  'Reference Row Filter': 1,\n",
       "  'Row Filter': 2,\n",
       "  'String Manipulation': 1,\n",
       "  'String To Number': 1},\n",
       " '11006381_complete_more': {'CSV Reader': 2,\n",
       "  'Column Filter': 1,\n",
       "  'Concatenate': 1,\n",
       "  'Container Output _Table_': 3,\n",
       "  'Joiner': 1,\n",
       "  'Nominal Value Row Filter': 1,\n",
       "  'Numeric Binner': 1,\n",
       "  'Reference Column Filter': 1,\n",
       "  'Reference Row Filter': 1,\n",
       "  'Row Filter': 2,\n",
       "  'String Manipulation': 1,\n",
       "  'String To Number': 1},\n",
       " '11006381_partial_correct': {'CSV Reader': 2,\n",
       "  'Column Filter': 1,\n",
       "  'Container Output _Table_': 1,\n",
       "  'Joiner': 1,\n",
       "  'Nominal Value Row Filter': 1,\n",
       "  'Numeric Binner': 1,\n",
       "  'Reference Column Filter': 1,\n",
       "  'Row Filter': 1,\n",
       "  'String Manipulation': 1,\n",
       "  'String To Number': 1,\n",
       "  'Concatenate': 0,\n",
       "  'Reference Row Filter': 0}}"
      ]
     },
     "execution_count": 14,
     "metadata": {},
     "output_type": "execute_result"
    }
   ],
   "source": [
    "wfg.accumulate_workflow_nodes()"
   ]
  },
  {
   "cell_type": "markdown",
   "id": "a7fa2134",
   "metadata": {},
   "source": [
    "We can easily convert this to a pandas dataframe and after which to a csv file"
   ]
  },
  {
   "cell_type": "code",
   "execution_count": 16,
   "id": "24b97d2a",
   "metadata": {},
   "outputs": [
    {
     "data": {
      "text/html": [
       "<div>\n",
       "<style scoped>\n",
       "    .dataframe tbody tr th:only-of-type {\n",
       "        vertical-align: middle;\n",
       "    }\n",
       "\n",
       "    .dataframe tbody tr th {\n",
       "        vertical-align: top;\n",
       "    }\n",
       "\n",
       "    .dataframe thead th {\n",
       "        text-align: right;\n",
       "    }\n",
       "</style>\n",
       "<table border=\"1\" class=\"dataframe\">\n",
       "  <thead>\n",
       "    <tr style=\"text-align: right;\">\n",
       "      <th></th>\n",
       "      <th>CSV Reader</th>\n",
       "      <th>Column Filter</th>\n",
       "      <th>Concatenate</th>\n",
       "      <th>Container Output _Table_</th>\n",
       "      <th>Joiner</th>\n",
       "      <th>Nominal Value Row Filter</th>\n",
       "      <th>Numeric Binner</th>\n",
       "      <th>Reference Column Filter</th>\n",
       "      <th>Reference Row Filter</th>\n",
       "      <th>Row Filter</th>\n",
       "      <th>String Manipulation</th>\n",
       "      <th>String To Number</th>\n",
       "    </tr>\n",
       "  </thead>\n",
       "  <tbody>\n",
       "    <tr>\n",
       "      <th>11006381_complete</th>\n",
       "      <td>2</td>\n",
       "      <td>1</td>\n",
       "      <td>1</td>\n",
       "      <td>2</td>\n",
       "      <td>1</td>\n",
       "      <td>1</td>\n",
       "      <td>1</td>\n",
       "      <td>1</td>\n",
       "      <td>1</td>\n",
       "      <td>2</td>\n",
       "      <td>1</td>\n",
       "      <td>1</td>\n",
       "    </tr>\n",
       "    <tr>\n",
       "      <th>11006381_complete_more</th>\n",
       "      <td>2</td>\n",
       "      <td>1</td>\n",
       "      <td>1</td>\n",
       "      <td>3</td>\n",
       "      <td>1</td>\n",
       "      <td>1</td>\n",
       "      <td>1</td>\n",
       "      <td>1</td>\n",
       "      <td>1</td>\n",
       "      <td>2</td>\n",
       "      <td>1</td>\n",
       "      <td>1</td>\n",
       "    </tr>\n",
       "    <tr>\n",
       "      <th>11006381_partial_correct</th>\n",
       "      <td>2</td>\n",
       "      <td>1</td>\n",
       "      <td>0</td>\n",
       "      <td>1</td>\n",
       "      <td>1</td>\n",
       "      <td>1</td>\n",
       "      <td>1</td>\n",
       "      <td>1</td>\n",
       "      <td>0</td>\n",
       "      <td>1</td>\n",
       "      <td>1</td>\n",
       "      <td>1</td>\n",
       "    </tr>\n",
       "  </tbody>\n",
       "</table>\n",
       "</div>"
      ],
      "text/plain": [
       "                          CSV Reader  Column Filter  Concatenate  \\\n",
       "11006381_complete                  2              1            1   \n",
       "11006381_complete_more             2              1            1   \n",
       "11006381_partial_correct           2              1            0   \n",
       "\n",
       "                          Container Output _Table_  Joiner  \\\n",
       "11006381_complete                                2       1   \n",
       "11006381_complete_more                           3       1   \n",
       "11006381_partial_correct                         1       1   \n",
       "\n",
       "                          Nominal Value Row Filter  Numeric Binner  \\\n",
       "11006381_complete                                1               1   \n",
       "11006381_complete_more                           1               1   \n",
       "11006381_partial_correct                         1               1   \n",
       "\n",
       "                          Reference Column Filter  Reference Row Filter  \\\n",
       "11006381_complete                               1                     1   \n",
       "11006381_complete_more                          1                     1   \n",
       "11006381_partial_correct                        1                     0   \n",
       "\n",
       "                          Row Filter  String Manipulation  String To Number  \n",
       "11006381_complete                  2                    1                 1  \n",
       "11006381_complete_more             2                    1                 1  \n",
       "11006381_partial_correct           1                    1                 1  "
      ]
     },
     "execution_count": 16,
     "metadata": {},
     "output_type": "execute_result"
    }
   ],
   "source": [
    "df = pd.DataFrame.from_dict(d,orient='index')\n",
    "df.head()"
   ]
  },
  {
   "cell_type": "code",
   "execution_count": 20,
   "id": "e661faba",
   "metadata": {},
   "outputs": [],
   "source": [
    "df.to_csv('out.csv')"
   ]
  }
 ],
 "metadata": {
  "kernelspec": {
   "display_name": "Python 3 (ipykernel)",
   "language": "python",
   "name": "python3"
  },
  "language_info": {
   "codemirror_mode": {
    "name": "ipython",
    "version": 3
   },
   "file_extension": ".py",
   "mimetype": "text/x-python",
   "name": "python",
   "nbconvert_exporter": "python",
   "pygments_lexer": "ipython3",
   "version": "3.9.7"
  }
 },
 "nbformat": 4,
 "nbformat_minor": 5
}
