{
 "cells": [
  {
   "cell_type": "code",
   "execution_count": 1,
   "id": "ea259a21",
   "metadata": {},
   "outputs": [],
   "source": [
    "import knime\n",
    "from utils import workflowgrader\n",
    "import pandas as pd\n",
    "import numpy as np\n",
    "import os, re\n",
    "from pathlib import Path\n",
    "from IPython.display import SVG\n",
    "import xml.etree.ElementTree as ET"
   ]
  },
  {
   "cell_type": "code",
   "execution_count": 2,
   "id": "0057b5e7",
   "metadata": {},
   "outputs": [],
   "source": [
    "workspace = r\"C:/Users/s11006381/knime-workspace/small_gradespace\""
   ]
  },
  {
   "cell_type": "code",
   "execution_count": 3,
   "id": "baf83ab4",
   "metadata": {},
   "outputs": [
    {
     "name": "stdout",
     "output_type": "stream",
     "text": [
      "0 C:/Users/s11006381/knime-workspace/small_gradespace\\.metadata\n",
      "1 C:/Users/s11006381/knime-workspace/small_gradespace\\11006381_complete\n",
      "2 C:/Users/s11006381/knime-workspace/small_gradespace\\11006381_complete_more\n",
      "3 C:/Users/s11006381/knime-workspace/small_gradespace\\C5_Lab5_Task1_Data_prep_clean\n",
      "4 C:/Users/s11006381/knime-workspace/small_gradespace\\C5_Lab5_Task1_Data_prep_clean_with_COT\n",
      "5 C:/Users/s11006381/knime-workspace/small_gradespace\\Example Workflows\n"
     ]
    }
   ],
   "source": [
    "workflow_dir_list = [os.path.join(workspace,os.listdir(workspace)[i]) for i in range(len(os.listdir(workspace)))]\n",
    "for i,j in enumerate(workflow_dir_list):\n",
    "    print(i,j)"
   ]
  },
  {
   "cell_type": "code",
   "execution_count": 4,
   "id": "40a75919",
   "metadata": {},
   "outputs": [],
   "source": [
    "wfg = workflowgrader(workspace,'C5_Lab5_Task1_Data_prep_clean_with_COT')"
   ]
  },
  {
   "cell_type": "code",
   "execution_count": 6,
   "id": "e475a3e5",
   "metadata": {},
   "outputs": [
    {
     "name": "stderr",
     "output_type": "stream",
     "text": [
      "100%|███████████████████████████████████████████████████████████████████████████████████| 2/2 [00:00<00:00, 192.65it/s]\n"
     ]
    }
   ],
   "source": [
    "d = wfg.accumulate_workflow_nodes()"
   ]
  },
  {
   "cell_type": "code",
   "execution_count": 8,
   "id": "491fa9ba",
   "metadata": {},
   "outputs": [
    {
     "data": {
      "text/plain": [
       "{'11006381_complete': ['Column Filter',\n",
       "  'Concatenate',\n",
       "  'Container Output _Table_',\n",
       "  'Container Output _Table_',\n",
       "  'CSV Reader',\n",
       "  'CSV Reader',\n",
       "  'Joiner',\n",
       "  'Nominal Value Row Filter',\n",
       "  'Numeric Binner',\n",
       "  'Reference Column Filter',\n",
       "  'Reference Row Filter',\n",
       "  'Row Filter',\n",
       "  'Row Filter',\n",
       "  'String Manipulation',\n",
       "  'String To Number'],\n",
       " '11006381_complete_more': ['Column Filter',\n",
       "  'Concatenate',\n",
       "  'Container Output _Table_',\n",
       "  'Container Output _Table_',\n",
       "  'Container Output _Table_',\n",
       "  'CSV Reader',\n",
       "  'CSV Reader',\n",
       "  'Joiner',\n",
       "  'Nominal Value Row Filter',\n",
       "  'Numeric Binner',\n",
       "  'Reference Column Filter',\n",
       "  'Reference Row Filter',\n",
       "  'Row Filter',\n",
       "  'Row Filter',\n",
       "  'String Manipulation',\n",
       "  'String To Number']}"
      ]
     },
     "execution_count": 8,
     "metadata": {},
     "output_type": "execute_result"
    }
   ],
   "source": [
    "d"
   ]
  },
  {
   "cell_type": "code",
   "execution_count": 10,
   "id": "a0213684",
   "metadata": {},
   "outputs": [],
   "source": [
    "df = pd.Series(d,name='test')"
   ]
  },
  {
   "cell_type": "code",
   "execution_count": 11,
   "id": "bc743992",
   "metadata": {},
   "outputs": [
    {
     "data": {
      "text/plain": [
       "11006381_complete         [Column Filter, Concatenate, Container Output ...\n",
       "11006381_complete_more    [Column Filter, Concatenate, Container Output ...\n",
       "Name: test, dtype: object"
      ]
     },
     "execution_count": 11,
     "metadata": {},
     "output_type": "execute_result"
    }
   ],
   "source": [
    "df"
   ]
  },
  {
   "cell_type": "code",
   "execution_count": null,
   "id": "2701f05a",
   "metadata": {},
   "outputs": [],
   "source": [
    "def collect_workflow_nodes(path_to_knime_workflow):\n",
    "    for settings_filepath in Path(path_to_knime_workflow).glob(\"*/settings.xml\"):\n",
    "        node = re.split('[\\(\\)]',os.path.basename(settings_filepath.parent))[0].strip()\n",
    "        print(node)\n",
    "#         node_dist[os.path.basename(w)]"
   ]
  },
  {
   "cell_type": "code",
   "execution_count": null,
   "id": "b99066a4",
   "metadata": {},
   "outputs": [],
   "source": [
    "collect(workflow_dir_list[9])"
   ]
  },
  {
   "cell_type": "code",
   "execution_count": null,
   "id": "2df6c41a",
   "metadata": {},
   "outputs": [],
   "source": []
  },
  {
   "cell_type": "code",
   "execution_count": null,
   "id": "36c58b08",
   "metadata": {},
   "outputs": [],
   "source": []
  },
  {
   "cell_type": "code",
   "execution_count": null,
   "id": "809bfe75",
   "metadata": {},
   "outputs": [],
   "source": []
  },
  {
   "cell_type": "code",
   "execution_count": null,
   "id": "44b9fa35",
   "metadata": {},
   "outputs": [],
   "source": [
    "pd.DataFrame.from_dict(d, index=)"
   ]
  },
  {
   "cell_type": "code",
   "execution_count": null,
   "id": "471fde1a",
   "metadata": {},
   "outputs": [],
   "source": [
    "%%time\n",
    "with knime.Workflow(workflow_dir_list[9]) as wf:\n",
    "    wf.display_svg()                       # displays svg graphical workflow\n",
    "    wf.execute()                           # executes the workflow\n",
    "    output_tables = wf.data_table_outputs  # saves all the data collected in the COT nodes as a list of pandas dataframe \n",
    "    img = SVG(wf._adjust_svg())            # saves svg graphical workflow in img (for saving image to local drive)\n"
   ]
  },
  {
   "cell_type": "code",
   "execution_count": null,
   "id": "9ad63cc3",
   "metadata": {},
   "outputs": [],
   "source": []
  },
  {
   "cell_type": "code",
   "execution_count": null,
   "id": "228f3330",
   "metadata": {},
   "outputs": [],
   "source": []
  },
  {
   "cell_type": "code",
   "execution_count": null,
   "id": "6630c97e",
   "metadata": {},
   "outputs": [],
   "source": []
  }
 ],
 "metadata": {
  "kernelspec": {
   "display_name": "Python 3 (ipykernel)",
   "language": "python",
   "name": "python3"
  },
  "language_info": {
   "codemirror_mode": {
    "name": "ipython",
    "version": 3
   },
   "file_extension": ".py",
   "mimetype": "text/x-python",
   "name": "python",
   "nbconvert_exporter": "python",
   "pygments_lexer": "ipython3",
   "version": "3.9.7"
  }
 },
 "nbformat": 4,
 "nbformat_minor": 5
}
