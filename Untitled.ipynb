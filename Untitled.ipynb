{
 "cells": [
  {
   "cell_type": "code",
   "execution_count": 11,
   "id": "7647866a",
   "metadata": {},
   "outputs": [],
   "source": [
    "from pathlib import Path\n",
    "import os\n",
    "import glob"
   ]
  },
  {
   "cell_type": "code",
   "execution_count": 2,
   "id": "573b2f50",
   "metadata": {},
   "outputs": [],
   "source": [
    "workspace = r\"C:\\Users\\s11006381\\knime-workspace\\gradespace\""
   ]
  },
  {
   "cell_type": "code",
   "execution_count": 5,
   "id": "09c6b861",
   "metadata": {},
   "outputs": [],
   "source": [
    "l = []\n",
    "for x in os.listdir(workspace):\n",
    "    l.append(x)"
   ]
  },
  {
   "cell_type": "code",
   "execution_count": 6,
   "id": "9532a925",
   "metadata": {},
   "outputs": [
    {
     "data": {
      "text/plain": [
       "['.metadata',\n",
       " 'C5_Lab5_Task1_Data_prep_clean',\n",
       " 'C5_Lab5_Task1_Data_prep_clean_with_COT',\n",
       " 'Example Workflows',\n",
       " 's11006381_complete',\n",
       " 's11006381_complete_correct',\n",
       " 's11006381_complete_correct_wrong_varname',\n",
       " 's11006381_complete_wrong_annotation',\n",
       " 's11006381_partial_correct',\n",
       " 's11006381_partial_df_err',\n",
       " 's11006381_partial_wrong_varname']"
      ]
     },
     "execution_count": 6,
     "metadata": {},
     "output_type": "execute_result"
    }
   ],
   "source": [
    "l"
   ]
  },
  {
   "cell_type": "code",
   "execution_count": 12,
   "id": "243c74ba",
   "metadata": {},
   "outputs": [
    {
     "name": "stdout",
     "output_type": "stream",
     "text": [
      "C:\\Users\\s11006381\\knime-workspace\\gradespace\n"
     ]
    }
   ],
   "source": [
    "for f in glob.glob(workspace):\n",
    "    print(f)"
   ]
  },
  {
   "cell_type": "code",
   "execution_count": 9,
   "id": "9b680817",
   "metadata": {},
   "outputs": [],
   "source": [
    "for f in Path(workspace).glob(\"*/Example Workflows/*\"):\n",
    "    print(f)\n",
    "    \n"
   ]
  },
  {
   "cell_type": "code",
   "execution_count": 16,
   "id": "e488f36a",
   "metadata": {},
   "outputs": [
    {
     "data": {
      "text/plain": [
       "['C:\\\\Users\\\\s11006381\\\\knime-workspace\\\\gradespace\\\\Example Workflows']"
      ]
     },
     "execution_count": 16,
     "metadata": {},
     "output_type": "execute_result"
    }
   ],
   "source": [
    "glob.glob(os.path.join(workspace,'Example*'))"
   ]
  },
  {
   "cell_type": "code",
   "execution_count": 19,
   "id": "6faf6408",
   "metadata": {},
   "outputs": [
    {
     "data": {
      "text/plain": [
       "['C:\\\\Users\\\\s11006381\\\\knime-workspace\\\\gradespace\\\\s11006381_complete',\n",
       " 'C:\\\\Users\\\\s11006381\\\\knime-workspace\\\\gradespace\\\\s11006381_complete_correct',\n",
       " 'C:\\\\Users\\\\s11006381\\\\knime-workspace\\\\gradespace\\\\s11006381_complete_correct_wrong_varname',\n",
       " 'C:\\\\Users\\\\s11006381\\\\knime-workspace\\\\gradespace\\\\s11006381_complete_wrong_annotation',\n",
       " 'C:\\\\Users\\\\s11006381\\\\knime-workspace\\\\gradespace\\\\s11006381_partial_correct',\n",
       " 'C:\\\\Users\\\\s11006381\\\\knime-workspace\\\\gradespace\\\\s11006381_partial_df_err',\n",
       " 'C:\\\\Users\\\\s11006381\\\\knime-workspace\\\\gradespace\\\\s11006381_partial_wrong_varname']"
      ]
     },
     "execution_count": 19,
     "metadata": {},
     "output_type": "execute_result"
    }
   ],
   "source": [
    "glob.glob(os.path.join(workspace,'s[0-9]*'))"
   ]
  },
  {
   "cell_type": "code",
   "execution_count": null,
   "id": "aa7b092f",
   "metadata": {},
   "outputs": [],
   "source": []
  }
 ],
 "metadata": {
  "kernelspec": {
   "display_name": "Python 3 (ipykernel)",
   "language": "python",
   "name": "python3"
  },
  "language_info": {
   "codemirror_mode": {
    "name": "ipython",
    "version": 3
   },
   "file_extension": ".py",
   "mimetype": "text/x-python",
   "name": "python",
   "nbconvert_exporter": "python",
   "pygments_lexer": "ipython3",
   "version": "3.9.7"
  }
 },
 "nbformat": 4,
 "nbformat_minor": 5
}
