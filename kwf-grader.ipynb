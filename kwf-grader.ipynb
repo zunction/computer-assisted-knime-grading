{
 "cells": [
  {
   "cell_type": "code",
   "execution_count": 1,
   "id": "7647866a",
   "metadata": {},
   "outputs": [],
   "source": [
    "from pathlib import Path\n",
    "import os\n",
    "import glob\n",
    "from utils import collect_workflow_outputs, compare_COT_annotation"
   ]
  },
  {
   "cell_type": "code",
   "execution_count": 2,
   "id": "573b2f50",
   "metadata": {},
   "outputs": [],
   "source": [
    "workspace = r\"C:\\Users\\s11006381\\knime-workspace\\small_gradespace\""
   ]
  },
  {
   "cell_type": "code",
   "execution_count": 3,
   "id": "08e6bbbe",
   "metadata": {},
   "outputs": [],
   "source": [
    "gradespace_dir_list = glob.glob(os.path.join(workspace,'[0-9]*'))"
   ]
  },
  {
   "cell_type": "code",
   "execution_count": 4,
   "id": "97bbefc2",
   "metadata": {},
   "outputs": [
    {
     "data": {
      "text/plain": [
       "['.metadata',\n",
       " '11006381_complete',\n",
       " 'C5_Lab5_Task1_Data_prep_clean',\n",
       " 'C5_Lab5_Task1_Data_prep_clean_with_COT',\n",
       " 'Example Workflows']"
      ]
     },
     "execution_count": 4,
     "metadata": {},
     "output_type": "execute_result"
    }
   ],
   "source": [
    "os.listdir(workspace)"
   ]
  },
  {
   "cell_type": "code",
   "execution_count": 8,
   "id": "f33f2f2e",
   "metadata": {},
   "outputs": [],
   "source": [
    "class workflowgrader():\n",
    "    \"\"\"\n",
    "    \n",
    "    \"\"\"\n",
    "    def __init__(self, gradespace, reference_workflow):\n",
    "        # directory with the workflows to be graded    \n",
    "        self.gradespace = gradespace\n",
    "        # workflow to be used as a reference for grading\n",
    "        self.reference_workflow = reference_workflow\n",
    "        # retrieve abspath of workflows to be graded\n",
    "        self.workflow_paths = glob.glob(os.path.join(gradespace,'[0-9]*'))\n",
    "        \n",
    "        # assume that workflows are named using student ids\n",
    "        self.student_ids = [os.path.basename(p) for p in self.workflow_paths]\n",
    "        self.reference_output = collect_workflow_outputs(os.path.join(gradespace,reference_workflow))\n",
    "        self.question_keys = self.reference_output.keys()\n",
    "        self.workflow_outputs = None\n",
    "        \n",
    "    def __len__(self):\n",
    "        return len(self.workflow_outputs)\n",
    "    \n",
    "    def accumulate_workflow_outputs(self):\n",
    "        \"\"\"\n",
    "        \n",
    "        \"\"\"\n",
    "        \n",
    "        l = []\n",
    "\n",
    "        for wfp in self.workflow_paths:\n",
    "            l.append(collect_workflow_outputs(wfp))\n",
    "        \n",
    "        self.workflow_outputs = dict(zip(self.student_ids,l))\n",
    "        \n",
    "        return self.workflow_outputs\n",
    "        \n",
    "#     def compare_COT_annotation(self,d2):\n",
    "#         \"\"\"\n",
    "#         Compares the annotation of the COT nodes based on the dictionaries \n",
    "#         from `collect_workflow_outputs`. The dictionary d1 is the reference\n",
    "#         which d2 is compared against. \n",
    "        \n",
    "#         Note that this function does not commutes.\n",
    "        \n",
    "#         Args:\n",
    "#             d1, d2: dictionaries of form {node_annotation: dataframe_from_COT}.\n",
    "#         Returns:\n",
    "#             missing_ann: list of annotations of d1 which are not in d2.\n",
    "#             foreign_ann: list of annotations of d2 which are not in d1.\n",
    "#         \"\"\"\n",
    "#         foreign_ann = []\n",
    "#         missing_ann = []\n",
    "#         for k in self.ref_output:\n",
    "#             if not (k in list(d2.keys())):\n",
    "#                 missing_ann.append(k)\n",
    "#         for k in d2:\n",
    "#             if not (k in list(self.ref_output.keys())):\n",
    "#                 foreign_ann.append(k)\n",
    "#         return missing_ann, foreign_ann\n",
    "    \n",
    "#         def compare_COT_annotations(self):\n",
    "#         \"\"\"\n",
    "       \n",
    "#         \"\"\"\n",
    "#         for wfp in workflow_paths:\n",
    "            \n",
    "#             self.compare_COT_annotation()\n",
    "\n",
    "#         foreign_ann = []\n",
    "#         missing_ann = []\n",
    "#         for k in self.ref_output:\n",
    "#             if not (k in list(d2.keys())):\n",
    "#                 missing_ann.append(k)\n",
    "#         for k in d2:\n",
    "#             if not (k in list(self.ref_output.keys())):\n",
    "#                 foreign_ann.append(k)\n",
    "#         return missing_ann, foreign_ann"
   ]
  },
  {
   "cell_type": "code",
   "execution_count": 9,
   "id": "48885f22",
   "metadata": {},
   "outputs": [],
   "source": [
    "wf = workflowgrader(workspace,'C5_Lab5_Task1_Data_prep_clean_with_COT')"
   ]
  },
  {
   "cell_type": "code",
   "execution_count": 10,
   "id": "b1c0b896",
   "metadata": {},
   "outputs": [
    {
     "data": {
      "text/plain": [
       "{'11006381_complete': {'output1':         age  education-num  capital-gain  capital-loss  hours-per-week(new)\n",
       "  0    middle             11             0             0                 40.0\n",
       "  1    middle             10             0             0                 38.0\n",
       "  2    middle              4             0             0                 40.0\n",
       "  3    middle              9             0          1573                 35.0\n",
       "  4    middle              9             0             0                 40.0\n",
       "  ..      ...            ...           ...           ...                  ...\n",
       "  451  middle             13             0          1977                 60.0\n",
       "  452  middle              3             0             0                 40.0\n",
       "  453  middle             14             0             0                 50.0\n",
       "  454  middle              9             0             0                 50.0\n",
       "  455  middle              9             0             0                 45.0\n",
       "  \n",
       "  [456 rows x 5 columns],\n",
       "  'output_2':       age  fnlwgt  education  education-num         marital-status  \\\n",
       "  0      53  234721       11th              7     Married-civ-spouse   \n",
       "  1      49  160187        9th              5  Married-spouse-absent   \n",
       "  2      34  245487    7th-8th              4     Married-civ-spouse   \n",
       "  3      38   28887       11th              7     Married-civ-spouse   \n",
       "  4      35   76845        9th              5     Married-civ-spouse   \n",
       "  ...   ...     ...        ...            ...                    ...   \n",
       "  4697   44   71556    Masters             14     Married-civ-spouse   \n",
       "  4698   58  181974  Doctorate             16          Never-married   \n",
       "  4699   42  217597    HS-grad              9               Divorced   \n",
       "  4700   39  107302    HS-grad              9     Married-civ-spouse   \n",
       "  4701   81  120478  Assoc-voc             11               Divorced   \n",
       "  \n",
       "               occupation   relationship                race     sex  \\\n",
       "  0     Handlers-cleaners        Husband               Black    Male   \n",
       "  1         Other-service  Not-in-family               Black  Female   \n",
       "  2      Transport-moving        Husband  Amer-Indian-Eskimo    Male   \n",
       "  3                 Sales        Husband               White    Male   \n",
       "  4       Farming-fishing        Husband               Black    Male   \n",
       "  ...                 ...            ...                 ...     ...   \n",
       "  4697              Sales        Husband               White    Male   \n",
       "  4698     Prof-specialty  Not-in-family               White  Female   \n",
       "  4699              Sales      Own-child               White    Male   \n",
       "  4700     Prof-specialty        Husband               White    Male   \n",
       "  4701               None      Unmarried               White  Female   \n",
       "  \n",
       "        capital-gain  capital-loss hours-per-week native-country income  \\\n",
       "  0                0             0          40hpw  United-States  <=50K   \n",
       "  1                0             0          16hpw        Jamaica  <=50K   \n",
       "  2                0             0          45hpw         Mexico  <=50K   \n",
       "  3                0             0          50hpw  United-States  <=50K   \n",
       "  4                0             0          40hpw  United-States  <=50K   \n",
       "  ...            ...           ...            ...            ...    ...   \n",
       "  4697             0             0          50hpw           None   >50K   \n",
       "  4698             0             0          99hpw           None  <=50K   \n",
       "  4699             0             0          50hpw           None  <=50K   \n",
       "  4700             0             0          45hpw           None   >50K   \n",
       "  4701             0             0           1hpw           None  <=50K   \n",
       "  \n",
       "               workclass  hours-per-week(new)  \n",
       "  0              Private                 40.0  \n",
       "  1              Private                 16.0  \n",
       "  2              Private                 45.0  \n",
       "  3              Private                 50.0  \n",
       "  4          Federal-gov                 40.0  \n",
       "  ...                ...                  ...  \n",
       "  4697      Self-emp-inc                 50.0  \n",
       "  4698      Self-emp-inc                 99.0  \n",
       "  4699  Self-emp-not-inc                 50.0  \n",
       "  4700           Private                 45.0  \n",
       "  4701              None                  1.0  \n",
       "  \n",
       "  [4702 rows x 16 columns]}}"
      ]
     },
     "execution_count": 10,
     "metadata": {},
     "output_type": "execute_result"
    }
   ],
   "source": [
    "wf.accumulate_workflow_outputs()"
   ]
  },
  {
   "cell_type": "code",
   "execution_count": 11,
   "id": "406b5499",
   "metadata": {},
   "outputs": [
    {
     "data": {
      "text/plain": [
       "dict_keys(['11006381_complete'])"
      ]
     },
     "execution_count": 11,
     "metadata": {},
     "output_type": "execute_result"
    }
   ],
   "source": [
    "wf.workflow_outputs.keys()"
   ]
  },
  {
   "cell_type": "code",
   "execution_count": 12,
   "id": "41b009d6",
   "metadata": {},
   "outputs": [
    {
     "data": {
      "text/plain": [
       "1"
      ]
     },
     "execution_count": 12,
     "metadata": {},
     "output_type": "execute_result"
    }
   ],
   "source": [
    "len(wf)"
   ]
  },
  {
   "cell_type": "code",
   "execution_count": null,
   "id": "bee03bd3",
   "metadata": {},
   "outputs": [],
   "source": []
  },
  {
   "cell_type": "code",
   "execution_count": 5,
   "id": "e45c61ba",
   "metadata": {},
   "outputs": [
    {
     "data": {
      "text/plain": [
       "['11006381_complete',\n",
       " '11006381_complete_correct',\n",
       " '11006381_complete_correct_wrong_varname',\n",
       " '11006381_complete_wrong_annotation',\n",
       " '11006381_partial_correct',\n",
       " '11006381_partial_df_err',\n",
       " '11006381_partial_wrong_varname']"
      ]
     },
     "execution_count": 5,
     "metadata": {},
     "output_type": "execute_result"
    }
   ],
   "source": [
    "[os.path.basename(i) for i in gradespace_dir_list]"
   ]
  },
  {
   "cell_type": "code",
   "execution_count": 6,
   "id": "4797f467",
   "metadata": {},
   "outputs": [
    {
     "data": {
      "text/plain": [
       "'C:\\\\Users\\\\s11006381\\\\Documents\\\\Learnings\\\\computer-assisted-knime-grading\\\\11006381_complete'"
      ]
     },
     "execution_count": 6,
     "metadata": {},
     "output_type": "execute_result"
    }
   ],
   "source": [
    "os.path.abspath('11006381_complete')"
   ]
  },
  {
   "cell_type": "code",
   "execution_count": 7,
   "id": "0d587d15",
   "metadata": {},
   "outputs": [
    {
     "data": {
      "text/plain": [
       "['C:\\\\Users\\\\s11006381\\\\knime-workspace\\\\gradespace\\\\11006381_complete',\n",
       " 'C:\\\\Users\\\\s11006381\\\\knime-workspace\\\\gradespace\\\\11006381_complete_correct',\n",
       " 'C:\\\\Users\\\\s11006381\\\\knime-workspace\\\\gradespace\\\\11006381_complete_correct_wrong_varname',\n",
       " 'C:\\\\Users\\\\s11006381\\\\knime-workspace\\\\gradespace\\\\11006381_complete_wrong_annotation',\n",
       " 'C:\\\\Users\\\\s11006381\\\\knime-workspace\\\\gradespace\\\\11006381_partial_correct',\n",
       " 'C:\\\\Users\\\\s11006381\\\\knime-workspace\\\\gradespace\\\\11006381_partial_df_err',\n",
       " 'C:\\\\Users\\\\s11006381\\\\knime-workspace\\\\gradespace\\\\11006381_partial_wrong_varname']"
      ]
     },
     "execution_count": 7,
     "metadata": {},
     "output_type": "execute_result"
    }
   ],
   "source": [
    "gradespace_dir_list"
   ]
  },
  {
   "cell_type": "code",
   "execution_count": 5,
   "id": "09c6b861",
   "metadata": {},
   "outputs": [],
   "source": [
    "l = []\n",
    "for x in os.listdir(workspace):\n",
    "    l.append(x)"
   ]
  },
  {
   "cell_type": "code",
   "execution_count": 6,
   "id": "9532a925",
   "metadata": {},
   "outputs": [
    {
     "data": {
      "text/plain": [
       "['.metadata',\n",
       " 'C5_Lab5_Task1_Data_prep_clean',\n",
       " 'C5_Lab5_Task1_Data_prep_clean_with_COT',\n",
       " 'Example Workflows',\n",
       " 's11006381_complete',\n",
       " 's11006381_complete_correct',\n",
       " 's11006381_complete_correct_wrong_varname',\n",
       " 's11006381_complete_wrong_annotation',\n",
       " 's11006381_partial_correct',\n",
       " 's11006381_partial_df_err',\n",
       " 's11006381_partial_wrong_varname']"
      ]
     },
     "execution_count": 6,
     "metadata": {},
     "output_type": "execute_result"
    }
   ],
   "source": [
    "l"
   ]
  },
  {
   "cell_type": "code",
   "execution_count": 12,
   "id": "243c74ba",
   "metadata": {},
   "outputs": [
    {
     "name": "stdout",
     "output_type": "stream",
     "text": [
      "C:\\Users\\s11006381\\knime-workspace\\gradespace\n"
     ]
    }
   ],
   "source": [
    "for f in glob.glob(workspace):\n",
    "    print(f)"
   ]
  },
  {
   "cell_type": "code",
   "execution_count": 9,
   "id": "9b680817",
   "metadata": {},
   "outputs": [],
   "source": [
    "for f in Path(workspace).glob(\"*/Example Workflows/*\"):\n",
    "    print(f)\n",
    "    \n"
   ]
  },
  {
   "cell_type": "code",
   "execution_count": 16,
   "id": "e488f36a",
   "metadata": {},
   "outputs": [
    {
     "data": {
      "text/plain": [
       "['C:\\\\Users\\\\s11006381\\\\knime-workspace\\\\gradespace\\\\Example Workflows']"
      ]
     },
     "execution_count": 16,
     "metadata": {},
     "output_type": "execute_result"
    }
   ],
   "source": [
    "glob.glob(os.path.join(workspace,'Example*'))"
   ]
  },
  {
   "cell_type": "code",
   "execution_count": 19,
   "id": "6faf6408",
   "metadata": {},
   "outputs": [
    {
     "data": {
      "text/plain": [
       "['C:\\\\Users\\\\s11006381\\\\knime-workspace\\\\gradespace\\\\s11006381_complete',\n",
       " 'C:\\\\Users\\\\s11006381\\\\knime-workspace\\\\gradespace\\\\s11006381_complete_correct',\n",
       " 'C:\\\\Users\\\\s11006381\\\\knime-workspace\\\\gradespace\\\\s11006381_complete_correct_wrong_varname',\n",
       " 'C:\\\\Users\\\\s11006381\\\\knime-workspace\\\\gradespace\\\\s11006381_complete_wrong_annotation',\n",
       " 'C:\\\\Users\\\\s11006381\\\\knime-workspace\\\\gradespace\\\\s11006381_partial_correct',\n",
       " 'C:\\\\Users\\\\s11006381\\\\knime-workspace\\\\gradespace\\\\s11006381_partial_df_err',\n",
       " 'C:\\\\Users\\\\s11006381\\\\knime-workspace\\\\gradespace\\\\s11006381_partial_wrong_varname']"
      ]
     },
     "execution_count": 19,
     "metadata": {},
     "output_type": "execute_result"
    }
   ],
   "source": [
    "glob.glob(os.path.join(workspace,'[0-9]*'))"
   ]
  },
  {
   "cell_type": "code",
   "execution_count": null,
   "id": "aa7b092f",
   "metadata": {},
   "outputs": [],
   "source": []
  }
 ],
 "metadata": {
  "kernelspec": {
   "display_name": "Python 3 (ipykernel)",
   "language": "python",
   "name": "python3"
  },
  "language_info": {
   "codemirror_mode": {
    "name": "ipython",
    "version": 3
   },
   "file_extension": ".py",
   "mimetype": "text/x-python",
   "name": "python",
   "nbconvert_exporter": "python",
   "pygments_lexer": "ipython3",
   "version": "3.9.7"
  }
 },
 "nbformat": 4,
 "nbformat_minor": 5
}
